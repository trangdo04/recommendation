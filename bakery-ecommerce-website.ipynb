{
 "cells": [
  {
   "cell_type": "code",
   "execution_count": 1,
   "id": "3c674e69",
   "metadata": {
    "_cell_guid": "b1076dfc-b9ad-4769-8c92-a6c4dae69d19",
    "_uuid": "8f2839f25d086af736a60e9eeb907d3b93b6e0e5",
    "execution": {
     "iopub.execute_input": "2024-05-02T18:07:34.619014Z",
     "iopub.status.busy": "2024-05-02T18:07:34.618578Z",
     "iopub.status.idle": "2024-05-02T18:07:35.709936Z",
     "shell.execute_reply": "2024-05-02T18:07:35.708459Z"
    },
    "papermill": {
     "duration": 1.104448,
     "end_time": "2024-05-02T18:07:35.712720",
     "exception": false,
     "start_time": "2024-05-02T18:07:34.608272",
     "status": "completed"
    },
    "tags": []
   },
   "outputs": [
    {
     "name": "stdout",
     "output_type": "stream",
     "text": [
      "/kaggle/input/bakery/Bakery.csv\n"
     ]
    }
   ],
   "source": [
    "# This Python 3 environment comes with many helpful analytics libraries installed\n",
    "# It is defined by the kaggle/python Docker image: https://github.com/kaggle/docker-python\n",
    "# For example, here's several helpful packages to load\n",
    "\n",
    "import numpy as np # linear algebra\n",
    "import pandas as pd # data processing, CSV file I/O (e.g. pd.read_csv)\n",
    "import random\n",
    "# Input data files are available in the read-only \"../input/\" directory\n",
    "# For example, running this (by clicking run or pressing Shift+Enter) will list all files under the input directory\n",
    "\n",
    "import os\n",
    "for dirname, _, filenames in os.walk('/kaggle/input'):\n",
    "    for filename in filenames:\n",
    "        print(os.path.join(dirname, filename))\n",
    "\n",
    "# You can write up to 20GB to the current directory (/kaggle/working/) that gets preserved as output when you create a version using \"Save & Run All\" \n",
    "# You can also write temporary files to /kaggle/temp/, but they won't be saved outside of the current session"
   ]
  },
  {
   "cell_type": "code",
   "execution_count": 2,
   "id": "1ff31b14",
   "metadata": {
    "execution": {
     "iopub.execute_input": "2024-05-02T18:07:35.729862Z",
     "iopub.status.busy": "2024-05-02T18:07:35.729155Z",
     "iopub.status.idle": "2024-05-02T18:07:35.791876Z",
     "shell.execute_reply": "2024-05-02T18:07:35.790478Z"
    },
    "papermill": {
     "duration": 0.07429,
     "end_time": "2024-05-02T18:07:35.794624",
     "exception": false,
     "start_time": "2024-05-02T18:07:35.720334",
     "status": "completed"
    },
    "tags": []
   },
   "outputs": [],
   "source": [
    "data = pd.read_csv('/kaggle/input/bakery/Bakery.csv')"
   ]
  },
  {
   "cell_type": "code",
   "execution_count": 3,
   "id": "b13a729a",
   "metadata": {
    "execution": {
     "iopub.execute_input": "2024-05-02T18:07:35.812072Z",
     "iopub.status.busy": "2024-05-02T18:07:35.811068Z",
     "iopub.status.idle": "2024-05-02T18:07:35.840208Z",
     "shell.execute_reply": "2024-05-02T18:07:35.838878Z"
    },
    "papermill": {
     "duration": 0.041438,
     "end_time": "2024-05-02T18:07:35.843397",
     "exception": false,
     "start_time": "2024-05-02T18:07:35.801959",
     "status": "completed"
    },
    "tags": []
   },
   "outputs": [],
   "source": [
    "# List of 500 English personal names\n",
    "names = [\n",
    "    \"Aaron\", \"Abigail\", \"Adam\", \"Adrian\", \"Agnes\", \"Alan\", \"Albert\", \"Alfred\", \"Alice\", \"Alicia\",\n",
    "    \"Alicia\", \"Allan\", \"Allison\", \"Alyssa\", \"Amanda\", \"Amber\", \"Amy\", \"Andrea\", \"Andrew\", \"Angela\",\n",
    "    \"Angelina\", \"Anita\", \"Ann\", \"Anna\", \"Anne\", \"Annie\", \"Anthony\", \"Antonio\", \"April\", \"Arthur\",\n",
    "    \"Ashley\", \"Austin\", \"Barbara\", \"Barry\", \"Becky\", \"Benjamin\", \"Bernard\", \"Bernice\", \"Beth\", \"Beverly\",\n",
    "    \"Bill\", \"Billy\", \"Blake\", \"Bob\", \"Bobby\", \"Bonnie\", \"Brad\", \"Brandon\", \"Brenda\", \"Brendan\",\n",
    "    \"Brent\", \"Brett\", \"Brian\", \"Brianna\", \"Brittany\", \"Bruce\", \"Bryan\", \"Caleb\", \"Cameron\", \"Carl\",\n",
    "    \"Carla\", \"Carlos\", \"Carmen\", \"Carol\", \"Caroline\", \"Carrie\", \"Casey\", \"Catherine\", \"Cathy\", \"Cecilia\",\n",
    "    \"Chad\", \"Charles\", \"Charlie\", \"Charlotte\", \"Cheryl\", \"Chris\", \"Christian\", \"Christine\", \"Christopher\", \"Chuck\",\n",
    "    \"Cindy\", \"Claire\", \"Clara\", \"Clarence\", \"Clark\", \"Claudia\", \"Clayton\", \"Cliff\", \"Cody\", \"Colleen\",\n",
    "    \"Connie\", \"Connor\", \"Corey\", \"Courtney\", \"Craig\", \"Crystal\", \"Curtis\", \"Cynthia\", \"Daisy\", \"Dale\",\n",
    "    \"Dan\", \"Dana\", \"Daniel\", \"Danielle\", \"Danny\", \"Darlene\", \"Darren\", \"Dave\", \"David\", \"Debbie\",\n",
    "    \"Deborah\", \"Debra\", \"Denise\", \"Dennis\", \"Derek\", \"Diana\", \"Diane\", \"Dianne\", \"Don\", \"Donald\",\n",
    "    \"Donna\", \"Doris\", \"Dorothy\", \"Doug\", \"Douglas\", \"Drew\", \"Dustin\", \"Dwayne\", \"Dylan\", \"Earl\",\n",
    "    \"Ed\", \"Eddie\", \"Edith\", \"Edmund\", \"Edward\", \"Edwin\", \"Elaine\", \"Eleanor\", \"Elias\", \"Elijah\",\n",
    "    \"Elisabeth\", \"Elizabeth\", \"Ella\", \"Ellen\", \"Elliott\", \"Ellis\", \"Emily\", \"Emma\", \"Eric\", \"Erica\",\n",
    "    \"Erik\", \"Erin\", \"Ernest\", \"Ethan\", \"Eugene\", \"Evan\", \"Evelyn\", \"Faith\", \"Fannie\", \"Felicia\",\n",
    "    \"Felix\", \"Fiona\", \"Florence\", \"Floyd\", \"Frances\", \"Frank\", \"Fred\", \"Frederick\", \"Gabriel\", \"Gail\",\n",
    "    \"Garry\", \"Gary\", \"Gene\", \"Geoff\", \"George\", \"Georgia\", \"Gerald\", \"Gertrude\", \"Gilbert\", \"Gina\",\n",
    "    \"Gladys\", \"Glenda\", \"Glenn\", \"Gloria\", \"Gordon\", \"Grace\", \"Grant\", \"Greg\", \"Gregory\", \"Gretchen\",\n",
    "    \"Haley\", \"Hannah\", \"Harold\", \"Harry\", \"Heather\", \"Heidi\", \"Helen\", \"Henry\", \"Herbert\", \"Herman\",\n",
    "    \"Hilary\", \"Holly\", \"Howard\", \"Hugh\", \"Ian\", \"Ingrid\", \"Irene\", \"Irvin\", \"Isabel\", \"Isabelle\",\n",
    "    \"Isaac\", \"Isabella\", \"Isabella\", \"Jack\", \"Jackie\", \"Jackson\", \"Jacob\", \"Jacqueline\", \"Jaclyn\", \"Jacques\",\n",
    "    \"Jake\", \"James\", \"Jamie\", \"Janet\", \"Janie\", \"Jason\", \"Jean\", \"Jeanette\", \"Jeff\", \"Jeffrey\",\n",
    "    \"Jenna\", \"Jennifer\", \"Jenny\", \"Jeremy\", \"Jerry\", \"Jesse\", \"Jessica\", \"Jessie\", \"Jill\", \"Jim\",\n",
    "    \"Jimmy\", \"Joan\", \"Joanna\", \"Joanne\", \"Joe\", \"Joel\", \"John\", \"Johnny\", \"Jon\", \"Jonathan\",\n",
    "    \"Jordan\", \"Jose\", \"Joseph\", \"Josephine\", \"Josh\", \"Joshua\", \"Joyce\", \"Juan\", \"Judith\", \"Judy\",\n",
    "    \"Julia\", \"Julian\", \"Julie\", \"June\", \"Justin\", \"Karen\", \"Karla\", \"Kate\", \"Kathleen\", \"Kathryn\",\n",
    "    \"Katie\", \"Katrina\", \"Kay\", \"Keith\", \"Kelly\", \"Ken\", \"Kenneth\", \"Kevin\", \"Kim\", \"Kimberly\",\n",
    "    \"Kirk\", \"Kristin\", \"Kristina\", \"Kristy\", \"Kyle\", \"Larry\", \"Laura\", \"Lauren\", \"Laurence\", \"Lawrence\",\n",
    "    \"Leah\", \"Lee\", \"Leona\", \"Leonard\", \"Leslie\", \"Lester\", \"Lillian\", \"Linda\", \"Lindsay\", \"Lindsey\",\n",
    "    \"Lisa\", \"Liz\", \"Lloyd\", \"Logan\", \"Lori\", \"Louis\", \"Louise\", \"Lucas\", \"Lucy\", \"Luis\",\n",
    "    \"Luke\", \"Lydia\", \"Lyle\", \"Lynn\", \"Lynnette\", \"Mabel\", \"Mack\", \"Madeline\", \"Madison\", \"Maggie\",\n",
    "    \"Malcolm\", \"Mandy\", \"Manuel\", \"Marc\", \"Marcus\", \"Margaret\", \"Maria\", \"Marian\", \"Marilyn\", \"Mark\",\n",
    "    \"Marlene\", \"Marshall\", \"Martin\", \"Martha\", \"Marvin\", \"Mary\", \"Mathew\", \"Matthew\", \"Maureen\", \"Max\",\n",
    "    \"Maxwell\", \"Megan\", \"Melanie\", \"Melinda\", \"Melissa\", \"Michael\", \"Michele\", \"Michelle\", \"Miguel\", \"Mike\",\n",
    "    \"Mildred\", \"Mindy\", \"Miranda\", \"Mitchell\", \"Molly\", \"Monica\", \"Morris\", \"Nancy\", \"Natalie\", \"Natasha\",\n",
    "    \"Nathan\", \"Nathaniel\", \"Neal\", \"Neil\", \"Nelson\", \"Nicholas\", \"Nick\", \"Nicole\", \"Nina\", \"Noah\",\n",
    "    \"Noelle\", \"Norman\", \"Olivia\", \"Oscar\", \"Owen\", \"Pam\", \"Pamela\", \"Patricia\", \"Patrick\", \"Patsy\",\n",
    "    \"Paul\", \"Paula\", \"Penny\", \"Peter\", \"Philip\", \"Phyllis\", \"Priscilla\", \"Quentin\", \"Rachel\", \"Ralph\",\n",
    "    \"Randy\", \"Ray\", \"Raymond\", \"Rebecca\", \"Reginald\", \"Renee\", \"Rex\", \"Rhonda\", \"Ricardo\", \"Richard\",\n",
    "    \"Rick\", \"Ricky\", \"Rita\", \"Robert\", \"Roberta\", \"Robin\", \"Roger\", \"Ron\", \"Ronald\", \"Rosa\",\n",
    "    \"Rosalie\", \"Rose\", \"Rosemary\", \"Roy\", \"Ruben\", \"Ruby\", \"Russell\", \"Ruth\", \"Ryan\", \"Sabrina\",\n",
    "    \"Sally\", \"Sam\", \"Samuel\", \"Sandra\", \"Sandy\", \"Sara\", \"Sarah\", \"Scott\", \"Sean\", \"Seth\",\n",
    "    \"Shane\", \"Shannon\", \"Shari\", \"Sharon\", \"Shaun\", \"Shawn\", \"Sheila\", \"Shelley\", \"Shelly\", \"Sherry\",\n",
    "    \"Shirley\", \"Sidney\", \"Simon\", \"Sonia\", \"Sonya\", \"Sophia\", \"Spencer\", \"Stacey\", \"Stacy\", \"Stanley\",\n",
    "    \"Stefan\", \"Stephanie\", \"Stephen\", \"Steve\", \"Steven\", \"Stuart\", \"Sue\", \"Susan\", \"Susie\", \"Sylvia\",\n",
    "    \"Tabitha\", \"Tammy\", \"Tanya\", \"Tara\", \"Tasha\", \"Tatiana\", \"Ted\", \"Teresa\", \"Terrance\", \"Terry\",\n",
    "    \"Theodore\", \"Theresa\", \"Thomas\", \"Tim\", \"Timothy\", \"Todd\", \"Tom\", \"Tommy\", \"Tony\", \"Travis\",\n",
    "    \"Trevor\", \"Trina\", \"Trisha\", \"Tyler\", \"Valerie\", \"Vanessa\", \"Vernon\", \"Victor\", \"Vincent\", \"Virginia\",\n",
    "    \"Vivian\", \"Wade\", \"Walt\", \"Walter\", \"Warren\", \"Wayne\", \"Wendy\", \"Wesley\", \"William\", \"Willie\",\n",
    "    \"Wilson\", \"Yolanda\", \"Yvonne\", \"Zachary\", \"Zach\"]\n"
   ]
  },
  {
   "cell_type": "code",
   "execution_count": 4,
   "id": "cb5f10b3",
   "metadata": {
    "execution": {
     "iopub.execute_input": "2024-05-02T18:07:35.859807Z",
     "iopub.status.busy": "2024-05-02T18:07:35.859368Z",
     "iopub.status.idle": "2024-05-02T18:07:35.867965Z",
     "shell.execute_reply": "2024-05-02T18:07:35.866798Z"
    },
    "papermill": {
     "duration": 0.019728,
     "end_time": "2024-05-02T18:07:35.870344",
     "exception": false,
     "start_time": "2024-05-02T18:07:35.850616",
     "status": "completed"
    },
    "tags": []
   },
   "outputs": [
    {
     "data": {
      "text/plain": [
       "505"
      ]
     },
     "execution_count": 4,
     "metadata": {},
     "output_type": "execute_result"
    }
   ],
   "source": [
    "len(names)"
   ]
  },
  {
   "cell_type": "code",
   "execution_count": 5,
   "id": "6f0a6a5a",
   "metadata": {
    "execution": {
     "iopub.execute_input": "2024-05-02T18:07:35.887285Z",
     "iopub.status.busy": "2024-05-02T18:07:35.886647Z",
     "iopub.status.idle": "2024-05-02T18:07:35.898757Z",
     "shell.execute_reply": "2024-05-02T18:07:35.897757Z"
    },
    "papermill": {
     "duration": 0.023797,
     "end_time": "2024-05-02T18:07:35.901510",
     "exception": false,
     "start_time": "2024-05-02T18:07:35.877713",
     "status": "completed"
    },
    "tags": []
   },
   "outputs": [],
   "source": [
    "data['User'] = np.nan"
   ]
  },
  {
   "cell_type": "markdown",
   "id": "3ec164a8",
   "metadata": {
    "papermill": {
     "duration": 0.006994,
     "end_time": "2024-05-02T18:07:35.915914",
     "exception": false,
     "start_time": "2024-05-02T18:07:35.908920",
     "status": "completed"
    },
    "tags": []
   },
   "source": [
    "## Do not run this function again since it will rerandom data"
   ]
  },
  {
   "cell_type": "code",
   "execution_count": 6,
   "id": "8900caa4",
   "metadata": {
    "execution": {
     "iopub.execute_input": "2024-05-02T18:07:35.933245Z",
     "iopub.status.busy": "2024-05-02T18:07:35.932406Z",
     "iopub.status.idle": "2024-05-02T18:07:36.242149Z",
     "shell.execute_reply": "2024-05-02T18:07:36.240739Z"
    },
    "papermill": {
     "duration": 0.322086,
     "end_time": "2024-05-02T18:07:36.245193",
     "exception": false,
     "start_time": "2024-05-02T18:07:35.923107",
     "status": "completed"
    },
    "tags": []
   },
   "outputs": [],
   "source": [
    "# Hàm để gán tên ngẫu nhiên từ danh sách\n",
    "def fill_random_name(row):\n",
    "    if pd.isna(row['User']):  # Kiểm tra nếu giá trị là NaN\n",
    "        return random.choice(names)  # Chọn tên ngẫu nhiên từ danh sách\n",
    "    else:\n",
    "        return row['User']\n",
    "\n",
    "# Áp dụng hàm để điền vào cột 'User'\n",
    "data['User'] = data.apply(fill_random_name, axis=1)"
   ]
  },
  {
   "cell_type": "code",
   "execution_count": 7,
   "id": "4aaba459",
   "metadata": {
    "execution": {
     "iopub.execute_input": "2024-05-02T18:07:36.262364Z",
     "iopub.status.busy": "2024-05-02T18:07:36.261911Z",
     "iopub.status.idle": "2024-05-02T18:07:36.268306Z",
     "shell.execute_reply": "2024-05-02T18:07:36.267020Z"
    },
    "papermill": {
     "duration": 0.018333,
     "end_time": "2024-05-02T18:07:36.270990",
     "exception": false,
     "start_time": "2024-05-02T18:07:36.252657",
     "status": "completed"
    },
    "tags": []
   },
   "outputs": [],
   "source": [
    "data['Rating'] = np.nan"
   ]
  },
  {
   "cell_type": "markdown",
   "id": "922696de",
   "metadata": {
    "papermill": {
     "duration": 0.007582,
     "end_time": "2024-05-02T18:07:36.286424",
     "exception": false,
     "start_time": "2024-05-02T18:07:36.278842",
     "status": "completed"
    },
    "tags": []
   },
   "source": [
    "## Do not run this function again "
   ]
  },
  {
   "cell_type": "code",
   "execution_count": 8,
   "id": "5e7e7c20",
   "metadata": {
    "execution": {
     "iopub.execute_input": "2024-05-02T18:07:36.304150Z",
     "iopub.status.busy": "2024-05-02T18:07:36.303712Z",
     "iopub.status.idle": "2024-05-02T18:07:36.641865Z",
     "shell.execute_reply": "2024-05-02T18:07:36.640467Z"
    },
    "papermill": {
     "duration": 0.350914,
     "end_time": "2024-05-02T18:07:36.645249",
     "exception": false,
     "start_time": "2024-05-02T18:07:36.294335",
     "status": "completed"
    },
    "tags": []
   },
   "outputs": [],
   "source": [
    "# Hàm để điền giá trị ngẫu nhiên từ 0.0 đến 5.0\n",
    "def fill_random_rating(row):\n",
    "    if pd.isna(row['Rating']):  # Nếu giá trị là NaN\n",
    "        return random.randint(0, 5)  # Chọn số ngẫu nhiên từ 0.0 đến 5.0, làm tròn đến 1 chữ số thập phân\n",
    "    else:\n",
    "        return row['Rating']\n",
    "\n",
    "# Áp dụng hàm để điền vào cột 'Ratings'\n",
    "data['Rating'] = data.apply(fill_random_rating, axis=1)"
   ]
  },
  {
   "cell_type": "code",
   "execution_count": 9,
   "id": "c6b12c64",
   "metadata": {
    "execution": {
     "iopub.execute_input": "2024-05-02T18:07:36.663384Z",
     "iopub.status.busy": "2024-05-02T18:07:36.662934Z",
     "iopub.status.idle": "2024-05-02T18:07:36.687200Z",
     "shell.execute_reply": "2024-05-02T18:07:36.685760Z"
    },
    "papermill": {
     "duration": 0.037432,
     "end_time": "2024-05-02T18:07:36.690517",
     "exception": false,
     "start_time": "2024-05-02T18:07:36.653085",
     "status": "completed"
    },
    "tags": []
   },
   "outputs": [],
   "source": [
    "cake_overview = {\n",
    "    \"Bread\": \"A staple food made from flour, water, and yeast, often baked until golden brown with a soft interior.\",\n",
    "    \"Scandinavian\": \"Reflecting the flavors of Northern Europe, Scandinavian cakes often feature berries, nuts, and wholesome grains.\",\n",
    "    \"Hot chocolate\": \"Though not a cake in the traditional sense, hot chocolate complements cakes well, offering a warm and indulgent beverage often topped with whipped cream or marshmallows.\",\n",
    "    \"Jam\": \"A sweet spread made from fruits, commonly used in cake fillings, adding fruity flavors and moisture.\",\n",
    "    \"Cookies\": \"Bite-sized baked treats with endless variations, from chewy chocolate chip to delicate shortbread.\",\n",
    "    \"Muffin\": \"Individual-sized quick breads, often sweetened and flavored with fruits, nuts, or chocolate chips.\",\n",
    "    \"Coffee\": \"Cakes infused with the rich flavor of coffee, providing a delightful combination of sweetness and caffeine.\",\n",
    "    \"Pastry\": \"Delicate, flaky pastries filled with sweet or savory ingredients, ranging from fruit to cheese and meats.\",\n",
    "    \"Medialuna\": \"A crescent-shaped pastry originating from Argentina, often sweetened and glazed.\",\n",
    "    \"Tea\": \"Cakes perfect for pairing with a cup of tea, offering a balance of sweetness and lightness.\",\n",
    "    \"Tartine\": \"Open-faced sandwiches or cakes topped with various spreads, fruits, or vegetables, often served as a light meal or snack.\",\n",
    "    \"Basket\": \"Edible baskets made from cake or pastry dough, filled with fruits, creams, or other confections.\",\n",
    "    \"Mineral water\": \"A refreshing beverage often served alongside cakes to cleanse the palate and provide hydration.\",\n",
    "    \"Farm House\": \"Rustic cakes reminiscent of farmhouse baking, featuring simple, wholesome ingredients like oats, nuts, and dried fruits.\",\n",
    "    \"Fudge\": \"Dense, sweet confections made from sugar, butter, and milk or cream, often flavored with chocolate or nuts.\",\n",
    "    \"Juice\": \"Refreshing fruit or vegetable juices served alongside cakes to provide a burst of flavor and hydration.\",\n",
    "    \"Ella's Kitchen Pouches\": \"Convenient, portable snacks for infants and toddlers, offering a variety of pureed fruits and vegetables.\",\n",
    "    \"Victorian Sponge\": \"A classic British cake consisting of two layers of sponge cake sandwiched together with jam and whipped cream.\",\n",
    "    \"Frittata\": \"Italian egg-based dishes similar to omelets, often filled with vegetables, cheese, and meats.\",\n",
    "    \"Hearty & Seasonal\": \"Cakes made with seasonal ingredients and hearty flavors, perfect for cooler weather or holiday celebrations.\",\n",
    "    \"Soup\": \"Warm, comforting soups served alongside cakes for a satisfying meal.\",\n",
    "    \"Pick and Mix Bowls\": \"Customizable bowls filled with a variety of cake bites, candies, fruits, and toppings, allowing for personalized flavor combinations.\",\n",
    "    \"Smoothies\": \"Refreshing blended beverages made from fruits, vegetables, and yogurt or milk, perfect for pairing with cakes for a light meal or snack.\",\n",
    "    \"Cake\": \"Sweet baked goods made from a mixture of flour, sugar, eggs, and butter or oil, often flavored with extracts, fruits, or spices.\",\n",
    "    \"Mighty Protein\": \"Protein-rich cakes or snacks designed to provide sustained energy and muscle recovery.\",\n",
    "    \"Chicken sand\": \"Sandwiches filled with tender, seasoned chicken and a variety of toppings, perfect for a quick and satisfying meal.\",\n",
    "    \"Coke\": \"A popular carbonated beverage often served alongside cakes to provide a sweet and fizzy contrast.\",\n",
    "    \"My-5 Fruit Shoot\": \"Fruit-flavored drinks enriched with essential vitamins and minerals, perfect for on-the-go snacking.\",\n",
    "    \"Focaccia\": \"Italian flatbread flavored with herbs and olive oil, often served as an appetizer or accompaniment to meals.\",\n",
    "    \"Sandwich\": \"Layers of bread filled with meats, cheeses, vegetables, and condiments, offering a portable and satisfying meal option.\",\n",
    "    \"Alfajores\": \"Traditional South American cookies made from delicate shortbread filled with dulce de leche or jam, often coated in powdered sugar or dipped in chocolate.\",\n",
    "    \"Eggs\": \"Versatile and nutritious, eggs are used in a variety of cake recipes for moisture, structure, and richness.\",\n",
    "    \"Brownie\": \"Rich, fudgy chocolate cakes with a dense texture, often studded with nuts or chocolate chips.\",\n",
    "    \"Dulce de Leche\": \"A sweet caramel-like sauce made from simmering sweetened milk, often used as a filling or topping for cakes.\",\n",
    "    \"Honey\": \"A natural sweetener made by bees from flower nectar, often used in cake recipes for sweetness and moisture.\",\n",
    "    \"The BART\": \"A hearty sandwich made with bacon, avocado, rocket (arugula), and tomato, perfect for a satisfying lunch or brunch option.\",\n",
    "    \"Granola\": \"Crunchy, sweetened oats mixed with nuts, seeds, and dried fruits, often served as a topping for yogurt or baked into cakes for added texture and flavor.\",\n",
    "    \"Fairy Doors\": \"Whimsical cakes decorated to resemble enchanted fairy doors, perfect for children's parties and fantasy-themed events.\",\n",
    "    \"Empanadas\": \"Latin American pastries filled with a variety of savory ingredients, such as meats, cheeses, and vegetables, enclosed in a flaky pastry crust.\",\n",
    "    \"Keeping It Local\": \"Cakes made with locally sourced ingredients, supporting community farmers and producers while offering fresh and seasonal flavors.\",\n",
    "    \"Art Tray\": \"Edible art pieces made from cake, icing, and decorative elements, perfect for special occasions and celebrations.\",\n",
    "    \"Bowl Nic Pitt\": \"Hearty bowls filled with roasted meats, grains, vegetables, and sauces, offering a satisfying and balanced meal option.\",\n",
    "    \"Bread Pudding\": \"A comforting dessert made from leftover bread soaked in a custard mixture and baked until golden and set.\",\n",
    "    \"Adjustment\": \"Customizable cakes allowing customers to adjust ingredients, flavors, and toppings to suit their preferences.\",\n",
    "    \"Truffles\": \"Decadent chocolate confections made from ganache rolled in cocoa powder, nuts, or other coatings, perfect for indulgent treats or gifts.\",\n",
    "    \"Chimichurri Oil\": \"A vibrant green sauce made from parsley, garlic, vinegar, and olive oil, often used as a marinade or condiment for meats and vegetables.\",\n",
    "    \"Bacon\": \"Crispy strips of cured pork belly or back, often used as a savory topping or filling for cakes, sandwiches, and salads.\",\n",
    "    \"Spread\": \"Versatile spreads made from fruits, nuts, or vegetables, perfect for adding flavor and moisture to cakes, sandwiches, and snacks.\",\n",
    "    \"Kids biscuit\": \"Miniature biscuits designed with fun shapes and flavors to appeal to children, perfect for lunchboxes or snacks.\",\n",
    "    \"Siblings\": \"Assorted cakes or snacks meant for sharing among family members or friends, fostering a sense of togetherness and community.\",\n",
    "    \"Caramel bites\": \"Small, bite-sized confections made from caramelized sugar, butter, and cream, often coated in chocolate or nuts.\",\n",
    "    \"Jammie Dodgers\": \"British sandwich cookies filled with jam and topped with a decorative heart, perfect for tea time or snacking.\",\n",
    "    \"Tiffin\": \"A British confection made from crushed biscuits, dried fruits, nuts, and chocolate, perfect for a sweet and indulgent treat.\",\n",
    "    \"Olum & polenta\": \"Cakes made with olum, a traditional African ingredient, and polenta, offering a unique blend of flavors and textures.\",\n",
    "    \"Polenta\": \"A versatile ingredient made from ground cornmeal, often used in cakes and breads for a hearty texture and slightly sweet flavor.\",\n",
    "    \"The Nomad\": \"A hearty sandwich or wrap filled with flavorful meats, cheeses, vegetables, and sauces, perfect for on-the-go eating.\",\n",
    "    \"Hack the stack\": \"Innovative cakes featuring stacked layers of cake, frosting, and fillings, offering a visually stunning and indulgent dessert experience.\",\n",
    "    \"Bakewell\": \"A traditional British tart made with a shortcrust pastry base, frangipane filling, and topped with a layer of raspberry jam and almond-flavored icing.\",\n",
    "    \"Lemon and coconut\": \"Refreshing cakes infused with the tangy flavor of lemon and the tropical sweetness of coconut, perfect for summer celebrations.\",\n",
    "    \"Toast\": \"Slices of bread toasted until golden brown and crisp, often served with butter, jam, or other toppings for breakfast or snacks.\",\n",
    "    \"Scone\": \"Traditional British baked goods resembling small, lightly sweetened biscuits, often served with clotted cream and jam for afternoon tea.\",\n",
    "    \"Crepes\": \"Thin, delicate pancakes made from a simple batter of flour, eggs, milk, and butter, perfect for wrapping around sweet or savory fillings.\",\n",
    "    \"Vegan mincepie\": \"Plant-based mince pies filled with a spiced fruit mixture, often enjoyed during the holiday season as a festive treat.\",\n",
    "    \"Bare Popcorn\": \"Plain popcorn kernels popped and served without added butter or seasoning, offering a light and crunchy snack option.\",\n",
    "    \"Muesli\": \"A nutritious breakfast cereal made from rolled oats, dried fruits, nuts, and seeds, often served with milk or yogurt.\",\n",
    "    \"Crisps\": \"Thin slices of potato fried until crisp and golden brown, often served as a savory snack alongside cakes and sandwiches.\",\n",
    "    \"Pintxos\": \"Small, flavorful snacks popular in the Basque region of Spain, often served on skewers or toothpicks for easy eating.\",\n",
    "    \"Gingerbread syrup\": \"A sweet and spicy syrup made from ginger, sugar, and water, perfect for flavoring cakes, drinks, and desserts.\",\n",
    "    \"Panatone\": \"A traditional Italian sweet bread loaf studded with dried fruits and nuts, often enjoyed during the holiday season.\",\n",
    "    \"Brioche and salami\": \"A savory twist on classic brioche bread, filled with slices of salami for a satisfying and flavorful snack or meal.\",\n",
    "    \"Afternoon with the baker\": \"A selection of cakes, pastries, and sandwiches perfect for enjoying during a leisurely afternoon break.\",\n",
    "    \"Salad\": \"Fresh and crisp salads made with a variety of greens, vegetables, fruits, and dressings, offering a light and healthy accompaniment to cakes.\",\n",
    "    \"Chicken Stew\": \"Hearty and comforting stews made with tender chicken, vegetables, and aromatic herbs, perfect for warming up on cold days.\",\n",
    "    \"Spanish Brunch\": \"A leisurely mid-morning meal featuring a variety of Spanish dishes, such as tortilla espanola, chorizo, and pan con tomate.\",\n",
    "    \"Raspberry shortbread sandwich\": \"Delicate shortbread cookies filled with raspberry jam, perfect for afternoon tea or as a sweet snack.\",\n",
    "    \"Extra Salami or Feta\": \"Additional toppings for sandwiches or salads, offering a burst of flavor and protein.\",\n",
    "    \"Duck egg\": \"Rich and flavorful eggs from ducks, often used in baking for added richness and moisture.\",\n",
    "    \"Baguette\": \"A long, thin loaf of French bread with a crisp crust and soft interior, perfect for making sandwiches or serving with soups and salads.\",\n",
    "    \"Valentine's card\": \"Edible cards made from wafer paper or chocolate, decorated with romantic messages or designs, perfect for Valentine's Day.\",\n",
    "    \"Tshirt\": \"Non-edible merchandise featuring cake-themed designs, perfect for fans of baking and sweet treats.\",\n",
    "    \"Vegan Feast\": \"Plant-based cakes and dishes perfect for vegans and those looking for cruelty-free alternatives to traditional cakes.\",\n",
    "    \"Postcard\": \"Edible postcards made from wafer paper or fondant, decorated with colorful designs or messages, perfect for special occasions and celebrations.\",\n",
    "    \"Nomad bag\": \"A portable bag or container for carrying cakes, pastries, and other baked goods while on the go.\",\n",
    "    \"Chocolates\": \"Indulgent confections made from cocoa beans, sugar, and milk or cream, available in a variety of flavors and fillings.\",\n",
    "    \"Coffee granules\": \"Instant coffee granules or powder, often used in baking to add a rich coffee flavor to cakes, cookies, and desserts.\",\n",
    "    \"Drinking chocolate spoons\": \"Spoons coated in chocolate and topped with various toppings, such as marshmallows or nuts, perfect for stirring into hot milk or coffee for a rich and indulgent beverage.\",\n",
    "    \"Christmas common\": \"Traditional British Christmas cakes made with dried fruits, nuts, and spices, often soaked in alcohol for added flavor and richness.\",\n",
    "    \"Argentina Night\": \"A festive celebration featuring traditional Argentine dishes, such as empanadas, chimichurri, and alfajores, perfect for experiencing the flavors of South America.\",\n",
    "    \"Half slice Monster\": \"Monstrous slices of cake, perfect for indulging in a decadent dessert experience.\",\n",
    "    \"Gift voucher\": \"Vouchers or gift cards redeemable for cakes, pastries, and other baked goods, perfect for gifting to friends and loved ones.\",\n",
    "    \"Cherry me Dried fruit\": \"Dried fruits infused with cherry flavor, perfect for snacking or adding to cakes, cookies, and other baked goods for natural sweetness and texture.\",\n",
    "    \"Mortimer\": \"A traditional British cake made with dried fruits, nuts, and spices, often served during the Christmas season as a festive treat.\",\n",
    "    \"Raw bars\": \"Nutritious snacks made from raw ingredients, such as nuts, seeds, and dried fruits, perfect for on-the-go snacking.\",\n",
    "    \"Tacos/Fajita\": \"Mexican-inspired dishes featuring tortillas filled with seasoned meats, vegetables, and toppings, perfect for a flavorful and satisfying meal option.\"\n",
    "}\n"
   ]
  },
  {
   "cell_type": "code",
   "execution_count": 10,
   "id": "cd0238f7",
   "metadata": {
    "execution": {
     "iopub.execute_input": "2024-05-02T18:07:36.707901Z",
     "iopub.status.busy": "2024-05-02T18:07:36.707439Z",
     "iopub.status.idle": "2024-05-02T18:07:36.724245Z",
     "shell.execute_reply": "2024-05-02T18:07:36.722972Z"
    },
    "papermill": {
     "duration": 0.028983,
     "end_time": "2024-05-02T18:07:36.727296",
     "exception": false,
     "start_time": "2024-05-02T18:07:36.698313",
     "status": "completed"
    },
    "tags": []
   },
   "outputs": [],
   "source": [
    "data['overview'] = data['Items'].map(cake_overview)"
   ]
  },
  {
   "cell_type": "code",
   "execution_count": 11,
   "id": "c125bcf6",
   "metadata": {
    "execution": {
     "iopub.execute_input": "2024-05-02T18:07:36.744977Z",
     "iopub.status.busy": "2024-05-02T18:07:36.744569Z",
     "iopub.status.idle": "2024-05-02T18:07:36.752363Z",
     "shell.execute_reply": "2024-05-02T18:07:36.751037Z"
    },
    "papermill": {
     "duration": 0.019868,
     "end_time": "2024-05-02T18:07:36.755001",
     "exception": false,
     "start_time": "2024-05-02T18:07:36.735133",
     "status": "completed"
    },
    "tags": []
   },
   "outputs": [
    {
     "data": {
      "text/plain": [
       "(20507, 8)"
      ]
     },
     "execution_count": 11,
     "metadata": {},
     "output_type": "execute_result"
    }
   ],
   "source": [
    "data.shape"
   ]
  },
  {
   "cell_type": "code",
   "execution_count": 12,
   "id": "a93c61e2",
   "metadata": {
    "execution": {
     "iopub.execute_input": "2024-05-02T18:07:36.774454Z",
     "iopub.status.busy": "2024-05-02T18:07:36.774035Z",
     "iopub.status.idle": "2024-05-02T18:07:36.793688Z",
     "shell.execute_reply": "2024-05-02T18:07:36.792395Z"
    },
    "papermill": {
     "duration": 0.032375,
     "end_time": "2024-05-02T18:07:36.796825",
     "exception": false,
     "start_time": "2024-05-02T18:07:36.764450",
     "status": "completed"
    },
    "tags": []
   },
   "outputs": [
    {
     "data": {
      "text/html": [
       "<div>\n",
       "<style scoped>\n",
       "    .dataframe tbody tr th:only-of-type {\n",
       "        vertical-align: middle;\n",
       "    }\n",
       "\n",
       "    .dataframe tbody tr th {\n",
       "        vertical-align: top;\n",
       "    }\n",
       "\n",
       "    .dataframe thead th {\n",
       "        text-align: right;\n",
       "    }\n",
       "</style>\n",
       "<table border=\"1\" class=\"dataframe\">\n",
       "  <thead>\n",
       "    <tr style=\"text-align: right;\">\n",
       "      <th></th>\n",
       "      <th>TransactionNo</th>\n",
       "      <th>Items</th>\n",
       "      <th>DateTime</th>\n",
       "      <th>Daypart</th>\n",
       "      <th>DayType</th>\n",
       "      <th>User</th>\n",
       "      <th>Rating</th>\n",
       "      <th>overview</th>\n",
       "    </tr>\n",
       "  </thead>\n",
       "  <tbody>\n",
       "    <tr>\n",
       "      <th>20502</th>\n",
       "      <td>9682</td>\n",
       "      <td>Coffee</td>\n",
       "      <td>2017-09-04 14:32:58</td>\n",
       "      <td>Afternoon</td>\n",
       "      <td>Weekend</td>\n",
       "      <td>Jordan</td>\n",
       "      <td>3</td>\n",
       "      <td>Cakes infused with the rich flavor of coffee, ...</td>\n",
       "    </tr>\n",
       "    <tr>\n",
       "      <th>20503</th>\n",
       "      <td>9682</td>\n",
       "      <td>Tea</td>\n",
       "      <td>2017-09-04 14:32:58</td>\n",
       "      <td>Afternoon</td>\n",
       "      <td>Weekend</td>\n",
       "      <td>Lori</td>\n",
       "      <td>1</td>\n",
       "      <td>Cakes perfect for pairing with a cup of tea, o...</td>\n",
       "    </tr>\n",
       "    <tr>\n",
       "      <th>20504</th>\n",
       "      <td>9683</td>\n",
       "      <td>Coffee</td>\n",
       "      <td>2017-09-04 14:57:06</td>\n",
       "      <td>Afternoon</td>\n",
       "      <td>Weekend</td>\n",
       "      <td>Erica</td>\n",
       "      <td>1</td>\n",
       "      <td>Cakes infused with the rich flavor of coffee, ...</td>\n",
       "    </tr>\n",
       "    <tr>\n",
       "      <th>20505</th>\n",
       "      <td>9683</td>\n",
       "      <td>Pastry</td>\n",
       "      <td>2017-09-04 14:57:06</td>\n",
       "      <td>Afternoon</td>\n",
       "      <td>Weekend</td>\n",
       "      <td>Joyce</td>\n",
       "      <td>0</td>\n",
       "      <td>Delicate, flaky pastries filled with sweet or ...</td>\n",
       "    </tr>\n",
       "    <tr>\n",
       "      <th>20506</th>\n",
       "      <td>9684</td>\n",
       "      <td>Smoothies</td>\n",
       "      <td>2017-09-04 15:04:24</td>\n",
       "      <td>Afternoon</td>\n",
       "      <td>Weekend</td>\n",
       "      <td>Douglas</td>\n",
       "      <td>5</td>\n",
       "      <td>Refreshing blended beverages made from fruits,...</td>\n",
       "    </tr>\n",
       "  </tbody>\n",
       "</table>\n",
       "</div>"
      ],
      "text/plain": [
       "       TransactionNo      Items             DateTime    Daypart  DayType  \\\n",
       "20502           9682     Coffee  2017-09-04 14:32:58  Afternoon  Weekend   \n",
       "20503           9682        Tea  2017-09-04 14:32:58  Afternoon  Weekend   \n",
       "20504           9683     Coffee  2017-09-04 14:57:06  Afternoon  Weekend   \n",
       "20505           9683     Pastry  2017-09-04 14:57:06  Afternoon  Weekend   \n",
       "20506           9684  Smoothies  2017-09-04 15:04:24  Afternoon  Weekend   \n",
       "\n",
       "          User  Rating                                           overview  \n",
       "20502   Jordan       3  Cakes infused with the rich flavor of coffee, ...  \n",
       "20503     Lori       1  Cakes perfect for pairing with a cup of tea, o...  \n",
       "20504    Erica       1  Cakes infused with the rich flavor of coffee, ...  \n",
       "20505    Joyce       0  Delicate, flaky pastries filled with sweet or ...  \n",
       "20506  Douglas       5  Refreshing blended beverages made from fruits,...  "
      ]
     },
     "execution_count": 12,
     "metadata": {},
     "output_type": "execute_result"
    }
   ],
   "source": [
    "data.tail(5)"
   ]
  },
  {
   "cell_type": "code",
   "execution_count": 13,
   "id": "65ab6b43",
   "metadata": {
    "execution": {
     "iopub.execute_input": "2024-05-02T18:07:36.815162Z",
     "iopub.status.busy": "2024-05-02T18:07:36.814723Z",
     "iopub.status.idle": "2024-05-02T18:07:36.831140Z",
     "shell.execute_reply": "2024-05-02T18:07:36.829962Z"
    },
    "papermill": {
     "duration": 0.028846,
     "end_time": "2024-05-02T18:07:36.833860",
     "exception": false,
     "start_time": "2024-05-02T18:07:36.805014",
     "status": "completed"
    },
    "tags": []
   },
   "outputs": [
    {
     "data": {
      "text/html": [
       "<div>\n",
       "<style scoped>\n",
       "    .dataframe tbody tr th:only-of-type {\n",
       "        vertical-align: middle;\n",
       "    }\n",
       "\n",
       "    .dataframe tbody tr th {\n",
       "        vertical-align: top;\n",
       "    }\n",
       "\n",
       "    .dataframe thead th {\n",
       "        text-align: right;\n",
       "    }\n",
       "</style>\n",
       "<table border=\"1\" class=\"dataframe\">\n",
       "  <thead>\n",
       "    <tr style=\"text-align: right;\">\n",
       "      <th></th>\n",
       "      <th>TransactionNo</th>\n",
       "      <th>Items</th>\n",
       "      <th>DateTime</th>\n",
       "      <th>Daypart</th>\n",
       "      <th>DayType</th>\n",
       "      <th>User</th>\n",
       "      <th>Rating</th>\n",
       "      <th>overview</th>\n",
       "    </tr>\n",
       "  </thead>\n",
       "  <tbody>\n",
       "    <tr>\n",
       "      <th>0</th>\n",
       "      <td>1</td>\n",
       "      <td>Bread</td>\n",
       "      <td>2016-10-30 09:58:11</td>\n",
       "      <td>Morning</td>\n",
       "      <td>Weekend</td>\n",
       "      <td>Joanna</td>\n",
       "      <td>5</td>\n",
       "      <td>A staple food made from flour, water, and yeas...</td>\n",
       "    </tr>\n",
       "    <tr>\n",
       "      <th>1</th>\n",
       "      <td>2</td>\n",
       "      <td>Scandinavian</td>\n",
       "      <td>2016-10-30 10:05:34</td>\n",
       "      <td>Morning</td>\n",
       "      <td>Weekend</td>\n",
       "      <td>Rachel</td>\n",
       "      <td>0</td>\n",
       "      <td>Reflecting the flavors of Northern Europe, Sca...</td>\n",
       "    </tr>\n",
       "    <tr>\n",
       "      <th>2</th>\n",
       "      <td>2</td>\n",
       "      <td>Scandinavian</td>\n",
       "      <td>2016-10-30 10:05:34</td>\n",
       "      <td>Morning</td>\n",
       "      <td>Weekend</td>\n",
       "      <td>Agnes</td>\n",
       "      <td>3</td>\n",
       "      <td>Reflecting the flavors of Northern Europe, Sca...</td>\n",
       "    </tr>\n",
       "    <tr>\n",
       "      <th>3</th>\n",
       "      <td>3</td>\n",
       "      <td>Hot chocolate</td>\n",
       "      <td>2016-10-30 10:07:57</td>\n",
       "      <td>Morning</td>\n",
       "      <td>Weekend</td>\n",
       "      <td>Tammy</td>\n",
       "      <td>0</td>\n",
       "      <td>Though not a cake in the traditional sense, ho...</td>\n",
       "    </tr>\n",
       "    <tr>\n",
       "      <th>4</th>\n",
       "      <td>3</td>\n",
       "      <td>Jam</td>\n",
       "      <td>2016-10-30 10:07:57</td>\n",
       "      <td>Morning</td>\n",
       "      <td>Weekend</td>\n",
       "      <td>Josh</td>\n",
       "      <td>2</td>\n",
       "      <td>A sweet spread made from fruits, commonly used...</td>\n",
       "    </tr>\n",
       "  </tbody>\n",
       "</table>\n",
       "</div>"
      ],
      "text/plain": [
       "   TransactionNo          Items             DateTime  Daypart  DayType  \\\n",
       "0              1          Bread  2016-10-30 09:58:11  Morning  Weekend   \n",
       "1              2   Scandinavian  2016-10-30 10:05:34  Morning  Weekend   \n",
       "2              2   Scandinavian  2016-10-30 10:05:34  Morning  Weekend   \n",
       "3              3  Hot chocolate  2016-10-30 10:07:57  Morning  Weekend   \n",
       "4              3            Jam  2016-10-30 10:07:57  Morning  Weekend   \n",
       "\n",
       "     User  Rating                                           overview  \n",
       "0  Joanna       5  A staple food made from flour, water, and yeas...  \n",
       "1  Rachel       0  Reflecting the flavors of Northern Europe, Sca...  \n",
       "2   Agnes       3  Reflecting the flavors of Northern Europe, Sca...  \n",
       "3   Tammy       0  Though not a cake in the traditional sense, ho...  \n",
       "4    Josh       2  A sweet spread made from fruits, commonly used...  "
      ]
     },
     "execution_count": 13,
     "metadata": {},
     "output_type": "execute_result"
    }
   ],
   "source": [
    "data.head(5) "
   ]
  },
  {
   "cell_type": "code",
   "execution_count": 14,
   "id": "3dab2033",
   "metadata": {
    "execution": {
     "iopub.execute_input": "2024-05-02T18:07:36.852604Z",
     "iopub.status.busy": "2024-05-02T18:07:36.852110Z",
     "iopub.status.idle": "2024-05-02T18:07:36.868056Z",
     "shell.execute_reply": "2024-05-02T18:07:36.866825Z"
    },
    "papermill": {
     "duration": 0.028319,
     "end_time": "2024-05-02T18:07:36.870608",
     "exception": false,
     "start_time": "2024-05-02T18:07:36.842289",
     "status": "completed"
    },
    "tags": []
   },
   "outputs": [
    {
     "data": {
      "text/html": [
       "<div>\n",
       "<style scoped>\n",
       "    .dataframe tbody tr th:only-of-type {\n",
       "        vertical-align: middle;\n",
       "    }\n",
       "\n",
       "    .dataframe tbody tr th {\n",
       "        vertical-align: top;\n",
       "    }\n",
       "\n",
       "    .dataframe thead th {\n",
       "        text-align: right;\n",
       "    }\n",
       "</style>\n",
       "<table border=\"1\" class=\"dataframe\">\n",
       "  <thead>\n",
       "    <tr style=\"text-align: right;\">\n",
       "      <th></th>\n",
       "      <th>TransactionNo</th>\n",
       "      <th>Items</th>\n",
       "      <th>DateTime</th>\n",
       "      <th>Daypart</th>\n",
       "      <th>DayType</th>\n",
       "      <th>User</th>\n",
       "      <th>Rating</th>\n",
       "      <th>overview</th>\n",
       "    </tr>\n",
       "  </thead>\n",
       "  <tbody>\n",
       "    <tr>\n",
       "      <th>0</th>\n",
       "      <td>1</td>\n",
       "      <td>Bread</td>\n",
       "      <td>2016-10-30 09:58:11</td>\n",
       "      <td>Morning</td>\n",
       "      <td>Weekend</td>\n",
       "      <td>Joanna</td>\n",
       "      <td>5</td>\n",
       "      <td>A staple food made from flour, water, and yeas...</td>\n",
       "    </tr>\n",
       "    <tr>\n",
       "      <th>1</th>\n",
       "      <td>2</td>\n",
       "      <td>Scandinavian</td>\n",
       "      <td>2016-10-30 10:05:34</td>\n",
       "      <td>Morning</td>\n",
       "      <td>Weekend</td>\n",
       "      <td>Rachel</td>\n",
       "      <td>0</td>\n",
       "      <td>Reflecting the flavors of Northern Europe, Sca...</td>\n",
       "    </tr>\n",
       "    <tr>\n",
       "      <th>2</th>\n",
       "      <td>2</td>\n",
       "      <td>Scandinavian</td>\n",
       "      <td>2016-10-30 10:05:34</td>\n",
       "      <td>Morning</td>\n",
       "      <td>Weekend</td>\n",
       "      <td>Agnes</td>\n",
       "      <td>3</td>\n",
       "      <td>Reflecting the flavors of Northern Europe, Sca...</td>\n",
       "    </tr>\n",
       "    <tr>\n",
       "      <th>3</th>\n",
       "      <td>3</td>\n",
       "      <td>Hot chocolate</td>\n",
       "      <td>2016-10-30 10:07:57</td>\n",
       "      <td>Morning</td>\n",
       "      <td>Weekend</td>\n",
       "      <td>Tammy</td>\n",
       "      <td>0</td>\n",
       "      <td>Though not a cake in the traditional sense, ho...</td>\n",
       "    </tr>\n",
       "    <tr>\n",
       "      <th>4</th>\n",
       "      <td>3</td>\n",
       "      <td>Jam</td>\n",
       "      <td>2016-10-30 10:07:57</td>\n",
       "      <td>Morning</td>\n",
       "      <td>Weekend</td>\n",
       "      <td>Josh</td>\n",
       "      <td>2</td>\n",
       "      <td>A sweet spread made from fruits, commonly used...</td>\n",
       "    </tr>\n",
       "  </tbody>\n",
       "</table>\n",
       "</div>"
      ],
      "text/plain": [
       "   TransactionNo          Items             DateTime  Daypart  DayType  \\\n",
       "0              1          Bread  2016-10-30 09:58:11  Morning  Weekend   \n",
       "1              2   Scandinavian  2016-10-30 10:05:34  Morning  Weekend   \n",
       "2              2   Scandinavian  2016-10-30 10:05:34  Morning  Weekend   \n",
       "3              3  Hot chocolate  2016-10-30 10:07:57  Morning  Weekend   \n",
       "4              3            Jam  2016-10-30 10:07:57  Morning  Weekend   \n",
       "\n",
       "     User  Rating                                           overview  \n",
       "0  Joanna       5  A staple food made from flour, water, and yeas...  \n",
       "1  Rachel       0  Reflecting the flavors of Northern Europe, Sca...  \n",
       "2   Agnes       3  Reflecting the flavors of Northern Europe, Sca...  \n",
       "3   Tammy       0  Though not a cake in the traditional sense, ho...  \n",
       "4    Josh       2  A sweet spread made from fruits, commonly used...  "
      ]
     },
     "execution_count": 14,
     "metadata": {},
     "output_type": "execute_result"
    }
   ],
   "source": [
    "data.head(5)"
   ]
  },
  {
   "cell_type": "code",
   "execution_count": 15,
   "id": "11c51d26",
   "metadata": {
    "execution": {
     "iopub.execute_input": "2024-05-02T18:07:36.890256Z",
     "iopub.status.busy": "2024-05-02T18:07:36.889729Z",
     "iopub.status.idle": "2024-05-02T18:07:36.902003Z",
     "shell.execute_reply": "2024-05-02T18:07:36.901111Z"
    },
    "papermill": {
     "duration": 0.02485,
     "end_time": "2024-05-02T18:07:36.904117",
     "exception": false,
     "start_time": "2024-05-02T18:07:36.879267",
     "status": "completed"
    },
    "tags": []
   },
   "outputs": [
    {
     "data": {
      "text/plain": [
       "94"
      ]
     },
     "execution_count": 15,
     "metadata": {},
     "output_type": "execute_result"
    }
   ],
   "source": [
    "len(data.Items.unique())"
   ]
  },
  {
   "cell_type": "code",
   "execution_count": 16,
   "id": "95d79c1c",
   "metadata": {
    "execution": {
     "iopub.execute_input": "2024-05-02T18:07:36.924006Z",
     "iopub.status.busy": "2024-05-02T18:07:36.923152Z",
     "iopub.status.idle": "2024-05-02T18:07:36.930845Z",
     "shell.execute_reply": "2024-05-02T18:07:36.929548Z"
    },
    "papermill": {
     "duration": 0.021064,
     "end_time": "2024-05-02T18:07:36.933719",
     "exception": false,
     "start_time": "2024-05-02T18:07:36.912655",
     "status": "completed"
    },
    "tags": []
   },
   "outputs": [],
   "source": [
    "list = data.Items.unique()"
   ]
  },
  {
   "cell_type": "code",
   "execution_count": 17,
   "id": "b497ecc9",
   "metadata": {
    "execution": {
     "iopub.execute_input": "2024-05-02T18:07:36.952642Z",
     "iopub.status.busy": "2024-05-02T18:07:36.952229Z",
     "iopub.status.idle": "2024-05-02T18:07:37.180732Z",
     "shell.execute_reply": "2024-05-02T18:07:37.179420Z"
    },
    "papermill": {
     "duration": 0.24135,
     "end_time": "2024-05-02T18:07:37.183703",
     "exception": false,
     "start_time": "2024-05-02T18:07:36.942353",
     "status": "completed"
    },
    "tags": []
   },
   "outputs": [],
   "source": [
    "data.to_csv('data.csv', sep=',', index=False)"
   ]
  }
 ],
 "metadata": {
  "kaggle": {
   "accelerator": "none",
   "dataSources": [
    {
     "datasetId": 1570429,
     "sourceId": 2585197,
     "sourceType": "datasetVersion"
    }
   ],
   "dockerImageVersionId": 30698,
   "isGpuEnabled": false,
   "isInternetEnabled": false,
   "language": "python",
   "sourceType": "notebook"
  },
  "kernelspec": {
   "display_name": "Python 3",
   "language": "python",
   "name": "python3"
  },
  "language_info": {
   "codemirror_mode": {
    "name": "ipython",
    "version": 3
   },
   "file_extension": ".py",
   "mimetype": "text/x-python",
   "name": "python",
   "nbconvert_exporter": "python",
   "pygments_lexer": "ipython3",
   "version": "3.10.13"
  },
  "papermill": {
   "default_parameters": {},
   "duration": 6.641084,
   "end_time": "2024-05-02T18:07:37.916157",
   "environment_variables": {},
   "exception": null,
   "input_path": "__notebook__.ipynb",
   "output_path": "__notebook__.ipynb",
   "parameters": {},
   "start_time": "2024-05-02T18:07:31.275073",
   "version": "2.5.0"
  }
 },
 "nbformat": 4,
 "nbformat_minor": 5
}
