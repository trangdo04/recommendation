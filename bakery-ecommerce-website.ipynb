{
 "cells": [
  {
   "cell_type": "code",
   "execution_count": 1,
   "id": "2deec8f4",
   "metadata": {
    "_cell_guid": "b1076dfc-b9ad-4769-8c92-a6c4dae69d19",
    "_uuid": "8f2839f25d086af736a60e9eeb907d3b93b6e0e5",
    "execution": {
     "iopub.execute_input": "2024-05-02T19:13:00.584932Z",
     "iopub.status.busy": "2024-05-02T19:13:00.583986Z",
     "iopub.status.idle": "2024-05-02T19:13:01.646673Z",
     "shell.execute_reply": "2024-05-02T19:13:01.645432Z"
    },
    "papermill": {
     "duration": 1.082117,
     "end_time": "2024-05-02T19:13:01.649619",
     "exception": false,
     "start_time": "2024-05-02T19:13:00.567502",
     "status": "completed"
    },
    "tags": []
   },
   "outputs": [
    {
     "name": "stdout",
     "output_type": "stream",
     "text": [
      "/kaggle/input/food-set/data.csv\n",
      "/kaggle/input/bakery/Bakery.csv\n"
     ]
    }
   ],
   "source": [
    "# This Python 3 environment comes with many helpful analytics libraries installed\n",
    "# It is defined by the kaggle/python Docker image: https://github.com/kaggle/docker-python\n",
    "# For example, here's several helpful packages to load\n",
    "\n",
    "import numpy as np # linear algebra\n",
    "import pandas as pd # data processing, CSV file I/O (e.g. pd.read_csv)\n",
    "import random\n",
    "# Input data files are available in the read-only \"../input/\" directory\n",
    "# For example, running this (by clicking run or pressing Shift+Enter) will list all files under the input directory\n",
    "\n",
    "import os\n",
    "for dirname, _, filenames in os.walk('/kaggle/input'):\n",
    "    for filename in filenames:\n",
    "        print(os.path.join(dirname, filename))\n",
    "\n",
    "# You can write up to 20GB to the current directory (/kaggle/working/) that gets preserved as output when you create a version using \"Save & Run All\" \n",
    "# You can also write temporary files to /kaggle/temp/, but they won't be saved outside of the current session"
   ]
  },
  {
   "cell_type": "code",
   "execution_count": 2,
   "id": "79659e5d",
   "metadata": {
    "execution": {
     "iopub.execute_input": "2024-05-02T19:13:01.673080Z",
     "iopub.status.busy": "2024-05-02T19:13:01.672587Z",
     "iopub.status.idle": "2024-05-02T19:13:01.677953Z",
     "shell.execute_reply": "2024-05-02T19:13:01.676695Z"
    },
    "papermill": {
     "duration": 0.019643,
     "end_time": "2024-05-02T19:13:01.680334",
     "exception": false,
     "start_time": "2024-05-02T19:13:01.660691",
     "status": "completed"
    },
    "tags": []
   },
   "outputs": [],
   "source": [
    "# data = pd.read_csv('/kaggle/input/bakery/Bakery.csv')"
   ]
  },
  {
   "cell_type": "code",
   "execution_count": 3,
   "id": "985df30f",
   "metadata": {
    "execution": {
     "iopub.execute_input": "2024-05-02T19:13:01.705891Z",
     "iopub.status.busy": "2024-05-02T19:13:01.705000Z",
     "iopub.status.idle": "2024-05-02T19:13:01.733240Z",
     "shell.execute_reply": "2024-05-02T19:13:01.731902Z"
    },
    "papermill": {
     "duration": 0.044686,
     "end_time": "2024-05-02T19:13:01.735823",
     "exception": false,
     "start_time": "2024-05-02T19:13:01.691137",
     "status": "completed"
    },
    "tags": []
   },
   "outputs": [],
   "source": [
    "# List of 500 English personal names\n",
    "names = [\n",
    "    \"Aaron\", \"Abigail\", \"Adam\", \"Adrian\", \"Agnes\", \"Alan\", \"Albert\", \"Alfred\", \"Alice\", \"Alicia\",\n",
    "    \"Alicia\", \"Allan\", \"Allison\", \"Alyssa\", \"Amanda\", \"Amber\", \"Amy\", \"Andrea\", \"Andrew\", \"Angela\",\n",
    "    \"Angelina\", \"Anita\", \"Ann\", \"Anna\", \"Anne\", \"Annie\", \"Anthony\", \"Antonio\", \"April\", \"Arthur\",\n",
    "    \"Ashley\", \"Austin\", \"Barbara\", \"Barry\", \"Becky\", \"Benjamin\", \"Bernard\", \"Bernice\", \"Beth\", \"Beverly\",\n",
    "    \"Bill\", \"Billy\", \"Blake\", \"Bob\", \"Bobby\", \"Bonnie\", \"Brad\", \"Brandon\", \"Brenda\", \"Brendan\",\n",
    "    \"Brent\", \"Brett\", \"Brian\", \"Brianna\", \"Brittany\", \"Bruce\", \"Bryan\", \"Caleb\", \"Cameron\", \"Carl\",\n",
    "    \"Carla\", \"Carlos\", \"Carmen\", \"Carol\", \"Caroline\", \"Carrie\", \"Casey\", \"Catherine\", \"Cathy\", \"Cecilia\",\n",
    "    \"Chad\", \"Charles\", \"Charlie\", \"Charlotte\", \"Cheryl\", \"Chris\", \"Christian\", \"Christine\", \"Christopher\", \"Chuck\",\n",
    "    \"Cindy\", \"Claire\", \"Clara\", \"Clarence\", \"Clark\", \"Claudia\", \"Clayton\", \"Cliff\", \"Cody\", \"Colleen\",\n",
    "    \"Connie\", \"Connor\", \"Corey\", \"Courtney\", \"Craig\", \"Crystal\", \"Curtis\", \"Cynthia\", \"Daisy\", \"Dale\",\n",
    "    \"Dan\", \"Dana\", \"Daniel\", \"Danielle\", \"Danny\", \"Darlene\", \"Darren\", \"Dave\", \"David\", \"Debbie\",\n",
    "    \"Deborah\", \"Debra\", \"Denise\", \"Dennis\", \"Derek\", \"Diana\", \"Diane\", \"Dianne\", \"Don\", \"Donald\",\n",
    "    \"Donna\", \"Doris\", \"Dorothy\", \"Doug\", \"Douglas\", \"Drew\", \"Dustin\", \"Dwayne\", \"Dylan\", \"Earl\",\n",
    "    \"Ed\", \"Eddie\", \"Edith\", \"Edmund\", \"Edward\", \"Edwin\", \"Elaine\", \"Eleanor\", \"Elias\", \"Elijah\",\n",
    "    \"Elisabeth\", \"Elizabeth\", \"Ella\", \"Ellen\", \"Elliott\", \"Ellis\", \"Emily\", \"Emma\", \"Eric\", \"Erica\",\n",
    "    \"Erik\", \"Erin\", \"Ernest\", \"Ethan\", \"Eugene\", \"Evan\", \"Evelyn\", \"Faith\", \"Fannie\", \"Felicia\",\n",
    "    \"Felix\", \"Fiona\", \"Florence\", \"Floyd\", \"Frances\", \"Frank\", \"Fred\", \"Frederick\", \"Gabriel\", \"Gail\",\n",
    "    \"Garry\", \"Gary\", \"Gene\", \"Geoff\", \"George\", \"Georgia\", \"Gerald\", \"Gertrude\", \"Gilbert\", \"Gina\",\n",
    "    \"Gladys\", \"Glenda\", \"Glenn\", \"Gloria\", \"Gordon\", \"Grace\", \"Grant\", \"Greg\", \"Gregory\", \"Gretchen\",\n",
    "    \"Haley\", \"Hannah\", \"Harold\", \"Harry\", \"Heather\", \"Heidi\", \"Helen\", \"Henry\", \"Herbert\", \"Herman\",\n",
    "    \"Hilary\", \"Holly\", \"Howard\", \"Hugh\", \"Ian\", \"Ingrid\", \"Irene\", \"Irvin\", \"Isabel\", \"Isabelle\",\n",
    "    \"Isaac\", \"Isabella\", \"Isabella\", \"Jack\", \"Jackie\", \"Jackson\", \"Jacob\", \"Jacqueline\", \"Jaclyn\", \"Jacques\",\n",
    "    \"Jake\", \"James\", \"Jamie\", \"Janet\", \"Janie\", \"Jason\", \"Jean\", \"Jeanette\", \"Jeff\", \"Jeffrey\",\n",
    "    \"Jenna\", \"Jennifer\", \"Jenny\", \"Jeremy\", \"Jerry\", \"Jesse\", \"Jessica\", \"Jessie\", \"Jill\", \"Jim\",\n",
    "    \"Jimmy\", \"Joan\", \"Joanna\", \"Joanne\", \"Joe\", \"Joel\", \"John\", \"Johnny\", \"Jon\", \"Jonathan\",\n",
    "    \"Jordan\", \"Jose\", \"Joseph\", \"Josephine\", \"Josh\", \"Joshua\", \"Joyce\", \"Juan\", \"Judith\", \"Judy\",\n",
    "    \"Julia\", \"Julian\", \"Julie\", \"June\", \"Justin\", \"Karen\", \"Karla\", \"Kate\", \"Kathleen\", \"Kathryn\",\n",
    "    \"Katie\", \"Katrina\", \"Kay\", \"Keith\", \"Kelly\", \"Ken\", \"Kenneth\", \"Kevin\", \"Kim\", \"Kimberly\",\n",
    "    \"Kirk\", \"Kristin\", \"Kristina\", \"Kristy\", \"Kyle\", \"Larry\", \"Laura\", \"Lauren\", \"Laurence\", \"Lawrence\",\n",
    "    \"Leah\", \"Lee\", \"Leona\", \"Leonard\", \"Leslie\", \"Lester\", \"Lillian\", \"Linda\", \"Lindsay\", \"Lindsey\",\n",
    "    \"Lisa\", \"Liz\", \"Lloyd\", \"Logan\", \"Lori\", \"Louis\", \"Louise\", \"Lucas\", \"Lucy\", \"Luis\",\n",
    "    \"Luke\", \"Lydia\", \"Lyle\", \"Lynn\", \"Lynnette\", \"Mabel\", \"Mack\", \"Madeline\", \"Madison\", \"Maggie\",\n",
    "    \"Malcolm\", \"Mandy\", \"Manuel\", \"Marc\", \"Marcus\", \"Margaret\", \"Maria\", \"Marian\", \"Marilyn\", \"Mark\",\n",
    "    \"Marlene\", \"Marshall\", \"Martin\", \"Martha\", \"Marvin\", \"Mary\", \"Mathew\", \"Matthew\", \"Maureen\", \"Max\",\n",
    "    \"Maxwell\", \"Megan\", \"Melanie\", \"Melinda\", \"Melissa\", \"Michael\", \"Michele\", \"Michelle\", \"Miguel\", \"Mike\",\n",
    "    \"Mildred\", \"Mindy\", \"Miranda\", \"Mitchell\", \"Molly\", \"Monica\", \"Morris\", \"Nancy\", \"Natalie\", \"Natasha\",\n",
    "    \"Nathan\", \"Nathaniel\", \"Neal\", \"Neil\", \"Nelson\", \"Nicholas\", \"Nick\", \"Nicole\", \"Nina\", \"Noah\",\n",
    "    \"Noelle\", \"Norman\", \"Olivia\", \"Oscar\", \"Owen\", \"Pam\", \"Pamela\", \"Patricia\", \"Patrick\", \"Patsy\",\n",
    "    \"Paul\", \"Paula\", \"Penny\", \"Peter\", \"Philip\", \"Phyllis\", \"Priscilla\", \"Quentin\", \"Rachel\", \"Ralph\",\n",
    "    \"Randy\", \"Ray\", \"Raymond\", \"Rebecca\", \"Reginald\", \"Renee\", \"Rex\", \"Rhonda\", \"Ricardo\", \"Richard\",\n",
    "    \"Rick\", \"Ricky\", \"Rita\", \"Robert\", \"Roberta\", \"Robin\", \"Roger\", \"Ron\", \"Ronald\", \"Rosa\",\n",
    "    \"Rosalie\", \"Rose\", \"Rosemary\", \"Roy\", \"Ruben\", \"Ruby\", \"Russell\", \"Ruth\", \"Ryan\", \"Sabrina\",\n",
    "    \"Sally\", \"Sam\", \"Samuel\", \"Sandra\", \"Sandy\", \"Sara\", \"Sarah\", \"Scott\", \"Sean\", \"Seth\",\n",
    "    \"Shane\", \"Shannon\", \"Shari\", \"Sharon\", \"Shaun\", \"Shawn\", \"Sheila\", \"Shelley\", \"Shelly\", \"Sherry\",\n",
    "    \"Shirley\", \"Sidney\", \"Simon\", \"Sonia\", \"Sonya\", \"Sophia\", \"Spencer\", \"Stacey\", \"Stacy\", \"Stanley\",\n",
    "    \"Stefan\", \"Stephanie\", \"Stephen\", \"Steve\", \"Steven\", \"Stuart\", \"Sue\", \"Susan\", \"Susie\", \"Sylvia\",\n",
    "    \"Tabitha\", \"Tammy\", \"Tanya\", \"Tara\", \"Tasha\", \"Tatiana\", \"Ted\", \"Teresa\", \"Terrance\", \"Terry\",\n",
    "    \"Theodore\", \"Theresa\", \"Thomas\", \"Tim\", \"Timothy\", \"Todd\", \"Tom\", \"Tommy\", \"Tony\", \"Travis\",\n",
    "    \"Trevor\", \"Trina\", \"Trisha\", \"Tyler\", \"Valerie\", \"Vanessa\", \"Vernon\", \"Victor\", \"Vincent\", \"Virginia\",\n",
    "    \"Vivian\", \"Wade\", \"Walt\", \"Walter\", \"Warren\", \"Wayne\", \"Wendy\", \"Wesley\", \"William\", \"Willie\",\n",
    "    \"Wilson\", \"Yolanda\", \"Yvonne\", \"Zachary\", \"Zach\"]\n"
   ]
  },
  {
   "cell_type": "code",
   "execution_count": 4,
   "id": "855094bb",
   "metadata": {
    "execution": {
     "iopub.execute_input": "2024-05-02T19:13:01.759365Z",
     "iopub.status.busy": "2024-05-02T19:13:01.758870Z",
     "iopub.status.idle": "2024-05-02T19:13:01.767611Z",
     "shell.execute_reply": "2024-05-02T19:13:01.766357Z"
    },
    "papermill": {
     "duration": 0.023509,
     "end_time": "2024-05-02T19:13:01.770058",
     "exception": false,
     "start_time": "2024-05-02T19:13:01.746549",
     "status": "completed"
    },
    "tags": []
   },
   "outputs": [
    {
     "data": {
      "text/plain": [
       "505"
      ]
     },
     "execution_count": 4,
     "metadata": {},
     "output_type": "execute_result"
    }
   ],
   "source": [
    "len(names)"
   ]
  },
  {
   "cell_type": "markdown",
   "id": "fe8f6343",
   "metadata": {
    "papermill": {
     "duration": 0.010855,
     "end_time": "2024-05-02T19:13:01.791823",
     "exception": false,
     "start_time": "2024-05-02T19:13:01.780968",
     "status": "completed"
    },
    "tags": []
   },
   "source": [
    "## Do not run this function again since it will rerandom data"
   ]
  },
  {
   "cell_type": "code",
   "execution_count": 5,
   "id": "72c881c5",
   "metadata": {
    "execution": {
     "iopub.execute_input": "2024-05-02T19:13:01.815370Z",
     "iopub.status.busy": "2024-05-02T19:13:01.814899Z",
     "iopub.status.idle": "2024-05-02T19:13:01.820218Z",
     "shell.execute_reply": "2024-05-02T19:13:01.819060Z"
    },
    "papermill": {
     "duration": 0.020212,
     "end_time": "2024-05-02T19:13:01.822989",
     "exception": false,
     "start_time": "2024-05-02T19:13:01.802777",
     "status": "completed"
    },
    "tags": []
   },
   "outputs": [],
   "source": [
    "# data['User'] = np.nan"
   ]
  },
  {
   "cell_type": "code",
   "execution_count": 6,
   "id": "58b3aefc",
   "metadata": {
    "execution": {
     "iopub.execute_input": "2024-05-02T19:13:01.847876Z",
     "iopub.status.busy": "2024-05-02T19:13:01.847432Z",
     "iopub.status.idle": "2024-05-02T19:13:01.853495Z",
     "shell.execute_reply": "2024-05-02T19:13:01.852215Z"
    },
    "papermill": {
     "duration": 0.020977,
     "end_time": "2024-05-02T19:13:01.856232",
     "exception": false,
     "start_time": "2024-05-02T19:13:01.835255",
     "status": "completed"
    },
    "tags": []
   },
   "outputs": [],
   "source": [
    "# # Hàm để gán tên ngẫu nhiên từ danh sách\n",
    "# def fill_random_name(row):\n",
    "#     if pd.isna(row['User']):  # Kiểm tra nếu giá trị là NaN\n",
    "#         return random.choice(names)  # Chọn tên ngẫu nhiên từ danh sách\n",
    "#     else:\n",
    "#         return row['User']\n",
    "\n",
    "# # Áp dụng hàm để điền vào cột 'User'\n",
    "# data['User'] = data.apply(fill_random_name, axis=1)"
   ]
  },
  {
   "cell_type": "code",
   "execution_count": 7,
   "id": "d234482a",
   "metadata": {
    "execution": {
     "iopub.execute_input": "2024-05-02T19:13:01.880754Z",
     "iopub.status.busy": "2024-05-02T19:13:01.880293Z",
     "iopub.status.idle": "2024-05-02T19:13:01.885603Z",
     "shell.execute_reply": "2024-05-02T19:13:01.884368Z"
    },
    "papermill": {
     "duration": 0.020266,
     "end_time": "2024-05-02T19:13:01.888290",
     "exception": false,
     "start_time": "2024-05-02T19:13:01.868024",
     "status": "completed"
    },
    "tags": []
   },
   "outputs": [],
   "source": [
    "# data['Rating'] = np.nan"
   ]
  },
  {
   "cell_type": "code",
   "execution_count": 8,
   "id": "82e10886",
   "metadata": {
    "execution": {
     "iopub.execute_input": "2024-05-02T19:13:01.911830Z",
     "iopub.status.busy": "2024-05-02T19:13:01.911399Z",
     "iopub.status.idle": "2024-05-02T19:13:01.916757Z",
     "shell.execute_reply": "2024-05-02T19:13:01.915492Z"
    },
    "papermill": {
     "duration": 0.020339,
     "end_time": "2024-05-02T19:13:01.919403",
     "exception": false,
     "start_time": "2024-05-02T19:13:01.899064",
     "status": "completed"
    },
    "tags": []
   },
   "outputs": [],
   "source": [
    "# # Hàm để điền giá trị ngẫu nhiên từ 0.0 đến 5.0\n",
    "# def fill_random_rating(row):\n",
    "#     if pd.isna(row['Rating']):  # Nếu giá trị là NaN\n",
    "#         return random.randint(0, 5)  # Chọn số ngẫu nhiên từ 0.0 đến 5.0, làm tròn đến 1 chữ số thập phân\n",
    "#     else:\n",
    "#         return row['Rating']\n",
    "\n",
    "# # Áp dụng hàm để điền vào cột 'Ratings'\n",
    "# data['Rating'] = data.apply(fill_random_rating, axis=1)"
   ]
  },
  {
   "cell_type": "code",
   "execution_count": 9,
   "id": "c0c3aa0b",
   "metadata": {
    "execution": {
     "iopub.execute_input": "2024-05-02T19:13:01.943818Z",
     "iopub.status.busy": "2024-05-02T19:13:01.943383Z",
     "iopub.status.idle": "2024-05-02T19:13:01.965601Z",
     "shell.execute_reply": "2024-05-02T19:13:01.964360Z"
    },
    "papermill": {
     "duration": 0.037741,
     "end_time": "2024-05-02T19:13:01.968220",
     "exception": false,
     "start_time": "2024-05-02T19:13:01.930479",
     "status": "completed"
    },
    "tags": []
   },
   "outputs": [],
   "source": [
    "cake_overview = {\n",
    "    \"Bread\": \"A staple food made from flour, water, and yeast, often baked until golden brown with a soft interior.\",\n",
    "    \"Scandinavian\": \"Reflecting the flavors of Northern Europe, Scandinavian cakes often feature berries, nuts, and wholesome grains.\",\n",
    "    \"Hot chocolate\": \"Though not a cake in the traditional sense, hot chocolate complements cakes well, offering a warm and indulgent beverage often topped with whipped cream or marshmallows.\",\n",
    "    \"Jam\": \"A sweet spread made from fruits, commonly used in cake fillings, adding fruity flavors and moisture.\",\n",
    "    \"Cookies\": \"Bite-sized baked treats with endless variations, from chewy chocolate chip to delicate shortbread.\",\n",
    "    \"Muffin\": \"Individual-sized quick breads, often sweetened and flavored with fruits, nuts, or chocolate chips.\",\n",
    "    \"Coffee\": \"Cakes infused with the rich flavor of coffee, providing a delightful combination of sweetness and caffeine.\",\n",
    "    \"Pastry\": \"Delicate, flaky pastries filled with sweet or savory ingredients, ranging from fruit to cheese and meats.\",\n",
    "    \"Medialuna\": \"A crescent-shaped pastry originating from Argentina, often sweetened and glazed.\",\n",
    "    \"Tea\": \"Cakes perfect for pairing with a cup of tea, offering a balance of sweetness and lightness.\",\n",
    "    \"Tartine\": \"Open-faced sandwiches or cakes topped with various spreads, fruits, or vegetables, often served as a light meal or snack.\",\n",
    "    \"Basket\": \"Edible baskets made from cake or pastry dough, filled with fruits, creams, or other confections.\",\n",
    "    \"Mineral water\": \"A refreshing beverage often served alongside cakes to cleanse the palate and provide hydration.\",\n",
    "    \"Farm House\": \"Rustic cakes reminiscent of farmhouse baking, featuring simple, wholesome ingredients like oats, nuts, and dried fruits.\",\n",
    "    \"Fudge\": \"Dense, sweet confections made from sugar, butter, and milk or cream, often flavored with chocolate or nuts.\",\n",
    "    \"Juice\": \"Refreshing fruit or vegetable juices served alongside cakes to provide a burst of flavor and hydration.\",\n",
    "    \"Ella's Kitchen Pouches\": \"Convenient, portable snacks for infants and toddlers, offering a variety of pureed fruits and vegetables.\",\n",
    "    \"Victorian Sponge\": \"A classic British cake consisting of two layers of sponge cake sandwiched together with jam and whipped cream.\",\n",
    "    \"Frittata\": \"Italian egg-based dishes similar to omelets, often filled with vegetables, cheese, and meats.\",\n",
    "    \"Hearty & Seasonal\": \"Cakes made with seasonal ingredients and hearty flavors, perfect for cooler weather or holiday celebrations.\",\n",
    "    \"Soup\": \"Warm, comforting soups served alongside cakes for a satisfying meal.\",\n",
    "    \"Pick and Mix Bowls\": \"Customizable bowls filled with a variety of cake bites, candies, fruits, and toppings, allowing for personalized flavor combinations.\",\n",
    "    \"Smoothies\": \"Refreshing blended beverages made from fruits, vegetables, and yogurt or milk, perfect for pairing with cakes for a light meal or snack.\",\n",
    "    \"Cake\": \"Sweet baked goods made from a mixture of flour, sugar, eggs, and butter or oil, often flavored with extracts, fruits, or spices.\",\n",
    "    \"Mighty Protein\": \"Protein-rich cakes or snacks designed to provide sustained energy and muscle recovery.\",\n",
    "    \"Chicken sand\": \"Sandwiches filled with tender, seasoned chicken and a variety of toppings, perfect for a quick and satisfying meal.\",\n",
    "    \"Coke\": \"A popular carbonated beverage often served alongside cakes to provide a sweet and fizzy contrast.\",\n",
    "    \"My-5 Fruit Shoot\": \"Fruit-flavored drinks enriched with essential vitamins and minerals, perfect for on-the-go snacking.\",\n",
    "    \"Focaccia\": \"Italian flatbread flavored with herbs and olive oil, often served as an appetizer or accompaniment to meals.\",\n",
    "    \"Sandwich\": \"Layers of bread filled with meats, cheeses, vegetables, and condiments, offering a portable and satisfying meal option.\",\n",
    "    \"Alfajores\": \"Traditional South American cookies made from delicate shortbread filled with dulce de leche or jam, often coated in powdered sugar or dipped in chocolate.\",\n",
    "    \"Eggs\": \"Versatile and nutritious, eggs are used in a variety of cake recipes for moisture, structure, and richness.\",\n",
    "    \"Brownie\": \"Rich, fudgy chocolate cakes with a dense texture, often studded with nuts or chocolate chips.\",\n",
    "    \"Dulce de Leche\": \"A sweet caramel-like sauce made from simmering sweetened milk, often used as a filling or topping for cakes.\",\n",
    "    \"Honey\": \"A natural sweetener made by bees from flower nectar, often used in cake recipes for sweetness and moisture.\",\n",
    "    \"The BART\": \"A hearty sandwich made with bacon, avocado, rocket (arugula), and tomato, perfect for a satisfying lunch or brunch option.\",\n",
    "    \"Granola\": \"Crunchy, sweetened oats mixed with nuts, seeds, and dried fruits, often served as a topping for yogurt or baked into cakes for added texture and flavor.\",\n",
    "    \"Fairy Doors\": \"Whimsical cakes decorated to resemble enchanted fairy doors, perfect for children's parties and fantasy-themed events.\",\n",
    "    \"Empanadas\": \"Latin American pastries filled with a variety of savory ingredients, such as meats, cheeses, and vegetables, enclosed in a flaky pastry crust.\",\n",
    "    \"Keeping It Local\": \"Cakes made with locally sourced ingredients, supporting community farmers and producers while offering fresh and seasonal flavors.\",\n",
    "    \"Art Tray\": \"Edible art pieces made from cake, icing, and decorative elements, perfect for special occasions and celebrations.\",\n",
    "    \"Bowl Nic Pitt\": \"Hearty bowls filled with roasted meats, grains, vegetables, and sauces, offering a satisfying and balanced meal option.\",\n",
    "    \"Bread Pudding\": \"A comforting dessert made from leftover bread soaked in a custard mixture and baked until golden and set.\",\n",
    "    \"Adjustment\": \"Customizable cakes allowing customers to adjust ingredients, flavors, and toppings to suit their preferences.\",\n",
    "    \"Truffles\": \"Decadent chocolate confections made from ganache rolled in cocoa powder, nuts, or other coatings, perfect for indulgent treats or gifts.\",\n",
    "    \"Chimichurri Oil\": \"A vibrant green sauce made from parsley, garlic, vinegar, and olive oil, often used as a marinade or condiment for meats and vegetables.\",\n",
    "    \"Bacon\": \"Crispy strips of cured pork belly or back, often used as a savory topping or filling for cakes, sandwiches, and salads.\",\n",
    "    \"Spread\": \"Versatile spreads made from fruits, nuts, or vegetables, perfect for adding flavor and moisture to cakes, sandwiches, and snacks.\",\n",
    "    \"Kids biscuit\": \"Miniature biscuits designed with fun shapes and flavors to appeal to children, perfect for lunchboxes or snacks.\",\n",
    "    \"Siblings\": \"Assorted cakes or snacks meant for sharing among family members or friends, fostering a sense of togetherness and community.\",\n",
    "    \"Caramel bites\": \"Small, bite-sized confections made from caramelized sugar, butter, and cream, often coated in chocolate or nuts.\",\n",
    "    \"Jammie Dodgers\": \"British sandwich cookies filled with jam and topped with a decorative heart, perfect for tea time or snacking.\",\n",
    "    \"Tiffin\": \"A British confection made from crushed biscuits, dried fruits, nuts, and chocolate, perfect for a sweet and indulgent treat.\",\n",
    "    \"Olum & polenta\": \"Cakes made with olum, a traditional African ingredient, and polenta, offering a unique blend of flavors and textures.\",\n",
    "    \"Polenta\": \"A versatile ingredient made from ground cornmeal, often used in cakes and breads for a hearty texture and slightly sweet flavor.\",\n",
    "    \"The Nomad\": \"A hearty sandwich or wrap filled with flavorful meats, cheeses, vegetables, and sauces, perfect for on-the-go eating.\",\n",
    "    \"Hack the stack\": \"Innovative cakes featuring stacked layers of cake, frosting, and fillings, offering a visually stunning and indulgent dessert experience.\",\n",
    "    \"Bakewell\": \"A traditional British tart made with a shortcrust pastry base, frangipane filling, and topped with a layer of raspberry jam and almond-flavored icing.\",\n",
    "    \"Lemon and coconut\": \"Refreshing cakes infused with the tangy flavor of lemon and the tropical sweetness of coconut, perfect for summer celebrations.\",\n",
    "    \"Toast\": \"Slices of bread toasted until golden brown and crisp, often served with butter, jam, or other toppings for breakfast or snacks.\",\n",
    "    \"Scone\": \"Traditional British baked goods resembling small, lightly sweetened biscuits, often served with clotted cream and jam for afternoon tea.\",\n",
    "    \"Crepes\": \"Thin, delicate pancakes made from a simple batter of flour, eggs, milk, and butter, perfect for wrapping around sweet or savory fillings.\",\n",
    "    \"Vegan mincepie\": \"Plant-based mince pies filled with a spiced fruit mixture, often enjoyed during the holiday season as a festive treat.\",\n",
    "    \"Bare Popcorn\": \"Plain popcorn kernels popped and served without added butter or seasoning, offering a light and crunchy snack option.\",\n",
    "    \"Muesli\": \"A nutritious breakfast cereal made from rolled oats, dried fruits, nuts, and seeds, often served with milk or yogurt.\",\n",
    "    \"Crisps\": \"Thin slices of potato fried until crisp and golden brown, often served as a savory snack alongside cakes and sandwiches.\",\n",
    "    \"Pintxos\": \"Small, flavorful snacks popular in the Basque region of Spain, often served on skewers or toothpicks for easy eating.\",\n",
    "    \"Gingerbread syrup\": \"A sweet and spicy syrup made from ginger, sugar, and water, perfect for flavoring cakes, drinks, and desserts.\",\n",
    "    \"Panatone\": \"A traditional Italian sweet bread loaf studded with dried fruits and nuts, often enjoyed during the holiday season.\",\n",
    "    \"Brioche and salami\": \"A savory twist on classic brioche bread, filled with slices of salami for a satisfying and flavorful snack or meal.\",\n",
    "    \"Afternoon with the baker\": \"A selection of cakes, pastries, and sandwiches perfect for enjoying during a leisurely afternoon break.\",\n",
    "    \"Salad\": \"Fresh and crisp salads made with a variety of greens, vegetables, fruits, and dressings, offering a light and healthy accompaniment to cakes.\",\n",
    "    \"Chicken Stew\": \"Hearty and comforting stews made with tender chicken, vegetables, and aromatic herbs, perfect for warming up on cold days.\",\n",
    "    \"Spanish Brunch\": \"A leisurely mid-morning meal featuring a variety of Spanish dishes, such as tortilla espanola, chorizo, and pan con tomate.\",\n",
    "    \"Raspberry shortbread sandwich\": \"Delicate shortbread cookies filled with raspberry jam, perfect for afternoon tea or as a sweet snack.\",\n",
    "    \"Extra Salami or Feta\": \"Additional toppings for sandwiches or salads, offering a burst of flavor and protein.\",\n",
    "    \"Duck egg\": \"Rich and flavorful eggs from ducks, often used in baking for added richness and moisture.\",\n",
    "    \"Baguette\": \"A long, thin loaf of French bread with a crisp crust and soft interior, perfect for making sandwiches or serving with soups and salads.\",\n",
    "    \"Valentine's card\": \"Edible cards made from wafer paper or chocolate, decorated with romantic messages or designs, perfect for Valentine's Day.\",\n",
    "    \"Tshirt\": \"Non-edible merchandise featuring cake-themed designs, perfect for fans of baking and sweet treats.\",\n",
    "    \"Vegan Feast\": \"Plant-based cakes and dishes perfect for vegans and those looking for cruelty-free alternatives to traditional cakes.\",\n",
    "    \"Postcard\": \"Edible postcards made from wafer paper or fondant, decorated with colorful designs or messages, perfect for special occasions and celebrations.\",\n",
    "    \"Nomad bag\": \"A portable bag or container for carrying cakes, pastries, and other baked goods while on the go.\",\n",
    "    \"Chocolates\": \"Indulgent confections made from cocoa beans, sugar, and milk or cream, available in a variety of flavors and fillings.\",\n",
    "    \"Coffee granules\": \"Instant coffee granules or powder, often used in baking to add a rich coffee flavor to cakes, cookies, and desserts.\",\n",
    "    \"Drinking chocolate spoons\": \"Spoons coated in chocolate and topped with various toppings, such as marshmallows or nuts, perfect for stirring into hot milk or coffee for a rich and indulgent beverage.\",\n",
    "    \"Christmas common\": \"Traditional British Christmas cakes made with dried fruits, nuts, and spices, often soaked in alcohol for added flavor and richness.\",\n",
    "    \"Argentina Night\": \"A festive celebration featuring traditional Argentine dishes, such as empanadas, chimichurri, and alfajores, perfect for experiencing the flavors of South America.\",\n",
    "    \"Half slice Monster\": \"Monstrous slices of cake, perfect for indulging in a decadent dessert experience.\",\n",
    "    \"Gift voucher\": \"Vouchers or gift cards redeemable for cakes, pastries, and other baked goods, perfect for gifting to friends and loved ones.\",\n",
    "    \"Cherry me Dried fruit\": \"Dried fruits infused with cherry flavor, perfect for snacking or adding to cakes, cookies, and other baked goods for natural sweetness and texture.\",\n",
    "    \"Mortimer\": \"A traditional British cake made with dried fruits, nuts, and spices, often served during the Christmas season as a festive treat.\",\n",
    "    \"Raw bars\": \"Nutritious snacks made from raw ingredients, such as nuts, seeds, and dried fruits, perfect for on-the-go snacking.\",\n",
    "    \"Tacos/Fajita\": \"Mexican-inspired dishes featuring tortillas filled with seasoned meats, vegetables, and toppings, perfect for a flavorful and satisfying meal option.\"\n",
    "}\n"
   ]
  },
  {
   "cell_type": "code",
   "execution_count": 10,
   "id": "af189f48",
   "metadata": {
    "execution": {
     "iopub.execute_input": "2024-05-02T19:13:01.991773Z",
     "iopub.status.busy": "2024-05-02T19:13:01.991374Z",
     "iopub.status.idle": "2024-05-02T19:13:01.996456Z",
     "shell.execute_reply": "2024-05-02T19:13:01.995255Z"
    },
    "papermill": {
     "duration": 0.019948,
     "end_time": "2024-05-02T19:13:01.999084",
     "exception": false,
     "start_time": "2024-05-02T19:13:01.979136",
     "status": "completed"
    },
    "tags": []
   },
   "outputs": [],
   "source": [
    "# data['overview'] = data['Items'].map(cake_overview)"
   ]
  },
  {
   "cell_type": "code",
   "execution_count": 11,
   "id": "ab42712b",
   "metadata": {
    "execution": {
     "iopub.execute_input": "2024-05-02T19:13:02.023378Z",
     "iopub.status.busy": "2024-05-02T19:13:02.022949Z",
     "iopub.status.idle": "2024-05-02T19:13:02.027903Z",
     "shell.execute_reply": "2024-05-02T19:13:02.026671Z"
    },
    "papermill": {
     "duration": 0.020692,
     "end_time": "2024-05-02T19:13:02.030623",
     "exception": false,
     "start_time": "2024-05-02T19:13:02.009931",
     "status": "completed"
    },
    "tags": []
   },
   "outputs": [],
   "source": [
    "# data.to_csv('data.csv', sep=',', index=False)"
   ]
  },
  {
   "cell_type": "markdown",
   "id": "5ecaab82",
   "metadata": {
    "papermill": {
     "duration": 0.011692,
     "end_time": "2024-05-02T19:13:02.053529",
     "exception": false,
     "start_time": "2024-05-02T19:13:02.041837",
     "status": "completed"
    },
    "tags": []
   },
   "source": [
    "## Working with final data import from csv file"
   ]
  },
  {
   "cell_type": "code",
   "execution_count": 12,
   "id": "861f0a6e",
   "metadata": {
    "execution": {
     "iopub.execute_input": "2024-05-02T19:13:02.078283Z",
     "iopub.status.busy": "2024-05-02T19:13:02.077841Z",
     "iopub.status.idle": "2024-05-02T19:13:02.194952Z",
     "shell.execute_reply": "2024-05-02T19:13:02.193726Z"
    },
    "papermill": {
     "duration": 0.132953,
     "end_time": "2024-05-02T19:13:02.197956",
     "exception": false,
     "start_time": "2024-05-02T19:13:02.065003",
     "status": "completed"
    },
    "tags": []
   },
   "outputs": [],
   "source": [
    "data = pd.read_csv('/kaggle/input/food-set/data.csv')"
   ]
  },
  {
   "cell_type": "code",
   "execution_count": 13,
   "id": "87634e8c",
   "metadata": {
    "execution": {
     "iopub.execute_input": "2024-05-02T19:13:02.222145Z",
     "iopub.status.busy": "2024-05-02T19:13:02.221712Z",
     "iopub.status.idle": "2024-05-02T19:13:02.229465Z",
     "shell.execute_reply": "2024-05-02T19:13:02.228165Z"
    },
    "papermill": {
     "duration": 0.02299,
     "end_time": "2024-05-02T19:13:02.231909",
     "exception": false,
     "start_time": "2024-05-02T19:13:02.208919",
     "status": "completed"
    },
    "tags": []
   },
   "outputs": [
    {
     "data": {
      "text/plain": [
       "(20507, 8)"
      ]
     },
     "execution_count": 13,
     "metadata": {},
     "output_type": "execute_result"
    }
   ],
   "source": [
    "data.shape"
   ]
  },
  {
   "cell_type": "code",
   "execution_count": 14,
   "id": "67332119",
   "metadata": {
    "execution": {
     "iopub.execute_input": "2024-05-02T19:13:02.256345Z",
     "iopub.status.busy": "2024-05-02T19:13:02.255879Z",
     "iopub.status.idle": "2024-05-02T19:13:02.280445Z",
     "shell.execute_reply": "2024-05-02T19:13:02.279271Z"
    },
    "papermill": {
     "duration": 0.040308,
     "end_time": "2024-05-02T19:13:02.283320",
     "exception": false,
     "start_time": "2024-05-02T19:13:02.243012",
     "status": "completed"
    },
    "tags": []
   },
   "outputs": [
    {
     "data": {
      "text/html": [
       "<div>\n",
       "<style scoped>\n",
       "    .dataframe tbody tr th:only-of-type {\n",
       "        vertical-align: middle;\n",
       "    }\n",
       "\n",
       "    .dataframe tbody tr th {\n",
       "        vertical-align: top;\n",
       "    }\n",
       "\n",
       "    .dataframe thead th {\n",
       "        text-align: right;\n",
       "    }\n",
       "</style>\n",
       "<table border=\"1\" class=\"dataframe\">\n",
       "  <thead>\n",
       "    <tr style=\"text-align: right;\">\n",
       "      <th></th>\n",
       "      <th>TransactionNo</th>\n",
       "      <th>Items</th>\n",
       "      <th>DateTime</th>\n",
       "      <th>Daypart</th>\n",
       "      <th>DayType</th>\n",
       "      <th>User</th>\n",
       "      <th>Rating</th>\n",
       "      <th>overview</th>\n",
       "    </tr>\n",
       "  </thead>\n",
       "  <tbody>\n",
       "    <tr>\n",
       "      <th>20502</th>\n",
       "      <td>9682</td>\n",
       "      <td>Coffee</td>\n",
       "      <td>2017-09-04 14:32:58</td>\n",
       "      <td>Afternoon</td>\n",
       "      <td>Weekend</td>\n",
       "      <td>Louis</td>\n",
       "      <td>2</td>\n",
       "      <td>Cakes infused with the rich flavor of coffee, ...</td>\n",
       "    </tr>\n",
       "    <tr>\n",
       "      <th>20503</th>\n",
       "      <td>9682</td>\n",
       "      <td>Tea</td>\n",
       "      <td>2017-09-04 14:32:58</td>\n",
       "      <td>Afternoon</td>\n",
       "      <td>Weekend</td>\n",
       "      <td>Darren</td>\n",
       "      <td>5</td>\n",
       "      <td>Cakes perfect for pairing with a cup of tea, o...</td>\n",
       "    </tr>\n",
       "    <tr>\n",
       "      <th>20504</th>\n",
       "      <td>9683</td>\n",
       "      <td>Coffee</td>\n",
       "      <td>2017-09-04 14:57:06</td>\n",
       "      <td>Afternoon</td>\n",
       "      <td>Weekend</td>\n",
       "      <td>Pamela</td>\n",
       "      <td>0</td>\n",
       "      <td>Cakes infused with the rich flavor of coffee, ...</td>\n",
       "    </tr>\n",
       "    <tr>\n",
       "      <th>20505</th>\n",
       "      <td>9683</td>\n",
       "      <td>Pastry</td>\n",
       "      <td>2017-09-04 14:57:06</td>\n",
       "      <td>Afternoon</td>\n",
       "      <td>Weekend</td>\n",
       "      <td>Maureen</td>\n",
       "      <td>4</td>\n",
       "      <td>Delicate, flaky pastries filled with sweet or ...</td>\n",
       "    </tr>\n",
       "    <tr>\n",
       "      <th>20506</th>\n",
       "      <td>9684</td>\n",
       "      <td>Smoothies</td>\n",
       "      <td>2017-09-04 15:04:24</td>\n",
       "      <td>Afternoon</td>\n",
       "      <td>Weekend</td>\n",
       "      <td>Trina</td>\n",
       "      <td>0</td>\n",
       "      <td>Refreshing blended beverages made from fruits,...</td>\n",
       "    </tr>\n",
       "  </tbody>\n",
       "</table>\n",
       "</div>"
      ],
      "text/plain": [
       "       TransactionNo      Items             DateTime    Daypart  DayType  \\\n",
       "20502           9682     Coffee  2017-09-04 14:32:58  Afternoon  Weekend   \n",
       "20503           9682        Tea  2017-09-04 14:32:58  Afternoon  Weekend   \n",
       "20504           9683     Coffee  2017-09-04 14:57:06  Afternoon  Weekend   \n",
       "20505           9683     Pastry  2017-09-04 14:57:06  Afternoon  Weekend   \n",
       "20506           9684  Smoothies  2017-09-04 15:04:24  Afternoon  Weekend   \n",
       "\n",
       "          User  Rating                                           overview  \n",
       "20502    Louis       2  Cakes infused with the rich flavor of coffee, ...  \n",
       "20503   Darren       5  Cakes perfect for pairing with a cup of tea, o...  \n",
       "20504   Pamela       0  Cakes infused with the rich flavor of coffee, ...  \n",
       "20505  Maureen       4  Delicate, flaky pastries filled with sweet or ...  \n",
       "20506    Trina       0  Refreshing blended beverages made from fruits,...  "
      ]
     },
     "execution_count": 14,
     "metadata": {},
     "output_type": "execute_result"
    }
   ],
   "source": [
    "data.tail(5)"
   ]
  },
  {
   "cell_type": "code",
   "execution_count": 15,
   "id": "16c3acdd",
   "metadata": {
    "execution": {
     "iopub.execute_input": "2024-05-02T19:13:02.308121Z",
     "iopub.status.busy": "2024-05-02T19:13:02.307728Z",
     "iopub.status.idle": "2024-05-02T19:13:02.323348Z",
     "shell.execute_reply": "2024-05-02T19:13:02.322076Z"
    },
    "papermill": {
     "duration": 0.031078,
     "end_time": "2024-05-02T19:13:02.325884",
     "exception": false,
     "start_time": "2024-05-02T19:13:02.294806",
     "status": "completed"
    },
    "tags": []
   },
   "outputs": [
    {
     "data": {
      "text/html": [
       "<div>\n",
       "<style scoped>\n",
       "    .dataframe tbody tr th:only-of-type {\n",
       "        vertical-align: middle;\n",
       "    }\n",
       "\n",
       "    .dataframe tbody tr th {\n",
       "        vertical-align: top;\n",
       "    }\n",
       "\n",
       "    .dataframe thead th {\n",
       "        text-align: right;\n",
       "    }\n",
       "</style>\n",
       "<table border=\"1\" class=\"dataframe\">\n",
       "  <thead>\n",
       "    <tr style=\"text-align: right;\">\n",
       "      <th></th>\n",
       "      <th>TransactionNo</th>\n",
       "      <th>Items</th>\n",
       "      <th>DateTime</th>\n",
       "      <th>Daypart</th>\n",
       "      <th>DayType</th>\n",
       "      <th>User</th>\n",
       "      <th>Rating</th>\n",
       "      <th>overview</th>\n",
       "    </tr>\n",
       "  </thead>\n",
       "  <tbody>\n",
       "    <tr>\n",
       "      <th>0</th>\n",
       "      <td>1</td>\n",
       "      <td>Bread</td>\n",
       "      <td>2016-10-30 09:58:11</td>\n",
       "      <td>Morning</td>\n",
       "      <td>Weekend</td>\n",
       "      <td>Gloria</td>\n",
       "      <td>3</td>\n",
       "      <td>A staple food made from flour, water, and yeas...</td>\n",
       "    </tr>\n",
       "    <tr>\n",
       "      <th>1</th>\n",
       "      <td>2</td>\n",
       "      <td>Scandinavian</td>\n",
       "      <td>2016-10-30 10:05:34</td>\n",
       "      <td>Morning</td>\n",
       "      <td>Weekend</td>\n",
       "      <td>Louise</td>\n",
       "      <td>5</td>\n",
       "      <td>Reflecting the flavors of Northern Europe, Sca...</td>\n",
       "    </tr>\n",
       "    <tr>\n",
       "      <th>2</th>\n",
       "      <td>2</td>\n",
       "      <td>Scandinavian</td>\n",
       "      <td>2016-10-30 10:05:34</td>\n",
       "      <td>Morning</td>\n",
       "      <td>Weekend</td>\n",
       "      <td>Daniel</td>\n",
       "      <td>5</td>\n",
       "      <td>Reflecting the flavors of Northern Europe, Sca...</td>\n",
       "    </tr>\n",
       "    <tr>\n",
       "      <th>3</th>\n",
       "      <td>3</td>\n",
       "      <td>Hot chocolate</td>\n",
       "      <td>2016-10-30 10:07:57</td>\n",
       "      <td>Morning</td>\n",
       "      <td>Weekend</td>\n",
       "      <td>Shannon</td>\n",
       "      <td>4</td>\n",
       "      <td>Though not a cake in the traditional sense, ho...</td>\n",
       "    </tr>\n",
       "    <tr>\n",
       "      <th>4</th>\n",
       "      <td>3</td>\n",
       "      <td>Jam</td>\n",
       "      <td>2016-10-30 10:07:57</td>\n",
       "      <td>Morning</td>\n",
       "      <td>Weekend</td>\n",
       "      <td>Manuel</td>\n",
       "      <td>3</td>\n",
       "      <td>A sweet spread made from fruits, commonly used...</td>\n",
       "    </tr>\n",
       "  </tbody>\n",
       "</table>\n",
       "</div>"
      ],
      "text/plain": [
       "   TransactionNo          Items             DateTime  Daypart  DayType  \\\n",
       "0              1          Bread  2016-10-30 09:58:11  Morning  Weekend   \n",
       "1              2   Scandinavian  2016-10-30 10:05:34  Morning  Weekend   \n",
       "2              2   Scandinavian  2016-10-30 10:05:34  Morning  Weekend   \n",
       "3              3  Hot chocolate  2016-10-30 10:07:57  Morning  Weekend   \n",
       "4              3            Jam  2016-10-30 10:07:57  Morning  Weekend   \n",
       "\n",
       "      User  Rating                                           overview  \n",
       "0   Gloria       3  A staple food made from flour, water, and yeas...  \n",
       "1   Louise       5  Reflecting the flavors of Northern Europe, Sca...  \n",
       "2   Daniel       5  Reflecting the flavors of Northern Europe, Sca...  \n",
       "3  Shannon       4  Though not a cake in the traditional sense, ho...  \n",
       "4   Manuel       3  A sweet spread made from fruits, commonly used...  "
      ]
     },
     "execution_count": 15,
     "metadata": {},
     "output_type": "execute_result"
    }
   ],
   "source": [
    "data.head(5) "
   ]
  },
  {
   "cell_type": "code",
   "execution_count": 16,
   "id": "b91155e7",
   "metadata": {
    "execution": {
     "iopub.execute_input": "2024-05-02T19:13:02.351430Z",
     "iopub.status.busy": "2024-05-02T19:13:02.351008Z",
     "iopub.status.idle": "2024-05-02T19:13:02.366554Z",
     "shell.execute_reply": "2024-05-02T19:13:02.365292Z"
    },
    "papermill": {
     "duration": 0.031481,
     "end_time": "2024-05-02T19:13:02.369129",
     "exception": false,
     "start_time": "2024-05-02T19:13:02.337648",
     "status": "completed"
    },
    "tags": []
   },
   "outputs": [
    {
     "data": {
      "text/html": [
       "<div>\n",
       "<style scoped>\n",
       "    .dataframe tbody tr th:only-of-type {\n",
       "        vertical-align: middle;\n",
       "    }\n",
       "\n",
       "    .dataframe tbody tr th {\n",
       "        vertical-align: top;\n",
       "    }\n",
       "\n",
       "    .dataframe thead th {\n",
       "        text-align: right;\n",
       "    }\n",
       "</style>\n",
       "<table border=\"1\" class=\"dataframe\">\n",
       "  <thead>\n",
       "    <tr style=\"text-align: right;\">\n",
       "      <th></th>\n",
       "      <th>TransactionNo</th>\n",
       "      <th>Items</th>\n",
       "      <th>DateTime</th>\n",
       "      <th>Daypart</th>\n",
       "      <th>DayType</th>\n",
       "      <th>User</th>\n",
       "      <th>Rating</th>\n",
       "      <th>overview</th>\n",
       "    </tr>\n",
       "  </thead>\n",
       "  <tbody>\n",
       "    <tr>\n",
       "      <th>0</th>\n",
       "      <td>1</td>\n",
       "      <td>Bread</td>\n",
       "      <td>2016-10-30 09:58:11</td>\n",
       "      <td>Morning</td>\n",
       "      <td>Weekend</td>\n",
       "      <td>Gloria</td>\n",
       "      <td>3</td>\n",
       "      <td>A staple food made from flour, water, and yeas...</td>\n",
       "    </tr>\n",
       "    <tr>\n",
       "      <th>1</th>\n",
       "      <td>2</td>\n",
       "      <td>Scandinavian</td>\n",
       "      <td>2016-10-30 10:05:34</td>\n",
       "      <td>Morning</td>\n",
       "      <td>Weekend</td>\n",
       "      <td>Louise</td>\n",
       "      <td>5</td>\n",
       "      <td>Reflecting the flavors of Northern Europe, Sca...</td>\n",
       "    </tr>\n",
       "    <tr>\n",
       "      <th>2</th>\n",
       "      <td>2</td>\n",
       "      <td>Scandinavian</td>\n",
       "      <td>2016-10-30 10:05:34</td>\n",
       "      <td>Morning</td>\n",
       "      <td>Weekend</td>\n",
       "      <td>Daniel</td>\n",
       "      <td>5</td>\n",
       "      <td>Reflecting the flavors of Northern Europe, Sca...</td>\n",
       "    </tr>\n",
       "    <tr>\n",
       "      <th>3</th>\n",
       "      <td>3</td>\n",
       "      <td>Hot chocolate</td>\n",
       "      <td>2016-10-30 10:07:57</td>\n",
       "      <td>Morning</td>\n",
       "      <td>Weekend</td>\n",
       "      <td>Shannon</td>\n",
       "      <td>4</td>\n",
       "      <td>Though not a cake in the traditional sense, ho...</td>\n",
       "    </tr>\n",
       "    <tr>\n",
       "      <th>4</th>\n",
       "      <td>3</td>\n",
       "      <td>Jam</td>\n",
       "      <td>2016-10-30 10:07:57</td>\n",
       "      <td>Morning</td>\n",
       "      <td>Weekend</td>\n",
       "      <td>Manuel</td>\n",
       "      <td>3</td>\n",
       "      <td>A sweet spread made from fruits, commonly used...</td>\n",
       "    </tr>\n",
       "  </tbody>\n",
       "</table>\n",
       "</div>"
      ],
      "text/plain": [
       "   TransactionNo          Items             DateTime  Daypart  DayType  \\\n",
       "0              1          Bread  2016-10-30 09:58:11  Morning  Weekend   \n",
       "1              2   Scandinavian  2016-10-30 10:05:34  Morning  Weekend   \n",
       "2              2   Scandinavian  2016-10-30 10:05:34  Morning  Weekend   \n",
       "3              3  Hot chocolate  2016-10-30 10:07:57  Morning  Weekend   \n",
       "4              3            Jam  2016-10-30 10:07:57  Morning  Weekend   \n",
       "\n",
       "      User  Rating                                           overview  \n",
       "0   Gloria       3  A staple food made from flour, water, and yeas...  \n",
       "1   Louise       5  Reflecting the flavors of Northern Europe, Sca...  \n",
       "2   Daniel       5  Reflecting the flavors of Northern Europe, Sca...  \n",
       "3  Shannon       4  Though not a cake in the traditional sense, ho...  \n",
       "4   Manuel       3  A sweet spread made from fruits, commonly used...  "
      ]
     },
     "execution_count": 16,
     "metadata": {},
     "output_type": "execute_result"
    }
   ],
   "source": [
    "data.head(5)"
   ]
  },
  {
   "cell_type": "code",
   "execution_count": 17,
   "id": "d8bb6057",
   "metadata": {
    "execution": {
     "iopub.execute_input": "2024-05-02T19:13:02.394753Z",
     "iopub.status.busy": "2024-05-02T19:13:02.394329Z",
     "iopub.status.idle": "2024-05-02T19:13:02.407656Z",
     "shell.execute_reply": "2024-05-02T19:13:02.406282Z"
    },
    "papermill": {
     "duration": 0.029707,
     "end_time": "2024-05-02T19:13:02.410716",
     "exception": false,
     "start_time": "2024-05-02T19:13:02.381009",
     "status": "completed"
    },
    "tags": []
   },
   "outputs": [
    {
     "data": {
      "text/plain": [
       "94"
      ]
     },
     "execution_count": 17,
     "metadata": {},
     "output_type": "execute_result"
    }
   ],
   "source": [
    "len(data.Items.unique())"
   ]
  },
  {
   "cell_type": "code",
   "execution_count": 18,
   "id": "d269834e",
   "metadata": {
    "execution": {
     "iopub.execute_input": "2024-05-02T19:13:02.438160Z",
     "iopub.status.busy": "2024-05-02T19:13:02.437762Z",
     "iopub.status.idle": "2024-05-02T19:13:02.444932Z",
     "shell.execute_reply": "2024-05-02T19:13:02.443801Z"
    },
    "papermill": {
     "duration": 0.023914,
     "end_time": "2024-05-02T19:13:02.447609",
     "exception": false,
     "start_time": "2024-05-02T19:13:02.423695",
     "status": "completed"
    },
    "tags": []
   },
   "outputs": [],
   "source": [
    "list = data.Items.unique()"
   ]
  },
  {
   "cell_type": "code",
   "execution_count": 19,
   "id": "60cc44a4",
   "metadata": {
    "execution": {
     "iopub.execute_input": "2024-05-02T19:13:02.473930Z",
     "iopub.status.busy": "2024-05-02T19:13:02.472929Z",
     "iopub.status.idle": "2024-05-02T19:13:03.841519Z",
     "shell.execute_reply": "2024-05-02T19:13:03.840343Z"
    },
    "papermill": {
     "duration": 1.384815,
     "end_time": "2024-05-02T19:13:03.844459",
     "exception": false,
     "start_time": "2024-05-02T19:13:02.459644",
     "status": "completed"
    },
    "tags": []
   },
   "outputs": [],
   "source": [
    "from sklearn.feature_extraction.text import TfidfVectorizer"
   ]
  },
  {
   "cell_type": "code",
   "execution_count": 20,
   "id": "77604fb9",
   "metadata": {
    "execution": {
     "iopub.execute_input": "2024-05-02T19:13:03.870901Z",
     "iopub.status.busy": "2024-05-02T19:13:03.869863Z",
     "iopub.status.idle": "2024-05-02T19:13:03.905140Z",
     "shell.execute_reply": "2024-05-02T19:13:03.903778Z"
    },
    "papermill": {
     "duration": 0.05127,
     "end_time": "2024-05-02T19:13:03.907919",
     "exception": false,
     "start_time": "2024-05-02T19:13:03.856649",
     "status": "completed"
    },
    "tags": []
   },
   "outputs": [
    {
     "data": {
      "text/html": [
       "<div>\n",
       "<style scoped>\n",
       "    .dataframe tbody tr th:only-of-type {\n",
       "        vertical-align: middle;\n",
       "    }\n",
       "\n",
       "    .dataframe tbody tr th {\n",
       "        vertical-align: top;\n",
       "    }\n",
       "\n",
       "    .dataframe thead th {\n",
       "        text-align: right;\n",
       "    }\n",
       "</style>\n",
       "<table border=\"1\" class=\"dataframe\">\n",
       "  <thead>\n",
       "    <tr style=\"text-align: right;\">\n",
       "      <th></th>\n",
       "      <th>TransactionNo</th>\n",
       "      <th>Items</th>\n",
       "      <th>DateTime</th>\n",
       "      <th>Daypart</th>\n",
       "      <th>DayType</th>\n",
       "      <th>User</th>\n",
       "      <th>Rating</th>\n",
       "      <th>overview</th>\n",
       "    </tr>\n",
       "  </thead>\n",
       "  <tbody>\n",
       "    <tr>\n",
       "      <th>0</th>\n",
       "      <td>1</td>\n",
       "      <td>Bread</td>\n",
       "      <td>2016-10-30 09:58:11</td>\n",
       "      <td>Morning</td>\n",
       "      <td>Weekend</td>\n",
       "      <td>Gloria</td>\n",
       "      <td>3</td>\n",
       "      <td>A staple food made from flour, water, and yeas...</td>\n",
       "    </tr>\n",
       "    <tr>\n",
       "      <th>1</th>\n",
       "      <td>2</td>\n",
       "      <td>Scandinavian</td>\n",
       "      <td>2016-10-30 10:05:34</td>\n",
       "      <td>Morning</td>\n",
       "      <td>Weekend</td>\n",
       "      <td>Louise</td>\n",
       "      <td>5</td>\n",
       "      <td>Reflecting the flavors of Northern Europe, Sca...</td>\n",
       "    </tr>\n",
       "    <tr>\n",
       "      <th>2</th>\n",
       "      <td>3</td>\n",
       "      <td>Hot chocolate</td>\n",
       "      <td>2016-10-30 10:07:57</td>\n",
       "      <td>Morning</td>\n",
       "      <td>Weekend</td>\n",
       "      <td>Shannon</td>\n",
       "      <td>4</td>\n",
       "      <td>Though not a cake in the traditional sense, ho...</td>\n",
       "    </tr>\n",
       "    <tr>\n",
       "      <th>3</th>\n",
       "      <td>3</td>\n",
       "      <td>Jam</td>\n",
       "      <td>2016-10-30 10:07:57</td>\n",
       "      <td>Morning</td>\n",
       "      <td>Weekend</td>\n",
       "      <td>Manuel</td>\n",
       "      <td>3</td>\n",
       "      <td>A sweet spread made from fruits, commonly used...</td>\n",
       "    </tr>\n",
       "    <tr>\n",
       "      <th>4</th>\n",
       "      <td>3</td>\n",
       "      <td>Cookies</td>\n",
       "      <td>2016-10-30 10:07:57</td>\n",
       "      <td>Morning</td>\n",
       "      <td>Weekend</td>\n",
       "      <td>Drew</td>\n",
       "      <td>0</td>\n",
       "      <td>Bite-sized baked treats with endless variation...</td>\n",
       "    </tr>\n",
       "    <tr>\n",
       "      <th>...</th>\n",
       "      <td>...</td>\n",
       "      <td>...</td>\n",
       "      <td>...</td>\n",
       "      <td>...</td>\n",
       "      <td>...</td>\n",
       "      <td>...</td>\n",
       "      <td>...</td>\n",
       "      <td>...</td>\n",
       "    </tr>\n",
       "    <tr>\n",
       "      <th>89</th>\n",
       "      <td>8129</td>\n",
       "      <td>Gift voucher</td>\n",
       "      <td>2017-03-14 11:42:39</td>\n",
       "      <td>Morning</td>\n",
       "      <td>Weekday</td>\n",
       "      <td>Ruby</td>\n",
       "      <td>4</td>\n",
       "      <td>Vouchers or gift cards redeemable for cakes, p...</td>\n",
       "    </tr>\n",
       "    <tr>\n",
       "      <th>90</th>\n",
       "      <td>8227</td>\n",
       "      <td>Cherry me Dried fruit</td>\n",
       "      <td>2017-03-16 10:52:25</td>\n",
       "      <td>Morning</td>\n",
       "      <td>Weekday</td>\n",
       "      <td>Maggie</td>\n",
       "      <td>5</td>\n",
       "      <td>Dried fruits infused with cherry flavor, perfe...</td>\n",
       "    </tr>\n",
       "    <tr>\n",
       "      <th>91</th>\n",
       "      <td>8261</td>\n",
       "      <td>Mortimer</td>\n",
       "      <td>2017-03-17 08:24:48</td>\n",
       "      <td>Morning</td>\n",
       "      <td>Weekday</td>\n",
       "      <td>Rosa</td>\n",
       "      <td>5</td>\n",
       "      <td>A traditional British cake made with dried fru...</td>\n",
       "    </tr>\n",
       "    <tr>\n",
       "      <th>92</th>\n",
       "      <td>9022</td>\n",
       "      <td>Raw bars</td>\n",
       "      <td>2017-03-29 14:48:07</td>\n",
       "      <td>Afternoon</td>\n",
       "      <td>Weekday</td>\n",
       "      <td>Brad</td>\n",
       "      <td>1</td>\n",
       "      <td>Nutritious snacks made from raw ingredients, s...</td>\n",
       "    </tr>\n",
       "    <tr>\n",
       "      <th>93</th>\n",
       "      <td>9587</td>\n",
       "      <td>Tacos/Fajita</td>\n",
       "      <td>2017-08-04 11:28:11</td>\n",
       "      <td>Morning</td>\n",
       "      <td>Weekend</td>\n",
       "      <td>Ethan</td>\n",
       "      <td>3</td>\n",
       "      <td>Mexican-inspired dishes featuring tortillas fi...</td>\n",
       "    </tr>\n",
       "  </tbody>\n",
       "</table>\n",
       "<p>94 rows × 8 columns</p>\n",
       "</div>"
      ],
      "text/plain": [
       "    TransactionNo                  Items             DateTime    Daypart  \\\n",
       "0               1                  Bread  2016-10-30 09:58:11    Morning   \n",
       "1               2           Scandinavian  2016-10-30 10:05:34    Morning   \n",
       "2               3          Hot chocolate  2016-10-30 10:07:57    Morning   \n",
       "3               3                    Jam  2016-10-30 10:07:57    Morning   \n",
       "4               3                Cookies  2016-10-30 10:07:57    Morning   \n",
       "..            ...                    ...                  ...        ...   \n",
       "89           8129           Gift voucher  2017-03-14 11:42:39    Morning   \n",
       "90           8227  Cherry me Dried fruit  2017-03-16 10:52:25    Morning   \n",
       "91           8261               Mortimer  2017-03-17 08:24:48    Morning   \n",
       "92           9022               Raw bars  2017-03-29 14:48:07  Afternoon   \n",
       "93           9587           Tacos/Fajita  2017-08-04 11:28:11    Morning   \n",
       "\n",
       "    DayType     User  Rating  \\\n",
       "0   Weekend   Gloria       3   \n",
       "1   Weekend   Louise       5   \n",
       "2   Weekend  Shannon       4   \n",
       "3   Weekend   Manuel       3   \n",
       "4   Weekend     Drew       0   \n",
       "..      ...      ...     ...   \n",
       "89  Weekday     Ruby       4   \n",
       "90  Weekday   Maggie       5   \n",
       "91  Weekday     Rosa       5   \n",
       "92  Weekday     Brad       1   \n",
       "93  Weekend    Ethan       3   \n",
       "\n",
       "                                             overview  \n",
       "0   A staple food made from flour, water, and yeas...  \n",
       "1   Reflecting the flavors of Northern Europe, Sca...  \n",
       "2   Though not a cake in the traditional sense, ho...  \n",
       "3   A sweet spread made from fruits, commonly used...  \n",
       "4   Bite-sized baked treats with endless variation...  \n",
       "..                                                ...  \n",
       "89  Vouchers or gift cards redeemable for cakes, p...  \n",
       "90  Dried fruits infused with cherry flavor, perfe...  \n",
       "91  A traditional British cake made with dried fru...  \n",
       "92  Nutritious snacks made from raw ingredients, s...  \n",
       "93  Mexican-inspired dishes featuring tortillas fi...  \n",
       "\n",
       "[94 rows x 8 columns]"
      ]
     },
     "execution_count": 20,
     "metadata": {},
     "output_type": "execute_result"
    }
   ],
   "source": [
    "new_data = data.drop_duplicates(subset = ['Items','overview'])\n",
    "new_data = new_data.reset_index(drop=True)\n",
    "new_data"
   ]
  },
  {
   "cell_type": "code",
   "execution_count": 21,
   "id": "42f4c6b8",
   "metadata": {
    "execution": {
     "iopub.execute_input": "2024-05-02T19:13:03.934744Z",
     "iopub.status.busy": "2024-05-02T19:13:03.934341Z",
     "iopub.status.idle": "2024-05-02T19:13:03.965664Z",
     "shell.execute_reply": "2024-05-02T19:13:03.964343Z"
    },
    "papermill": {
     "duration": 0.047677,
     "end_time": "2024-05-02T19:13:03.968133",
     "exception": false,
     "start_time": "2024-05-02T19:13:03.920456",
     "status": "completed"
    },
    "tags": []
   },
   "outputs": [
    {
     "name": "stdout",
     "output_type": "stream",
     "text": [
      "tfidf_matrix.shape :  (94, 462)\n",
      "['pastries' 'pastry' 'perfect' 'personalized' 'pieces' 'pies' 'plain'\n",
      " 'plant' 'polenta' 'popcorn']\n"
     ]
    }
   ],
   "source": [
    "#Define a TF-IDF Vectorizer Object. Remove all english stop words such as 'the', 'a'\n",
    "tfidf = TfidfVectorizer(stop_words='english') # xu ly van ban\n",
    "\n",
    "#Replace NaN with an empty string\n",
    "new_data['overview'] = new_data['overview'].fillna('') # voi nhung item k co overview thay the thanh ' '\n",
    "\n",
    "#Construct the required TF-IDF matrix by fitting and transforming the data\n",
    "# tao matrix moi da xu ly van ban overview\n",
    "# row : document, column : feature\n",
    "tfidf_matrix = tfidf.fit_transform(new_data['overview']) # ko hieu ham nay hoat dộng kieu gi\n",
    "\n",
    "#Output the shape of tfidf_matrix\n",
    "print(\"tfidf_matrix.shape : \", tfidf_matrix.shape)\n",
    "print(tfidf.get_feature_names_out()[300:310])"
   ]
  },
  {
   "cell_type": "code",
   "execution_count": 22,
   "id": "0d90ca3b",
   "metadata": {
    "execution": {
     "iopub.execute_input": "2024-05-02T19:13:03.994864Z",
     "iopub.status.busy": "2024-05-02T19:13:03.994442Z",
     "iopub.status.idle": "2024-05-02T19:13:04.027111Z",
     "shell.execute_reply": "2024-05-02T19:13:04.025730Z"
    },
    "papermill": {
     "duration": 0.049129,
     "end_time": "2024-05-02T19:13:04.029814",
     "exception": false,
     "start_time": "2024-05-02T19:13:03.980685",
     "status": "completed"
    },
    "tags": []
   },
   "outputs": [
    {
     "data": {
      "text/html": [
       "<div>\n",
       "<style scoped>\n",
       "    .dataframe tbody tr th:only-of-type {\n",
       "        vertical-align: middle;\n",
       "    }\n",
       "\n",
       "    .dataframe tbody tr th {\n",
       "        vertical-align: top;\n",
       "    }\n",
       "\n",
       "    .dataframe thead th {\n",
       "        text-align: right;\n",
       "    }\n",
       "</style>\n",
       "<table border=\"1\" class=\"dataframe\">\n",
       "  <thead>\n",
       "    <tr style=\"text-align: right;\">\n",
       "      <th></th>\n",
       "      <th>0</th>\n",
       "    </tr>\n",
       "  </thead>\n",
       "  <tbody>\n",
       "    <tr>\n",
       "      <th>0</th>\n",
       "      <td>(0, 232)\\t0.3221227889622009\\n  (0, 381)\\t0....</td>\n",
       "    </tr>\n",
       "    <tr>\n",
       "      <th>1</th>\n",
       "      <td>(0, 212)\\t0.3122006117465529\\n  (0, 457)\\t0....</td>\n",
       "    </tr>\n",
       "    <tr>\n",
       "      <th>2</th>\n",
       "      <td>(0, 257)\\t0.3183233237057496\\n  (0, 109)\\t0....</td>\n",
       "    </tr>\n",
       "    <tr>\n",
       "      <th>3</th>\n",
       "      <td>(0, 273)\\t0.29354137258805835\\n  (0, 200)\\t0...</td>\n",
       "    </tr>\n",
       "    <tr>\n",
       "      <th>4</th>\n",
       "      <td>(0, 367)\\t0.29385114823359737\\n  (0, 128)\\t0...</td>\n",
       "    </tr>\n",
       "    <tr>\n",
       "      <th>...</th>\n",
       "      <td>...</td>\n",
       "    </tr>\n",
       "    <tr>\n",
       "      <th>89</th>\n",
       "      <td>(0, 289)\\t0.32140744434469\\n  (0, 252)\\t0.32...</td>\n",
       "    </tr>\n",
       "    <tr>\n",
       "      <th>90</th>\n",
       "      <td>(0, 72)\\t0.3443787416820984\\n  (0, 276)\\t0.3...</td>\n",
       "    </tr>\n",
       "    <tr>\n",
       "      <th>91</th>\n",
       "      <td>(0, 81)\\t0.359337420695304\\n  (0, 174)\\t0.33...</td>\n",
       "    </tr>\n",
       "    <tr>\n",
       "      <th>92</th>\n",
       "      <td>(0, 327)\\t0.4319904697084788\\n  (0, 358)\\t0....</td>\n",
       "    </tr>\n",
       "    <tr>\n",
       "      <th>93</th>\n",
       "      <td>(0, 429)\\t0.33238116831831727\\n  (0, 231)\\t0...</td>\n",
       "    </tr>\n",
       "  </tbody>\n",
       "</table>\n",
       "<p>94 rows × 1 columns</p>\n",
       "</div>"
      ],
      "text/plain": [
       "                                                    0\n",
       "0     (0, 232)\\t0.3221227889622009\\n  (0, 381)\\t0....\n",
       "1     (0, 212)\\t0.3122006117465529\\n  (0, 457)\\t0....\n",
       "2     (0, 257)\\t0.3183233237057496\\n  (0, 109)\\t0....\n",
       "3     (0, 273)\\t0.29354137258805835\\n  (0, 200)\\t0...\n",
       "4     (0, 367)\\t0.29385114823359737\\n  (0, 128)\\t0...\n",
       "..                                                ...\n",
       "89    (0, 289)\\t0.32140744434469\\n  (0, 252)\\t0.32...\n",
       "90    (0, 72)\\t0.3443787416820984\\n  (0, 276)\\t0.3...\n",
       "91    (0, 81)\\t0.359337420695304\\n  (0, 174)\\t0.33...\n",
       "92    (0, 327)\\t0.4319904697084788\\n  (0, 358)\\t0....\n",
       "93    (0, 429)\\t0.33238116831831727\\n  (0, 231)\\t0...\n",
       "\n",
       "[94 rows x 1 columns]"
      ]
     },
     "execution_count": 22,
     "metadata": {},
     "output_type": "execute_result"
    }
   ],
   "source": [
    "tf = pd.DataFrame(tfidf_matrix)\n",
    "tf"
   ]
  },
  {
   "cell_type": "code",
   "execution_count": 23,
   "id": "b288bf41",
   "metadata": {
    "execution": {
     "iopub.execute_input": "2024-05-02T19:13:04.056816Z",
     "iopub.status.busy": "2024-05-02T19:13:04.056411Z",
     "iopub.status.idle": "2024-05-02T19:13:04.073109Z",
     "shell.execute_reply": "2024-05-02T19:13:04.072031Z"
    },
    "papermill": {
     "duration": 0.033033,
     "end_time": "2024-05-02T19:13:04.075569",
     "exception": false,
     "start_time": "2024-05-02T19:13:04.042536",
     "status": "completed"
    },
    "tags": []
   },
   "outputs": [
    {
     "data": {
      "text/html": [
       "<div>\n",
       "<style scoped>\n",
       "    .dataframe tbody tr th:only-of-type {\n",
       "        vertical-align: middle;\n",
       "    }\n",
       "\n",
       "    .dataframe tbody tr th {\n",
       "        vertical-align: top;\n",
       "    }\n",
       "\n",
       "    .dataframe thead th {\n",
       "        text-align: right;\n",
       "    }\n",
       "</style>\n",
       "<table border=\"1\" class=\"dataframe\">\n",
       "  <thead>\n",
       "    <tr style=\"text-align: right;\">\n",
       "      <th></th>\n",
       "      <th>TransactionNo</th>\n",
       "      <th>Items</th>\n",
       "      <th>DateTime</th>\n",
       "      <th>Daypart</th>\n",
       "      <th>DayType</th>\n",
       "      <th>User</th>\n",
       "      <th>Rating</th>\n",
       "      <th>overview</th>\n",
       "    </tr>\n",
       "  </thead>\n",
       "  <tbody>\n",
       "    <tr>\n",
       "      <th>0</th>\n",
       "      <td>1</td>\n",
       "      <td>Bread</td>\n",
       "      <td>2016-10-30 09:58:11</td>\n",
       "      <td>Morning</td>\n",
       "      <td>Weekend</td>\n",
       "      <td>Gloria</td>\n",
       "      <td>3</td>\n",
       "      <td>A staple food made from flour, water, and yeas...</td>\n",
       "    </tr>\n",
       "    <tr>\n",
       "      <th>1</th>\n",
       "      <td>2</td>\n",
       "      <td>Scandinavian</td>\n",
       "      <td>2016-10-30 10:05:34</td>\n",
       "      <td>Morning</td>\n",
       "      <td>Weekend</td>\n",
       "      <td>Louise</td>\n",
       "      <td>5</td>\n",
       "      <td>Reflecting the flavors of Northern Europe, Sca...</td>\n",
       "    </tr>\n",
       "    <tr>\n",
       "      <th>2</th>\n",
       "      <td>3</td>\n",
       "      <td>Hot chocolate</td>\n",
       "      <td>2016-10-30 10:07:57</td>\n",
       "      <td>Morning</td>\n",
       "      <td>Weekend</td>\n",
       "      <td>Shannon</td>\n",
       "      <td>4</td>\n",
       "      <td>Though not a cake in the traditional sense, ho...</td>\n",
       "    </tr>\n",
       "    <tr>\n",
       "      <th>3</th>\n",
       "      <td>3</td>\n",
       "      <td>Jam</td>\n",
       "      <td>2016-10-30 10:07:57</td>\n",
       "      <td>Morning</td>\n",
       "      <td>Weekend</td>\n",
       "      <td>Manuel</td>\n",
       "      <td>3</td>\n",
       "      <td>A sweet spread made from fruits, commonly used...</td>\n",
       "    </tr>\n",
       "    <tr>\n",
       "      <th>4</th>\n",
       "      <td>3</td>\n",
       "      <td>Cookies</td>\n",
       "      <td>2016-10-30 10:07:57</td>\n",
       "      <td>Morning</td>\n",
       "      <td>Weekend</td>\n",
       "      <td>Drew</td>\n",
       "      <td>0</td>\n",
       "      <td>Bite-sized baked treats with endless variation...</td>\n",
       "    </tr>\n",
       "    <tr>\n",
       "      <th>...</th>\n",
       "      <td>...</td>\n",
       "      <td>...</td>\n",
       "      <td>...</td>\n",
       "      <td>...</td>\n",
       "      <td>...</td>\n",
       "      <td>...</td>\n",
       "      <td>...</td>\n",
       "      <td>...</td>\n",
       "    </tr>\n",
       "    <tr>\n",
       "      <th>89</th>\n",
       "      <td>8129</td>\n",
       "      <td>Gift voucher</td>\n",
       "      <td>2017-03-14 11:42:39</td>\n",
       "      <td>Morning</td>\n",
       "      <td>Weekday</td>\n",
       "      <td>Ruby</td>\n",
       "      <td>4</td>\n",
       "      <td>Vouchers or gift cards redeemable for cakes, p...</td>\n",
       "    </tr>\n",
       "    <tr>\n",
       "      <th>90</th>\n",
       "      <td>8227</td>\n",
       "      <td>Cherry me Dried fruit</td>\n",
       "      <td>2017-03-16 10:52:25</td>\n",
       "      <td>Morning</td>\n",
       "      <td>Weekday</td>\n",
       "      <td>Maggie</td>\n",
       "      <td>5</td>\n",
       "      <td>Dried fruits infused with cherry flavor, perfe...</td>\n",
       "    </tr>\n",
       "    <tr>\n",
       "      <th>91</th>\n",
       "      <td>8261</td>\n",
       "      <td>Mortimer</td>\n",
       "      <td>2017-03-17 08:24:48</td>\n",
       "      <td>Morning</td>\n",
       "      <td>Weekday</td>\n",
       "      <td>Rosa</td>\n",
       "      <td>5</td>\n",
       "      <td>A traditional British cake made with dried fru...</td>\n",
       "    </tr>\n",
       "    <tr>\n",
       "      <th>92</th>\n",
       "      <td>9022</td>\n",
       "      <td>Raw bars</td>\n",
       "      <td>2017-03-29 14:48:07</td>\n",
       "      <td>Afternoon</td>\n",
       "      <td>Weekday</td>\n",
       "      <td>Brad</td>\n",
       "      <td>1</td>\n",
       "      <td>Nutritious snacks made from raw ingredients, s...</td>\n",
       "    </tr>\n",
       "    <tr>\n",
       "      <th>93</th>\n",
       "      <td>9587</td>\n",
       "      <td>Tacos/Fajita</td>\n",
       "      <td>2017-08-04 11:28:11</td>\n",
       "      <td>Morning</td>\n",
       "      <td>Weekend</td>\n",
       "      <td>Ethan</td>\n",
       "      <td>3</td>\n",
       "      <td>Mexican-inspired dishes featuring tortillas fi...</td>\n",
       "    </tr>\n",
       "  </tbody>\n",
       "</table>\n",
       "<p>94 rows × 8 columns</p>\n",
       "</div>"
      ],
      "text/plain": [
       "    TransactionNo                  Items             DateTime    Daypart  \\\n",
       "0               1                  Bread  2016-10-30 09:58:11    Morning   \n",
       "1               2           Scandinavian  2016-10-30 10:05:34    Morning   \n",
       "2               3          Hot chocolate  2016-10-30 10:07:57    Morning   \n",
       "3               3                    Jam  2016-10-30 10:07:57    Morning   \n",
       "4               3                Cookies  2016-10-30 10:07:57    Morning   \n",
       "..            ...                    ...                  ...        ...   \n",
       "89           8129           Gift voucher  2017-03-14 11:42:39    Morning   \n",
       "90           8227  Cherry me Dried fruit  2017-03-16 10:52:25    Morning   \n",
       "91           8261               Mortimer  2017-03-17 08:24:48    Morning   \n",
       "92           9022               Raw bars  2017-03-29 14:48:07  Afternoon   \n",
       "93           9587           Tacos/Fajita  2017-08-04 11:28:11    Morning   \n",
       "\n",
       "    DayType     User  Rating  \\\n",
       "0   Weekend   Gloria       3   \n",
       "1   Weekend   Louise       5   \n",
       "2   Weekend  Shannon       4   \n",
       "3   Weekend   Manuel       3   \n",
       "4   Weekend     Drew       0   \n",
       "..      ...      ...     ...   \n",
       "89  Weekday     Ruby       4   \n",
       "90  Weekday   Maggie       5   \n",
       "91  Weekday     Rosa       5   \n",
       "92  Weekday     Brad       1   \n",
       "93  Weekend    Ethan       3   \n",
       "\n",
       "                                             overview  \n",
       "0   A staple food made from flour, water, and yeas...  \n",
       "1   Reflecting the flavors of Northern Europe, Sca...  \n",
       "2   Though not a cake in the traditional sense, ho...  \n",
       "3   A sweet spread made from fruits, commonly used...  \n",
       "4   Bite-sized baked treats with endless variation...  \n",
       "..                                                ...  \n",
       "89  Vouchers or gift cards redeemable for cakes, p...  \n",
       "90  Dried fruits infused with cherry flavor, perfe...  \n",
       "91  A traditional British cake made with dried fru...  \n",
       "92  Nutritious snacks made from raw ingredients, s...  \n",
       "93  Mexican-inspired dishes featuring tortillas fi...  \n",
       "\n",
       "[94 rows x 8 columns]"
      ]
     },
     "execution_count": 23,
     "metadata": {},
     "output_type": "execute_result"
    }
   ],
   "source": [
    "new_data"
   ]
  },
  {
   "cell_type": "code",
   "execution_count": 24,
   "id": "0ce9f5a0",
   "metadata": {
    "execution": {
     "iopub.execute_input": "2024-05-02T19:13:04.104039Z",
     "iopub.status.busy": "2024-05-02T19:13:04.103578Z",
     "iopub.status.idle": "2024-05-02T19:13:04.208690Z",
     "shell.execute_reply": "2024-05-02T19:13:04.207474Z"
    },
    "papermill": {
     "duration": 0.123075,
     "end_time": "2024-05-02T19:13:04.211876",
     "exception": false,
     "start_time": "2024-05-02T19:13:04.088801",
     "status": "completed"
    },
    "tags": []
   },
   "outputs": [],
   "source": [
    "from sklearn.metrics.pairwise import linear_kernel\n",
    "\n",
    "# Compute the cosine similarity matrix\n",
    "cosine_sim = linear_kernel(tfidf_matrix, tfidf_matrix) # tính similarity giữa các rows với nhau -> shape : row x row"
   ]
  },
  {
   "cell_type": "code",
   "execution_count": 25,
   "id": "1c249dec",
   "metadata": {
    "execution": {
     "iopub.execute_input": "2024-05-02T19:13:04.240451Z",
     "iopub.status.busy": "2024-05-02T19:13:04.240017Z",
     "iopub.status.idle": "2024-05-02T19:13:04.247828Z",
     "shell.execute_reply": "2024-05-02T19:13:04.246323Z"
    },
    "papermill": {
     "duration": 0.02516,
     "end_time": "2024-05-02T19:13:04.250490",
     "exception": false,
     "start_time": "2024-05-02T19:13:04.225330",
     "status": "completed"
    },
    "tags": []
   },
   "outputs": [
    {
     "data": {
      "text/plain": [
       "(94, 94)"
      ]
     },
     "execution_count": 25,
     "metadata": {},
     "output_type": "execute_result"
    }
   ],
   "source": [
    "cosine_sim.shape"
   ]
  },
  {
   "cell_type": "code",
   "execution_count": 26,
   "id": "fb4a2ae1",
   "metadata": {
    "execution": {
     "iopub.execute_input": "2024-05-02T19:13:04.279072Z",
     "iopub.status.busy": "2024-05-02T19:13:04.278644Z",
     "iopub.status.idle": "2024-05-02T19:13:04.289280Z",
     "shell.execute_reply": "2024-05-02T19:13:04.288007Z"
    },
    "papermill": {
     "duration": 0.027648,
     "end_time": "2024-05-02T19:13:04.291651",
     "exception": false,
     "start_time": "2024-05-02T19:13:04.264003",
     "status": "completed"
    },
    "tags": []
   },
   "outputs": [
    {
     "data": {
      "text/plain": [
       "Items\n",
       "Bread                     0\n",
       "Scandinavian              1\n",
       "Hot chocolate             2\n",
       "Jam                       3\n",
       "Cookies                   4\n",
       "                         ..\n",
       "Gift voucher             89\n",
       "Cherry me Dried fruit    90\n",
       "Mortimer                 91\n",
       "Raw bars                 92\n",
       "Tacos/Fajita             93\n",
       "Length: 94, dtype: int64"
      ]
     },
     "execution_count": 26,
     "metadata": {},
     "output_type": "execute_result"
    }
   ],
   "source": [
    "#Construct a reverse map of indices and movie titles\n",
    "indices = pd.Series(new_data.index, index=new_data['Items']).drop_duplicates()\n",
    "indices"
   ]
  },
  {
   "cell_type": "code",
   "execution_count": 27,
   "id": "e7a114fb",
   "metadata": {
    "execution": {
     "iopub.execute_input": "2024-05-02T19:13:04.320746Z",
     "iopub.status.busy": "2024-05-02T19:13:04.320313Z",
     "iopub.status.idle": "2024-05-02T19:13:04.327939Z",
     "shell.execute_reply": "2024-05-02T19:13:04.326612Z"
    },
    "papermill": {
     "duration": 0.025573,
     "end_time": "2024-05-02T19:13:04.330677",
     "exception": false,
     "start_time": "2024-05-02T19:13:04.305104",
     "status": "completed"
    },
    "tags": []
   },
   "outputs": [],
   "source": [
    "def get_recommendations(Items, cosine_sim=cosine_sim):\n",
    "    # Get the index of the movie that matches the title\n",
    "    idx = indices[Items]\n",
    "    \n",
    "    # Get the pairwsie similarity scores of all movies with that movie\n",
    "    sim_scores = cosine_sim[idx]# tinh similarity theo cap\n",
    "\n",
    "    # Sort the movies based on the similarity scores\n",
    "    sim_scores = sorted(range(len(sim_scores)), key=lambda i: sim_scores[i], reverse=True)\n",
    "\n",
    "    # Get the movie indices\n",
    "    items_indices = sim_scores[1:11]\n",
    "\n",
    "    # Return the top 10 most similar movies\n",
    "    return new_data['Items'].iloc[items_indices]"
   ]
  },
  {
   "cell_type": "code",
   "execution_count": 28,
   "id": "22d0b28a",
   "metadata": {
    "execution": {
     "iopub.execute_input": "2024-05-02T19:13:04.359532Z",
     "iopub.status.busy": "2024-05-02T19:13:04.359048Z",
     "iopub.status.idle": "2024-05-02T19:13:04.369943Z",
     "shell.execute_reply": "2024-05-02T19:13:04.368699Z"
    },
    "papermill": {
     "duration": 0.028512,
     "end_time": "2024-05-02T19:13:04.372652",
     "exception": false,
     "start_time": "2024-05-02T19:13:04.344140",
     "status": "completed"
    },
    "tags": []
   },
   "outputs": [
    {
     "data": {
      "text/plain": [
       "41             Bowl Nic Pitt\n",
       "93              Tacos/Fajita\n",
       "55                 The Nomad\n",
       "69        Brioche and salami\n",
       "38                 Empanadas\n",
       "16    Ella's Kitchen Pouches\n",
       "25              Chicken sand\n",
       "20                      Soup\n",
       "18                  Frittata\n",
       "35                  The BART\n",
       "Name: Items, dtype: object"
      ]
     },
     "execution_count": 28,
     "metadata": {},
     "output_type": "execute_result"
    }
   ],
   "source": [
    "get_recommendations('Sandwich')"
   ]
  },
  {
   "cell_type": "code",
   "execution_count": null,
   "id": "85532c97",
   "metadata": {
    "papermill": {
     "duration": 0.013475,
     "end_time": "2024-05-02T19:13:04.400104",
     "exception": false,
     "start_time": "2024-05-02T19:13:04.386629",
     "status": "completed"
    },
    "tags": []
   },
   "outputs": [],
   "source": []
  }
 ],
 "metadata": {
  "kaggle": {
   "accelerator": "none",
   "dataSources": [
    {
     "datasetId": 1570429,
     "sourceId": 2585197,
     "sourceType": "datasetVersion"
    },
    {
     "datasetId": 4926744,
     "sourceId": 8293139,
     "sourceType": "datasetVersion"
    }
   ],
   "dockerImageVersionId": 30698,
   "isGpuEnabled": false,
   "isInternetEnabled": false,
   "language": "python",
   "sourceType": "notebook"
  },
  "kernelspec": {
   "display_name": "Python 3",
   "language": "python",
   "name": "python3"
  },
  "language_info": {
   "codemirror_mode": {
    "name": "ipython",
    "version": 3
   },
   "file_extension": ".py",
   "mimetype": "text/x-python",
   "name": "python",
   "nbconvert_exporter": "python",
   "pygments_lexer": "ipython3",
   "version": "3.10.13"
  },
  "papermill": {
   "default_parameters": {},
   "duration": 7.687493,
   "end_time": "2024-05-02T19:13:05.036563",
   "environment_variables": {},
   "exception": null,
   "input_path": "__notebook__.ipynb",
   "output_path": "__notebook__.ipynb",
   "parameters": {},
   "start_time": "2024-05-02T19:12:57.349070",
   "version": "2.5.0"
  }
 },
 "nbformat": 4,
 "nbformat_minor": 5
}
