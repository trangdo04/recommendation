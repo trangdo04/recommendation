{
 "cells": [
  {
   "cell_type": "code",
   "execution_count": 1,
   "id": "9d7e7e34",
   "metadata": {
    "_cell_guid": "b1076dfc-b9ad-4769-8c92-a6c4dae69d19",
    "_uuid": "8f2839f25d086af736a60e9eeb907d3b93b6e0e5",
    "execution": {
     "iopub.execute_input": "2024-05-02T17:46:48.037756Z",
     "iopub.status.busy": "2024-05-02T17:46:48.037263Z",
     "iopub.status.idle": "2024-05-02T17:46:49.025797Z",
     "shell.execute_reply": "2024-05-02T17:46:49.024356Z"
    },
    "papermill": {
     "duration": 0.998092,
     "end_time": "2024-05-02T17:46:49.028334",
     "exception": false,
     "start_time": "2024-05-02T17:46:48.030242",
     "status": "completed"
    },
    "tags": []
   },
   "outputs": [
    {
     "name": "stdout",
     "output_type": "stream",
     "text": [
      "/kaggle/input/bakery/Bakery.csv\n"
     ]
    }
   ],
   "source": [
    "# This Python 3 environment comes with many helpful analytics libraries installed\n",
    "# It is defined by the kaggle/python Docker image: https://github.com/kaggle/docker-python\n",
    "# For example, here's several helpful packages to load\n",
    "\n",
    "import numpy as np # linear algebra\n",
    "import pandas as pd # data processing, CSV file I/O (e.g. pd.read_csv)\n",
    "import random\n",
    "# Input data files are available in the read-only \"../input/\" directory\n",
    "# For example, running this (by clicking run or pressing Shift+Enter) will list all files under the input directory\n",
    "\n",
    "import os\n",
    "for dirname, _, filenames in os.walk('/kaggle/input'):\n",
    "    for filename in filenames:\n",
    "        print(os.path.join(dirname, filename))\n",
    "\n",
    "# You can write up to 20GB to the current directory (/kaggle/working/) that gets preserved as output when you create a version using \"Save & Run All\" \n",
    "# You can also write temporary files to /kaggle/temp/, but they won't be saved outside of the current session"
   ]
  },
  {
   "cell_type": "code",
   "execution_count": 2,
   "id": "4a687cfe",
   "metadata": {
    "execution": {
     "iopub.execute_input": "2024-05-02T17:46:49.040380Z",
     "iopub.status.busy": "2024-05-02T17:46:49.039830Z",
     "iopub.status.idle": "2024-05-02T17:46:49.100786Z",
     "shell.execute_reply": "2024-05-02T17:46:49.099808Z"
    },
    "papermill": {
     "duration": 0.070204,
     "end_time": "2024-05-02T17:46:49.103761",
     "exception": false,
     "start_time": "2024-05-02T17:46:49.033557",
     "status": "completed"
    },
    "tags": []
   },
   "outputs": [],
   "source": [
    "data = pd.read_csv('/kaggle/input/bakery/Bakery.csv')"
   ]
  },
  {
   "cell_type": "code",
   "execution_count": 3,
   "id": "02fcd553",
   "metadata": {
    "execution": {
     "iopub.execute_input": "2024-05-02T17:46:49.117572Z",
     "iopub.status.busy": "2024-05-02T17:46:49.116732Z",
     "iopub.status.idle": "2024-05-02T17:46:49.137579Z",
     "shell.execute_reply": "2024-05-02T17:46:49.135902Z"
    },
    "papermill": {
     "duration": 0.031185,
     "end_time": "2024-05-02T17:46:49.140979",
     "exception": false,
     "start_time": "2024-05-02T17:46:49.109794",
     "status": "completed"
    },
    "tags": []
   },
   "outputs": [],
   "source": [
    "# List of 500 English personal names\n",
    "names = [\n",
    "    \"Aaron\", \"Abigail\", \"Adam\", \"Adrian\", \"Agnes\", \"Alan\", \"Albert\", \"Alfred\", \"Alice\", \"Alicia\",\n",
    "    \"Alicia\", \"Allan\", \"Allison\", \"Alyssa\", \"Amanda\", \"Amber\", \"Amy\", \"Andrea\", \"Andrew\", \"Angela\",\n",
    "    \"Angelina\", \"Anita\", \"Ann\", \"Anna\", \"Anne\", \"Annie\", \"Anthony\", \"Antonio\", \"April\", \"Arthur\",\n",
    "    \"Ashley\", \"Austin\", \"Barbara\", \"Barry\", \"Becky\", \"Benjamin\", \"Bernard\", \"Bernice\", \"Beth\", \"Beverly\",\n",
    "    \"Bill\", \"Billy\", \"Blake\", \"Bob\", \"Bobby\", \"Bonnie\", \"Brad\", \"Brandon\", \"Brenda\", \"Brendan\",\n",
    "    \"Brent\", \"Brett\", \"Brian\", \"Brianna\", \"Brittany\", \"Bruce\", \"Bryan\", \"Caleb\", \"Cameron\", \"Carl\",\n",
    "    \"Carla\", \"Carlos\", \"Carmen\", \"Carol\", \"Caroline\", \"Carrie\", \"Casey\", \"Catherine\", \"Cathy\", \"Cecilia\",\n",
    "    \"Chad\", \"Charles\", \"Charlie\", \"Charlotte\", \"Cheryl\", \"Chris\", \"Christian\", \"Christine\", \"Christopher\", \"Chuck\",\n",
    "    \"Cindy\", \"Claire\", \"Clara\", \"Clarence\", \"Clark\", \"Claudia\", \"Clayton\", \"Cliff\", \"Cody\", \"Colleen\",\n",
    "    \"Connie\", \"Connor\", \"Corey\", \"Courtney\", \"Craig\", \"Crystal\", \"Curtis\", \"Cynthia\", \"Daisy\", \"Dale\",\n",
    "    \"Dan\", \"Dana\", \"Daniel\", \"Danielle\", \"Danny\", \"Darlene\", \"Darren\", \"Dave\", \"David\", \"Debbie\",\n",
    "    \"Deborah\", \"Debra\", \"Denise\", \"Dennis\", \"Derek\", \"Diana\", \"Diane\", \"Dianne\", \"Don\", \"Donald\",\n",
    "    \"Donna\", \"Doris\", \"Dorothy\", \"Doug\", \"Douglas\", \"Drew\", \"Dustin\", \"Dwayne\", \"Dylan\", \"Earl\",\n",
    "    \"Ed\", \"Eddie\", \"Edith\", \"Edmund\", \"Edward\", \"Edwin\", \"Elaine\", \"Eleanor\", \"Elias\", \"Elijah\",\n",
    "    \"Elisabeth\", \"Elizabeth\", \"Ella\", \"Ellen\", \"Elliott\", \"Ellis\", \"Emily\", \"Emma\", \"Eric\", \"Erica\",\n",
    "    \"Erik\", \"Erin\", \"Ernest\", \"Ethan\", \"Eugene\", \"Evan\", \"Evelyn\", \"Faith\", \"Fannie\", \"Felicia\",\n",
    "    \"Felix\", \"Fiona\", \"Florence\", \"Floyd\", \"Frances\", \"Frank\", \"Fred\", \"Frederick\", \"Gabriel\", \"Gail\",\n",
    "    \"Garry\", \"Gary\", \"Gene\", \"Geoff\", \"George\", \"Georgia\", \"Gerald\", \"Gertrude\", \"Gilbert\", \"Gina\",\n",
    "    \"Gladys\", \"Glenda\", \"Glenn\", \"Gloria\", \"Gordon\", \"Grace\", \"Grant\", \"Greg\", \"Gregory\", \"Gretchen\",\n",
    "    \"Haley\", \"Hannah\", \"Harold\", \"Harry\", \"Heather\", \"Heidi\", \"Helen\", \"Henry\", \"Herbert\", \"Herman\",\n",
    "    \"Hilary\", \"Holly\", \"Howard\", \"Hugh\", \"Ian\", \"Ingrid\", \"Irene\", \"Irvin\", \"Isabel\", \"Isabelle\",\n",
    "    \"Isaac\", \"Isabella\", \"Isabella\", \"Jack\", \"Jackie\", \"Jackson\", \"Jacob\", \"Jacqueline\", \"Jaclyn\", \"Jacques\",\n",
    "    \"Jake\", \"James\", \"Jamie\", \"Janet\", \"Janie\", \"Jason\", \"Jean\", \"Jeanette\", \"Jeff\", \"Jeffrey\",\n",
    "    \"Jenna\", \"Jennifer\", \"Jenny\", \"Jeremy\", \"Jerry\", \"Jesse\", \"Jessica\", \"Jessie\", \"Jill\", \"Jim\",\n",
    "    \"Jimmy\", \"Joan\", \"Joanna\", \"Joanne\", \"Joe\", \"Joel\", \"John\", \"Johnny\", \"Jon\", \"Jonathan\",\n",
    "    \"Jordan\", \"Jose\", \"Joseph\", \"Josephine\", \"Josh\", \"Joshua\", \"Joyce\", \"Juan\", \"Judith\", \"Judy\",\n",
    "    \"Julia\", \"Julian\", \"Julie\", \"June\", \"Justin\", \"Karen\", \"Karla\", \"Kate\", \"Kathleen\", \"Kathryn\",\n",
    "    \"Katie\", \"Katrina\", \"Kay\", \"Keith\", \"Kelly\", \"Ken\", \"Kenneth\", \"Kevin\", \"Kim\", \"Kimberly\",\n",
    "    \"Kirk\", \"Kristin\", \"Kristina\", \"Kristy\", \"Kyle\", \"Larry\", \"Laura\", \"Lauren\", \"Laurence\", \"Lawrence\",\n",
    "    \"Leah\", \"Lee\", \"Leona\", \"Leonard\", \"Leslie\", \"Lester\", \"Lillian\", \"Linda\", \"Lindsay\", \"Lindsey\",\n",
    "    \"Lisa\", \"Liz\", \"Lloyd\", \"Logan\", \"Lori\", \"Louis\", \"Louise\", \"Lucas\", \"Lucy\", \"Luis\",\n",
    "    \"Luke\", \"Lydia\", \"Lyle\", \"Lynn\", \"Lynnette\", \"Mabel\", \"Mack\", \"Madeline\", \"Madison\", \"Maggie\",\n",
    "    \"Malcolm\", \"Mandy\", \"Manuel\", \"Marc\", \"Marcus\", \"Margaret\", \"Maria\", \"Marian\", \"Marilyn\", \"Mark\",\n",
    "    \"Marlene\", \"Marshall\", \"Martin\", \"Martha\", \"Marvin\", \"Mary\", \"Mathew\", \"Matthew\", \"Maureen\", \"Max\",\n",
    "    \"Maxwell\", \"Megan\", \"Melanie\", \"Melinda\", \"Melissa\", \"Michael\", \"Michele\", \"Michelle\", \"Miguel\", \"Mike\",\n",
    "    \"Mildred\", \"Mindy\", \"Miranda\", \"Mitchell\", \"Molly\", \"Monica\", \"Morris\", \"Nancy\", \"Natalie\", \"Natasha\",\n",
    "    \"Nathan\", \"Nathaniel\", \"Neal\", \"Neil\", \"Nelson\", \"Nicholas\", \"Nick\", \"Nicole\", \"Nina\", \"Noah\",\n",
    "    \"Noelle\", \"Norman\", \"Olivia\", \"Oscar\", \"Owen\", \"Pam\", \"Pamela\", \"Patricia\", \"Patrick\", \"Patsy\",\n",
    "    \"Paul\", \"Paula\", \"Penny\", \"Peter\", \"Philip\", \"Phyllis\", \"Priscilla\", \"Quentin\", \"Rachel\", \"Ralph\",\n",
    "    \"Randy\", \"Ray\", \"Raymond\", \"Rebecca\", \"Reginald\", \"Renee\", \"Rex\", \"Rhonda\", \"Ricardo\", \"Richard\",\n",
    "    \"Rick\", \"Ricky\", \"Rita\", \"Robert\", \"Roberta\", \"Robin\", \"Roger\", \"Ron\", \"Ronald\", \"Rosa\",\n",
    "    \"Rosalie\", \"Rose\", \"Rosemary\", \"Roy\", \"Ruben\", \"Ruby\", \"Russell\", \"Ruth\", \"Ryan\", \"Sabrina\",\n",
    "    \"Sally\", \"Sam\", \"Samuel\", \"Sandra\", \"Sandy\", \"Sara\", \"Sarah\", \"Scott\", \"Sean\", \"Seth\",\n",
    "    \"Shane\", \"Shannon\", \"Shari\", \"Sharon\", \"Shaun\", \"Shawn\", \"Sheila\", \"Shelley\", \"Shelly\", \"Sherry\",\n",
    "    \"Shirley\", \"Sidney\", \"Simon\", \"Sonia\", \"Sonya\", \"Sophia\", \"Spencer\", \"Stacey\", \"Stacy\", \"Stanley\",\n",
    "    \"Stefan\", \"Stephanie\", \"Stephen\", \"Steve\", \"Steven\", \"Stuart\", \"Sue\", \"Susan\", \"Susie\", \"Sylvia\",\n",
    "    \"Tabitha\", \"Tammy\", \"Tanya\", \"Tara\", \"Tasha\", \"Tatiana\", \"Ted\", \"Teresa\", \"Terrance\", \"Terry\",\n",
    "    \"Theodore\", \"Theresa\", \"Thomas\", \"Tim\", \"Timothy\", \"Todd\", \"Tom\", \"Tommy\", \"Tony\", \"Travis\",\n",
    "    \"Trevor\", \"Trina\", \"Trisha\", \"Tyler\", \"Valerie\", \"Vanessa\", \"Vernon\", \"Victor\", \"Vincent\", \"Virginia\",\n",
    "    \"Vivian\", \"Wade\", \"Walt\", \"Walter\", \"Warren\", \"Wayne\", \"Wendy\", \"Wesley\", \"William\", \"Willie\",\n",
    "    \"Wilson\", \"Yolanda\", \"Yvonne\", \"Zachary\", \"Zach\"]\n"
   ]
  },
  {
   "cell_type": "code",
   "execution_count": 4,
   "id": "1c2646b4",
   "metadata": {
    "execution": {
     "iopub.execute_input": "2024-05-02T17:46:49.152853Z",
     "iopub.status.busy": "2024-05-02T17:46:49.152192Z",
     "iopub.status.idle": "2024-05-02T17:46:49.160787Z",
     "shell.execute_reply": "2024-05-02T17:46:49.159498Z"
    },
    "papermill": {
     "duration": 0.017233,
     "end_time": "2024-05-02T17:46:49.163139",
     "exception": false,
     "start_time": "2024-05-02T17:46:49.145906",
     "status": "completed"
    },
    "tags": []
   },
   "outputs": [
    {
     "data": {
      "text/plain": [
       "505"
      ]
     },
     "execution_count": 4,
     "metadata": {},
     "output_type": "execute_result"
    }
   ],
   "source": [
    "len(names)"
   ]
  },
  {
   "cell_type": "code",
   "execution_count": 5,
   "id": "c361c0df",
   "metadata": {
    "execution": {
     "iopub.execute_input": "2024-05-02T17:46:49.175909Z",
     "iopub.status.busy": "2024-05-02T17:46:49.174834Z",
     "iopub.status.idle": "2024-05-02T17:46:49.187141Z",
     "shell.execute_reply": "2024-05-02T17:46:49.185892Z"
    },
    "papermill": {
     "duration": 0.022103,
     "end_time": "2024-05-02T17:46:49.190087",
     "exception": false,
     "start_time": "2024-05-02T17:46:49.167984",
     "status": "completed"
    },
    "tags": []
   },
   "outputs": [],
   "source": [
    "data['User'] = np.nan"
   ]
  },
  {
   "cell_type": "markdown",
   "id": "c8b7ab41",
   "metadata": {
    "papermill": {
     "duration": 0.004596,
     "end_time": "2024-05-02T17:46:49.199641",
     "exception": false,
     "start_time": "2024-05-02T17:46:49.195045",
     "status": "completed"
    },
    "tags": []
   },
   "source": [
    "## Do not run this function again since it will rerandom data"
   ]
  },
  {
   "cell_type": "code",
   "execution_count": 6,
   "id": "13985bb5",
   "metadata": {
    "execution": {
     "iopub.execute_input": "2024-05-02T17:46:49.212217Z",
     "iopub.status.busy": "2024-05-02T17:46:49.211568Z",
     "iopub.status.idle": "2024-05-02T17:46:49.417380Z",
     "shell.execute_reply": "2024-05-02T17:46:49.415897Z"
    },
    "papermill": {
     "duration": 0.214996,
     "end_time": "2024-05-02T17:46:49.420055",
     "exception": false,
     "start_time": "2024-05-02T17:46:49.205059",
     "status": "completed"
    },
    "tags": []
   },
   "outputs": [],
   "source": [
    "# Hàm để gán tên ngẫu nhiên từ danh sách\n",
    "def fill_random_name(row):\n",
    "    if pd.isna(row['User']):  # Kiểm tra nếu giá trị là NaN\n",
    "        return random.choice(names)  # Chọn tên ngẫu nhiên từ danh sách\n",
    "    else:\n",
    "        return row['User']\n",
    "\n",
    "# Áp dụng hàm để điền vào cột 'User'\n",
    "data['User'] = data.apply(fill_random_name, axis=1)"
   ]
  },
  {
   "cell_type": "code",
   "execution_count": 7,
   "id": "7537f6e0",
   "metadata": {
    "execution": {
     "iopub.execute_input": "2024-05-02T17:46:49.431592Z",
     "iopub.status.busy": "2024-05-02T17:46:49.431188Z",
     "iopub.status.idle": "2024-05-02T17:46:49.436898Z",
     "shell.execute_reply": "2024-05-02T17:46:49.435695Z"
    },
    "papermill": {
     "duration": 0.014077,
     "end_time": "2024-05-02T17:46:49.439094",
     "exception": false,
     "start_time": "2024-05-02T17:46:49.425017",
     "status": "completed"
    },
    "tags": []
   },
   "outputs": [],
   "source": [
    "data['Rating'] = np.nan"
   ]
  },
  {
   "cell_type": "markdown",
   "id": "44e4500c",
   "metadata": {
    "papermill": {
     "duration": 0.004644,
     "end_time": "2024-05-02T17:46:49.448662",
     "exception": false,
     "start_time": "2024-05-02T17:46:49.444018",
     "status": "completed"
    },
    "tags": []
   },
   "source": [
    "## Do not run this function again "
   ]
  },
  {
   "cell_type": "code",
   "execution_count": 8,
   "id": "81e22e67",
   "metadata": {
    "execution": {
     "iopub.execute_input": "2024-05-02T17:46:49.460915Z",
     "iopub.status.busy": "2024-05-02T17:46:49.459814Z",
     "iopub.status.idle": "2024-05-02T17:46:49.666338Z",
     "shell.execute_reply": "2024-05-02T17:46:49.665329Z"
    },
    "papermill": {
     "duration": 0.215399,
     "end_time": "2024-05-02T17:46:49.668929",
     "exception": false,
     "start_time": "2024-05-02T17:46:49.453530",
     "status": "completed"
    },
    "tags": []
   },
   "outputs": [],
   "source": [
    "# Hàm để điền giá trị ngẫu nhiên từ 0.0 đến 5.0\n",
    "def fill_random_rating(row):\n",
    "    if pd.isna(row['Rating']):  # Nếu giá trị là NaN\n",
    "        return random.randint(0, 5)  # Chọn số ngẫu nhiên từ 0.0 đến 5.0, làm tròn đến 1 chữ số thập phân\n",
    "    else:\n",
    "        return row['Rating']\n",
    "\n",
    "# Áp dụng hàm để điền vào cột 'Ratings'\n",
    "data['Rating'] = data.apply(fill_random_rating, axis=1)"
   ]
  },
  {
   "cell_type": "code",
   "execution_count": 9,
   "id": "0dad8189",
   "metadata": {
    "execution": {
     "iopub.execute_input": "2024-05-02T17:46:49.681198Z",
     "iopub.status.busy": "2024-05-02T17:46:49.680469Z",
     "iopub.status.idle": "2024-05-02T17:46:49.687440Z",
     "shell.execute_reply": "2024-05-02T17:46:49.686197Z"
    },
    "papermill": {
     "duration": 0.015833,
     "end_time": "2024-05-02T17:46:49.689796",
     "exception": false,
     "start_time": "2024-05-02T17:46:49.673963",
     "status": "completed"
    },
    "tags": []
   },
   "outputs": [
    {
     "data": {
      "text/plain": [
       "(20507, 7)"
      ]
     },
     "execution_count": 9,
     "metadata": {},
     "output_type": "execute_result"
    }
   ],
   "source": [
    "data.shape"
   ]
  },
  {
   "cell_type": "code",
   "execution_count": 10,
   "id": "c52fdf5b",
   "metadata": {
    "execution": {
     "iopub.execute_input": "2024-05-02T17:46:49.701770Z",
     "iopub.status.busy": "2024-05-02T17:46:49.701361Z",
     "iopub.status.idle": "2024-05-02T17:46:49.721389Z",
     "shell.execute_reply": "2024-05-02T17:46:49.720211Z"
    },
    "papermill": {
     "duration": 0.028677,
     "end_time": "2024-05-02T17:46:49.723664",
     "exception": false,
     "start_time": "2024-05-02T17:46:49.694987",
     "status": "completed"
    },
    "tags": []
   },
   "outputs": [
    {
     "data": {
      "text/html": [
       "<div>\n",
       "<style scoped>\n",
       "    .dataframe tbody tr th:only-of-type {\n",
       "        vertical-align: middle;\n",
       "    }\n",
       "\n",
       "    .dataframe tbody tr th {\n",
       "        vertical-align: top;\n",
       "    }\n",
       "\n",
       "    .dataframe thead th {\n",
       "        text-align: right;\n",
       "    }\n",
       "</style>\n",
       "<table border=\"1\" class=\"dataframe\">\n",
       "  <thead>\n",
       "    <tr style=\"text-align: right;\">\n",
       "      <th></th>\n",
       "      <th>TransactionNo</th>\n",
       "      <th>Items</th>\n",
       "      <th>DateTime</th>\n",
       "      <th>Daypart</th>\n",
       "      <th>DayType</th>\n",
       "      <th>User</th>\n",
       "      <th>Rating</th>\n",
       "    </tr>\n",
       "  </thead>\n",
       "  <tbody>\n",
       "    <tr>\n",
       "      <th>20502</th>\n",
       "      <td>9682</td>\n",
       "      <td>Coffee</td>\n",
       "      <td>2017-09-04 14:32:58</td>\n",
       "      <td>Afternoon</td>\n",
       "      <td>Weekend</td>\n",
       "      <td>Sylvia</td>\n",
       "      <td>1</td>\n",
       "    </tr>\n",
       "    <tr>\n",
       "      <th>20503</th>\n",
       "      <td>9682</td>\n",
       "      <td>Tea</td>\n",
       "      <td>2017-09-04 14:32:58</td>\n",
       "      <td>Afternoon</td>\n",
       "      <td>Weekend</td>\n",
       "      <td>Allison</td>\n",
       "      <td>1</td>\n",
       "    </tr>\n",
       "    <tr>\n",
       "      <th>20504</th>\n",
       "      <td>9683</td>\n",
       "      <td>Coffee</td>\n",
       "      <td>2017-09-04 14:57:06</td>\n",
       "      <td>Afternoon</td>\n",
       "      <td>Weekend</td>\n",
       "      <td>Rosemary</td>\n",
       "      <td>3</td>\n",
       "    </tr>\n",
       "    <tr>\n",
       "      <th>20505</th>\n",
       "      <td>9683</td>\n",
       "      <td>Pastry</td>\n",
       "      <td>2017-09-04 14:57:06</td>\n",
       "      <td>Afternoon</td>\n",
       "      <td>Weekend</td>\n",
       "      <td>Sue</td>\n",
       "      <td>4</td>\n",
       "    </tr>\n",
       "    <tr>\n",
       "      <th>20506</th>\n",
       "      <td>9684</td>\n",
       "      <td>Smoothies</td>\n",
       "      <td>2017-09-04 15:04:24</td>\n",
       "      <td>Afternoon</td>\n",
       "      <td>Weekend</td>\n",
       "      <td>Kyle</td>\n",
       "      <td>5</td>\n",
       "    </tr>\n",
       "  </tbody>\n",
       "</table>\n",
       "</div>"
      ],
      "text/plain": [
       "       TransactionNo      Items             DateTime    Daypart  DayType  \\\n",
       "20502           9682     Coffee  2017-09-04 14:32:58  Afternoon  Weekend   \n",
       "20503           9682        Tea  2017-09-04 14:32:58  Afternoon  Weekend   \n",
       "20504           9683     Coffee  2017-09-04 14:57:06  Afternoon  Weekend   \n",
       "20505           9683     Pastry  2017-09-04 14:57:06  Afternoon  Weekend   \n",
       "20506           9684  Smoothies  2017-09-04 15:04:24  Afternoon  Weekend   \n",
       "\n",
       "           User  Rating  \n",
       "20502    Sylvia       1  \n",
       "20503   Allison       1  \n",
       "20504  Rosemary       3  \n",
       "20505       Sue       4  \n",
       "20506      Kyle       5  "
      ]
     },
     "execution_count": 10,
     "metadata": {},
     "output_type": "execute_result"
    }
   ],
   "source": [
    "data.tail(5)"
   ]
  },
  {
   "cell_type": "code",
   "execution_count": 11,
   "id": "721b4488",
   "metadata": {
    "execution": {
     "iopub.execute_input": "2024-05-02T17:46:49.737613Z",
     "iopub.status.busy": "2024-05-02T17:46:49.736788Z",
     "iopub.status.idle": "2024-05-02T17:46:49.749547Z",
     "shell.execute_reply": "2024-05-02T17:46:49.748189Z"
    },
    "papermill": {
     "duration": 0.023097,
     "end_time": "2024-05-02T17:46:49.752280",
     "exception": false,
     "start_time": "2024-05-02T17:46:49.729183",
     "status": "completed"
    },
    "tags": []
   },
   "outputs": [
    {
     "data": {
      "text/html": [
       "<div>\n",
       "<style scoped>\n",
       "    .dataframe tbody tr th:only-of-type {\n",
       "        vertical-align: middle;\n",
       "    }\n",
       "\n",
       "    .dataframe tbody tr th {\n",
       "        vertical-align: top;\n",
       "    }\n",
       "\n",
       "    .dataframe thead th {\n",
       "        text-align: right;\n",
       "    }\n",
       "</style>\n",
       "<table border=\"1\" class=\"dataframe\">\n",
       "  <thead>\n",
       "    <tr style=\"text-align: right;\">\n",
       "      <th></th>\n",
       "      <th>TransactionNo</th>\n",
       "      <th>Items</th>\n",
       "      <th>DateTime</th>\n",
       "      <th>Daypart</th>\n",
       "      <th>DayType</th>\n",
       "      <th>User</th>\n",
       "      <th>Rating</th>\n",
       "    </tr>\n",
       "  </thead>\n",
       "  <tbody>\n",
       "    <tr>\n",
       "      <th>0</th>\n",
       "      <td>1</td>\n",
       "      <td>Bread</td>\n",
       "      <td>2016-10-30 09:58:11</td>\n",
       "      <td>Morning</td>\n",
       "      <td>Weekend</td>\n",
       "      <td>Rebecca</td>\n",
       "      <td>1</td>\n",
       "    </tr>\n",
       "    <tr>\n",
       "      <th>1</th>\n",
       "      <td>2</td>\n",
       "      <td>Scandinavian</td>\n",
       "      <td>2016-10-30 10:05:34</td>\n",
       "      <td>Morning</td>\n",
       "      <td>Weekend</td>\n",
       "      <td>Larry</td>\n",
       "      <td>3</td>\n",
       "    </tr>\n",
       "    <tr>\n",
       "      <th>2</th>\n",
       "      <td>2</td>\n",
       "      <td>Scandinavian</td>\n",
       "      <td>2016-10-30 10:05:34</td>\n",
       "      <td>Morning</td>\n",
       "      <td>Weekend</td>\n",
       "      <td>Mildred</td>\n",
       "      <td>5</td>\n",
       "    </tr>\n",
       "    <tr>\n",
       "      <th>3</th>\n",
       "      <td>3</td>\n",
       "      <td>Hot chocolate</td>\n",
       "      <td>2016-10-30 10:07:57</td>\n",
       "      <td>Morning</td>\n",
       "      <td>Weekend</td>\n",
       "      <td>Clark</td>\n",
       "      <td>0</td>\n",
       "    </tr>\n",
       "    <tr>\n",
       "      <th>4</th>\n",
       "      <td>3</td>\n",
       "      <td>Jam</td>\n",
       "      <td>2016-10-30 10:07:57</td>\n",
       "      <td>Morning</td>\n",
       "      <td>Weekend</td>\n",
       "      <td>James</td>\n",
       "      <td>4</td>\n",
       "    </tr>\n",
       "  </tbody>\n",
       "</table>\n",
       "</div>"
      ],
      "text/plain": [
       "   TransactionNo          Items             DateTime  Daypart  DayType  \\\n",
       "0              1          Bread  2016-10-30 09:58:11  Morning  Weekend   \n",
       "1              2   Scandinavian  2016-10-30 10:05:34  Morning  Weekend   \n",
       "2              2   Scandinavian  2016-10-30 10:05:34  Morning  Weekend   \n",
       "3              3  Hot chocolate  2016-10-30 10:07:57  Morning  Weekend   \n",
       "4              3            Jam  2016-10-30 10:07:57  Morning  Weekend   \n",
       "\n",
       "      User  Rating  \n",
       "0  Rebecca       1  \n",
       "1    Larry       3  \n",
       "2  Mildred       5  \n",
       "3    Clark       0  \n",
       "4    James       4  "
      ]
     },
     "execution_count": 11,
     "metadata": {},
     "output_type": "execute_result"
    }
   ],
   "source": [
    "data.head(5) "
   ]
  },
  {
   "cell_type": "code",
   "execution_count": 12,
   "id": "76c761be",
   "metadata": {
    "execution": {
     "iopub.execute_input": "2024-05-02T17:46:49.765502Z",
     "iopub.status.busy": "2024-05-02T17:46:49.764440Z",
     "iopub.status.idle": "2024-05-02T17:46:49.779023Z",
     "shell.execute_reply": "2024-05-02T17:46:49.777697Z"
    },
    "papermill": {
     "duration": 0.023666,
     "end_time": "2024-05-02T17:46:49.781485",
     "exception": false,
     "start_time": "2024-05-02T17:46:49.757819",
     "status": "completed"
    },
    "tags": []
   },
   "outputs": [
    {
     "data": {
      "text/html": [
       "<div>\n",
       "<style scoped>\n",
       "    .dataframe tbody tr th:only-of-type {\n",
       "        vertical-align: middle;\n",
       "    }\n",
       "\n",
       "    .dataframe tbody tr th {\n",
       "        vertical-align: top;\n",
       "    }\n",
       "\n",
       "    .dataframe thead th {\n",
       "        text-align: right;\n",
       "    }\n",
       "</style>\n",
       "<table border=\"1\" class=\"dataframe\">\n",
       "  <thead>\n",
       "    <tr style=\"text-align: right;\">\n",
       "      <th></th>\n",
       "      <th>TransactionNo</th>\n",
       "      <th>Items</th>\n",
       "      <th>DateTime</th>\n",
       "      <th>Daypart</th>\n",
       "      <th>DayType</th>\n",
       "      <th>User</th>\n",
       "      <th>Rating</th>\n",
       "    </tr>\n",
       "  </thead>\n",
       "  <tbody>\n",
       "    <tr>\n",
       "      <th>0</th>\n",
       "      <td>1</td>\n",
       "      <td>Bread</td>\n",
       "      <td>2016-10-30 09:58:11</td>\n",
       "      <td>Morning</td>\n",
       "      <td>Weekend</td>\n",
       "      <td>Rebecca</td>\n",
       "      <td>1</td>\n",
       "    </tr>\n",
       "    <tr>\n",
       "      <th>1</th>\n",
       "      <td>2</td>\n",
       "      <td>Scandinavian</td>\n",
       "      <td>2016-10-30 10:05:34</td>\n",
       "      <td>Morning</td>\n",
       "      <td>Weekend</td>\n",
       "      <td>Larry</td>\n",
       "      <td>3</td>\n",
       "    </tr>\n",
       "    <tr>\n",
       "      <th>2</th>\n",
       "      <td>2</td>\n",
       "      <td>Scandinavian</td>\n",
       "      <td>2016-10-30 10:05:34</td>\n",
       "      <td>Morning</td>\n",
       "      <td>Weekend</td>\n",
       "      <td>Mildred</td>\n",
       "      <td>5</td>\n",
       "    </tr>\n",
       "    <tr>\n",
       "      <th>3</th>\n",
       "      <td>3</td>\n",
       "      <td>Hot chocolate</td>\n",
       "      <td>2016-10-30 10:07:57</td>\n",
       "      <td>Morning</td>\n",
       "      <td>Weekend</td>\n",
       "      <td>Clark</td>\n",
       "      <td>0</td>\n",
       "    </tr>\n",
       "    <tr>\n",
       "      <th>4</th>\n",
       "      <td>3</td>\n",
       "      <td>Jam</td>\n",
       "      <td>2016-10-30 10:07:57</td>\n",
       "      <td>Morning</td>\n",
       "      <td>Weekend</td>\n",
       "      <td>James</td>\n",
       "      <td>4</td>\n",
       "    </tr>\n",
       "  </tbody>\n",
       "</table>\n",
       "</div>"
      ],
      "text/plain": [
       "   TransactionNo          Items             DateTime  Daypart  DayType  \\\n",
       "0              1          Bread  2016-10-30 09:58:11  Morning  Weekend   \n",
       "1              2   Scandinavian  2016-10-30 10:05:34  Morning  Weekend   \n",
       "2              2   Scandinavian  2016-10-30 10:05:34  Morning  Weekend   \n",
       "3              3  Hot chocolate  2016-10-30 10:07:57  Morning  Weekend   \n",
       "4              3            Jam  2016-10-30 10:07:57  Morning  Weekend   \n",
       "\n",
       "      User  Rating  \n",
       "0  Rebecca       1  \n",
       "1    Larry       3  \n",
       "2  Mildred       5  \n",
       "3    Clark       0  \n",
       "4    James       4  "
      ]
     },
     "execution_count": 12,
     "metadata": {},
     "output_type": "execute_result"
    }
   ],
   "source": [
    "data.head(5)"
   ]
  },
  {
   "cell_type": "code",
   "execution_count": 13,
   "id": "e9ec800c",
   "metadata": {
    "execution": {
     "iopub.execute_input": "2024-05-02T17:46:49.796221Z",
     "iopub.status.busy": "2024-05-02T17:46:49.795776Z",
     "iopub.status.idle": "2024-05-02T17:46:49.807345Z",
     "shell.execute_reply": "2024-05-02T17:46:49.806142Z"
    },
    "papermill": {
     "duration": 0.02196,
     "end_time": "2024-05-02T17:46:49.809806",
     "exception": false,
     "start_time": "2024-05-02T17:46:49.787846",
     "status": "completed"
    },
    "tags": []
   },
   "outputs": [
    {
     "data": {
      "text/plain": [
       "94"
      ]
     },
     "execution_count": 13,
     "metadata": {},
     "output_type": "execute_result"
    }
   ],
   "source": [
    "len(data.Items.unique())"
   ]
  },
  {
   "cell_type": "code",
   "execution_count": 14,
   "id": "d434b0fc",
   "metadata": {
    "execution": {
     "iopub.execute_input": "2024-05-02T17:46:49.823686Z",
     "iopub.status.busy": "2024-05-02T17:46:49.823254Z",
     "iopub.status.idle": "2024-05-02T17:46:49.829882Z",
     "shell.execute_reply": "2024-05-02T17:46:49.828835Z"
    },
    "papermill": {
     "duration": 0.016521,
     "end_time": "2024-05-02T17:46:49.832346",
     "exception": false,
     "start_time": "2024-05-02T17:46:49.815825",
     "status": "completed"
    },
    "tags": []
   },
   "outputs": [],
   "source": [
    "list = data.Items.unique()"
   ]
  },
  {
   "cell_type": "code",
   "execution_count": 15,
   "id": "652db595",
   "metadata": {
    "execution": {
     "iopub.execute_input": "2024-05-02T17:46:49.845835Z",
     "iopub.status.busy": "2024-05-02T17:46:49.845408Z",
     "iopub.status.idle": "2024-05-02T17:46:49.915047Z",
     "shell.execute_reply": "2024-05-02T17:46:49.913951Z"
    },
    "papermill": {
     "duration": 0.079469,
     "end_time": "2024-05-02T17:46:49.917686",
     "exception": false,
     "start_time": "2024-05-02T17:46:49.838217",
     "status": "completed"
    },
    "tags": []
   },
   "outputs": [],
   "source": [
    "data.to_csv('data.csv', sep=',', index=False)"
   ]
  }
 ],
 "metadata": {
  "kaggle": {
   "accelerator": "none",
   "dataSources": [
    {
     "datasetId": 1570429,
     "sourceId": 2585197,
     "sourceType": "datasetVersion"
    }
   ],
   "dockerImageVersionId": 30698,
   "isGpuEnabled": false,
   "isInternetEnabled": true,
   "language": "python",
   "sourceType": "notebook"
  },
  "kernelspec": {
   "display_name": "Python 3",
   "language": "python",
   "name": "python3"
  },
  "language_info": {
   "codemirror_mode": {
    "name": "ipython",
    "version": 3
   },
   "file_extension": ".py",
   "mimetype": "text/x-python",
   "name": "python",
   "nbconvert_exporter": "python",
   "pygments_lexer": "ipython3",
   "version": "3.10.13"
  },
  "papermill": {
   "default_parameters": {},
   "duration": 5.386474,
   "end_time": "2024-05-02T17:46:50.444966",
   "environment_variables": {},
   "exception": null,
   "input_path": "__notebook__.ipynb",
   "output_path": "__notebook__.ipynb",
   "parameters": {},
   "start_time": "2024-05-02T17:46:45.058492",
   "version": "2.5.0"
  }
 },
 "nbformat": 4,
 "nbformat_minor": 5
}
