{
 "cells": [
  {
   "cell_type": "code",
   "execution_count": 39,
   "id": "a80922d7",
   "metadata": {},
   "outputs": [],
   "source": [
    "import pandas as pd"
   ]
  },
  {
   "cell_type": "code",
   "execution_count": 40,
   "id": "7e32f535",
   "metadata": {},
   "outputs": [
    {
     "name": "stdout",
     "output_type": "stream",
     "text": [
      "   adult                              belongs_to_collection    budget  \\\n",
      "0  False  {'id': 10194, 'name': 'Toy Story Collection', ...  30000000   \n",
      "1  False                                                NaN  65000000   \n",
      "2  False  {'id': 119050, 'name': 'Grumpy Old Men Collect...         0   \n",
      "\n",
      "                                              genres  \\\n",
      "0  [{'id': 16, 'name': 'Animation'}, {'id': 35, '...   \n",
      "1  [{'id': 12, 'name': 'Adventure'}, {'id': 14, '...   \n",
      "2  [{'id': 10749, 'name': 'Romance'}, {'id': 35, ...   \n",
      "\n",
      "                               homepage     id    imdb_id original_language  \\\n",
      "0  http://toystory.disney.com/toy-story    862  tt0114709                en   \n",
      "1                                   NaN   8844  tt0113497                en   \n",
      "2                                   NaN  15602  tt0113228                en   \n",
      "\n",
      "     original_title                                           overview  ...  \\\n",
      "0         Toy Story  Led by Woody, Andy's toys live happily in his ...  ...   \n",
      "1           Jumanji  When siblings Judy and Peter discover an encha...  ...   \n",
      "2  Grumpier Old Men  A family wedding reignites the ancient feud be...  ...   \n",
      "\n",
      "  release_date      revenue runtime  \\\n",
      "0   1995-10-30  373554033.0    81.0   \n",
      "1   1995-12-15  262797249.0   104.0   \n",
      "2   1995-12-22          0.0   101.0   \n",
      "\n",
      "                                    spoken_languages    status  \\\n",
      "0           [{'iso_639_1': 'en', 'name': 'English'}]  Released   \n",
      "1  [{'iso_639_1': 'en', 'name': 'English'}, {'iso...  Released   \n",
      "2           [{'iso_639_1': 'en', 'name': 'English'}]  Released   \n",
      "\n",
      "                                             tagline             title  video  \\\n",
      "0                                                NaN         Toy Story  False   \n",
      "1          Roll the dice and unleash the excitement!           Jumanji  False   \n",
      "2  Still Yelling. Still Fighting. Still Ready for...  Grumpier Old Men  False   \n",
      "\n",
      "  vote_average vote_count  \n",
      "0          7.7     5415.0  \n",
      "1          6.9     2413.0  \n",
      "2          6.5       92.0  \n",
      "\n",
      "[3 rows x 24 columns]\n",
      "0    Led by Woody, Andy's toys live happily in his ...\n",
      "1    When siblings Judy and Peter discover an encha...\n",
      "2    A family wedding reignites the ancient feud be...\n",
      "3    Cheated on, mistreated and stepped on, the wom...\n",
      "4    Just when George Banks has recovered from his ...\n",
      "Name: overview, dtype: object\n"
     ]
    }
   ],
   "source": [
    "\n",
    "# Load Movies Metadata\n",
    "metadata = pd.read_csv('C:/Users/trangdo/Documents/HocTap/Lab/Recommender_Python/recommender_systems_in_python/archive/movies_metadata.csv', low_memory=False)\n",
    "\n",
    "print(metadata.head(3))\n",
    "#Print plot overviews of the first 5 movies.\n",
    "print(metadata['overview'].head())\n"
   ]
  },
  {
   "cell_type": "code",
   "execution_count": 41,
   "id": "bf84eac2",
   "metadata": {},
   "outputs": [],
   "source": [
    "#Import TfIdfVectorizer from scikit-learn\n",
    "from sklearn.feature_extraction.text import TfidfVectorizer"
   ]
  },
  {
   "cell_type": "code",
   "execution_count": 42,
   "id": "ef930aca",
   "metadata": {},
   "outputs": [
    {
     "data": {
      "text/plain": [
       "(45466, 24)"
      ]
     },
     "execution_count": 42,
     "metadata": {},
     "output_type": "execute_result"
    }
   ],
   "source": [
    "metadata.shape"
   ]
  },
  {
   "cell_type": "code",
   "execution_count": 43,
   "id": "1afad895",
   "metadata": {},
   "outputs": [
    {
     "name": "stdout",
     "output_type": "stream",
     "text": [
      "tfidf_matrix.shape :  (45466, 75827)\n",
      "['avails' 'avaks' 'avalanche' 'avalanches' 'avallone' 'avalon' 'avant'\n",
      " 'avanthika' 'avanti' 'avaracious']\n"
     ]
    }
   ],
   "source": [
    "#Define a TF-IDF Vectorizer Object. Remove all english stop words such as 'the', 'a'\n",
    "tfidf = TfidfVectorizer(stop_words='english') # xu ly van ban\n",
    "\n",
    "#Replace NaN with an empty string\n",
    "metadata['overview'] = metadata['overview'].fillna('') # voi nhung item k co overview thay the thanh ' '\n",
    "\n",
    "#Construct the required TF-IDF matrix by fitting and transforming the data\n",
    "# tao matrix moi da xu ly van ban overview\n",
    "# row : document, column : feature\n",
    "tfidf_matrix = tfidf.fit_transform(metadata['overview']) # ko hieu ham nay hoat dộng kieu gi\n",
    "\n",
    "#Output the shape of tfidf_matrix\n",
    "print(\"tfidf_matrix.shape : \", tfidf_matrix.shape)\n",
    "\n",
    "#Array mapping from feature integer indices to feature name.\n",
    "print(tfidf.get_feature_names_out()[5000:5010]) # Lay feature name từ index 5000 -> 5009"
   ]
  },
  {
   "cell_type": "code",
   "execution_count": 44,
   "id": "a02e2dd2",
   "metadata": {},
   "outputs": [
    {
     "name": "stdout",
     "output_type": "stream",
     "text": [
      "metadata['overview'].shape :  (45466,)\n",
      "['andrée' 'andrés' 'andthe' 'andula' 'andy' 'andía' 'ane' 'anecdotal'\n",
      " 'anecdote' 'anecdotes']\n"
     ]
    }
   ],
   "source": [
    "print(\"metadata['overview'].shape : \", metadata['overview'].shape)\n",
    "print(tfidf.get_feature_names_out()[3155:3165])"
   ]
  },
  {
   "cell_type": "code",
   "execution_count": 45,
   "id": "ba8b0d00",
   "metadata": {},
   "outputs": [
    {
     "name": "stdout",
     "output_type": "stream",
     "text": [
      "Led by Woody, Andy's toys live happily in his room until Andy's birthday brings Buzz Lightyear onto the scene. Afraid of losing his place in Andy's heart, Woody plots against Buzz. But when circumstances separate Buzz and Woody from their owner, the duo eventually learns to put aside their differences.\n",
      "  (0, 17764)\t0.13483149538639247\n",
      "  (0, 4388)\t0.1474882034218405\n",
      "  (0, 38030)\t0.10142919482788751\n",
      "  (0, 21887)\t0.10438761058719498\n",
      "  (0, 19641)\t0.13281884272823927\n",
      "  (0, 48558)\t0.10339358185033234\n",
      "  (0, 59519)\t0.13008016104455086\n",
      "  (0, 12490)\t0.12544427954397822\n",
      "  (0, 51108)\t0.13434817283119177\n",
      "  (0, 29238)\t0.10093917370354445\n",
      "  (0, 50914)\t0.09190797940163035\n",
      "  (0, 39423)\t0.11907123344715953\n",
      "  (0, 1847)\t0.140911774178889\n",
      "  (0, 58571)\t0.1135591886873686\n",
      "  (0, 38693)\t0.20627924682810617\n",
      "  (0, 9874)\t0.5028038686135609\n",
      "  (0, 9087)\t0.10635375129287977\n",
      "  (0, 7491)\t0.12380553184830104\n",
      "  (0, 56872)\t0.111248510865236\n",
      "  (0, 28729)\t0.13311522181618415\n",
      "  (0, 39012)\t0.08718689178959059\n",
      "  (0, 67874)\t0.14878284660693247\n",
      "  (0, 3159)\t0.41178365711725945\n",
      "  (0, 73468)\t0.4809827114790237\n",
      "  (0, 38088)\t0.10739705953465473\n"
     ]
    }
   ],
   "source": [
    "print(metadata['overview'][0])\n",
    "print(tfidf_matrix[0])"
   ]
  },
  {
   "cell_type": "code",
   "execution_count": 46,
   "id": "0469136f",
   "metadata": {
    "scrolled": true
   },
   "outputs": [
    {
     "data": {
      "text/html": [
       "<div>\n",
       "<style scoped>\n",
       "    .dataframe tbody tr th:only-of-type {\n",
       "        vertical-align: middle;\n",
       "    }\n",
       "\n",
       "    .dataframe tbody tr th {\n",
       "        vertical-align: top;\n",
       "    }\n",
       "\n",
       "    .dataframe thead th {\n",
       "        text-align: right;\n",
       "    }\n",
       "</style>\n",
       "<table border=\"1\" class=\"dataframe\">\n",
       "  <thead>\n",
       "    <tr style=\"text-align: right;\">\n",
       "      <th></th>\n",
       "      <th>overview</th>\n",
       "    </tr>\n",
       "  </thead>\n",
       "  <tbody>\n",
       "    <tr>\n",
       "      <th>0</th>\n",
       "      <td>Led by Woody, Andy's toys live happily in his ...</td>\n",
       "    </tr>\n",
       "    <tr>\n",
       "      <th>1</th>\n",
       "      <td>When siblings Judy and Peter discover an encha...</td>\n",
       "    </tr>\n",
       "    <tr>\n",
       "      <th>2</th>\n",
       "      <td>A family wedding reignites the ancient feud be...</td>\n",
       "    </tr>\n",
       "    <tr>\n",
       "      <th>3</th>\n",
       "      <td>Cheated on, mistreated and stepped on, the wom...</td>\n",
       "    </tr>\n",
       "    <tr>\n",
       "      <th>4</th>\n",
       "      <td>Just when George Banks has recovered from his ...</td>\n",
       "    </tr>\n",
       "    <tr>\n",
       "      <th>...</th>\n",
       "      <td>...</td>\n",
       "    </tr>\n",
       "    <tr>\n",
       "      <th>45461</th>\n",
       "      <td>Rising and falling between a man and woman.</td>\n",
       "    </tr>\n",
       "    <tr>\n",
       "      <th>45462</th>\n",
       "      <td>An artist struggles to finish his work while a...</td>\n",
       "    </tr>\n",
       "    <tr>\n",
       "      <th>45463</th>\n",
       "      <td>When one of her hits goes wrong, a professiona...</td>\n",
       "    </tr>\n",
       "    <tr>\n",
       "      <th>45464</th>\n",
       "      <td>In a small town live two brothers, one a minis...</td>\n",
       "    </tr>\n",
       "    <tr>\n",
       "      <th>45465</th>\n",
       "      <td>50 years after decriminalisation of homosexual...</td>\n",
       "    </tr>\n",
       "  </tbody>\n",
       "</table>\n",
       "<p>45466 rows × 1 columns</p>\n",
       "</div>"
      ],
      "text/plain": [
       "                                                overview\n",
       "0      Led by Woody, Andy's toys live happily in his ...\n",
       "1      When siblings Judy and Peter discover an encha...\n",
       "2      A family wedding reignites the ancient feud be...\n",
       "3      Cheated on, mistreated and stepped on, the wom...\n",
       "4      Just when George Banks has recovered from his ...\n",
       "...                                                  ...\n",
       "45461        Rising and falling between a man and woman.\n",
       "45462  An artist struggles to finish his work while a...\n",
       "45463  When one of her hits goes wrong, a professiona...\n",
       "45464  In a small town live two brothers, one a minis...\n",
       "45465  50 years after decriminalisation of homosexual...\n",
       "\n",
       "[45466 rows x 1 columns]"
      ]
     },
     "execution_count": 46,
     "metadata": {},
     "output_type": "execute_result"
    }
   ],
   "source": [
    "pd.DataFrame(metadata['overview'])"
   ]
  },
  {
   "cell_type": "code",
   "execution_count": 47,
   "id": "c36e9b9f",
   "metadata": {},
   "outputs": [
    {
     "data": {
      "text/html": [
       "<div>\n",
       "<style scoped>\n",
       "    .dataframe tbody tr th:only-of-type {\n",
       "        vertical-align: middle;\n",
       "    }\n",
       "\n",
       "    .dataframe tbody tr th {\n",
       "        vertical-align: top;\n",
       "    }\n",
       "\n",
       "    .dataframe thead th {\n",
       "        text-align: right;\n",
       "    }\n",
       "</style>\n",
       "<table border=\"1\" class=\"dataframe\">\n",
       "  <thead>\n",
       "    <tr style=\"text-align: right;\">\n",
       "      <th></th>\n",
       "      <th>0</th>\n",
       "    </tr>\n",
       "  </thead>\n",
       "  <tbody>\n",
       "    <tr>\n",
       "      <th>0</th>\n",
       "      <td>(0, 17764)\\t0.13483149538639247\\n  (0, 4388)...</td>\n",
       "    </tr>\n",
       "    <tr>\n",
       "      <th>1</th>\n",
       "      <td>(0, 14988)\\t0.15233435064749146\\n  (0, 66484...</td>\n",
       "    </tr>\n",
       "    <tr>\n",
       "      <th>2</th>\n",
       "      <td>(0, 67150)\\t0.09013326169468926\\n  (0, 30668...</td>\n",
       "    </tr>\n",
       "    <tr>\n",
       "      <th>3</th>\n",
       "      <td>(0, 8909)\\t0.2524772113861553\\n  (0, 72417)\\...</td>\n",
       "    </tr>\n",
       "    <tr>\n",
       "      <th>4</th>\n",
       "      <td>(0, 35872)\\t0.18466136938635244\\n  (0, 27260...</td>\n",
       "    </tr>\n",
       "    <tr>\n",
       "      <th>...</th>\n",
       "      <td>...</td>\n",
       "    </tr>\n",
       "    <tr>\n",
       "      <th>45461</th>\n",
       "      <td>(0, 56405)\\t0.6771266635239638\\n  (0, 22632)...</td>\n",
       "    </tr>\n",
       "    <tr>\n",
       "      <th>45462</th>\n",
       "      <td>(0, 63819)\\t0.474848181921328\\n  (0, 4251)\\t...</td>\n",
       "    </tr>\n",
       "    <tr>\n",
       "      <th>45463</th>\n",
       "      <td>(0, 6761)\\t0.3715972018149557\\n  (0, 30135)\\...</td>\n",
       "    </tr>\n",
       "    <tr>\n",
       "      <th>45464</th>\n",
       "      <td>(0, 20273)\\t0.1677505411397102\\n  (0, 15394)...</td>\n",
       "    </tr>\n",
       "    <tr>\n",
       "      <th>45465</th>\n",
       "      <td>(0, 16520)\\t0.32373307886945113\\n  (0, 7157)...</td>\n",
       "    </tr>\n",
       "  </tbody>\n",
       "</table>\n",
       "<p>45466 rows × 1 columns</p>\n",
       "</div>"
      ],
      "text/plain": [
       "                                                       0\n",
       "0        (0, 17764)\\t0.13483149538639247\\n  (0, 4388)...\n",
       "1        (0, 14988)\\t0.15233435064749146\\n  (0, 66484...\n",
       "2        (0, 67150)\\t0.09013326169468926\\n  (0, 30668...\n",
       "3        (0, 8909)\\t0.2524772113861553\\n  (0, 72417)\\...\n",
       "4        (0, 35872)\\t0.18466136938635244\\n  (0, 27260...\n",
       "...                                                  ...\n",
       "45461    (0, 56405)\\t0.6771266635239638\\n  (0, 22632)...\n",
       "45462    (0, 63819)\\t0.474848181921328\\n  (0, 4251)\\t...\n",
       "45463    (0, 6761)\\t0.3715972018149557\\n  (0, 30135)\\...\n",
       "45464    (0, 20273)\\t0.1677505411397102\\n  (0, 15394)...\n",
       "45465    (0, 16520)\\t0.32373307886945113\\n  (0, 7157)...\n",
       "\n",
       "[45466 rows x 1 columns]"
      ]
     },
     "execution_count": 47,
     "metadata": {},
     "output_type": "execute_result"
    }
   ],
   "source": [
    "tf = pd.DataFrame(tfidf_matrix)\n",
    "tf"
   ]
  },
  {
   "cell_type": "code",
   "execution_count": 48,
   "id": "71833d19",
   "metadata": {},
   "outputs": [
    {
     "name": "stdout",
     "output_type": "stream",
     "text": [
      "tfidf_matrix_1 : \n",
      "    (0, 14988)\t0.15233435064749146\n",
      "  (0, 66484)\t0.14663603807361472\n",
      "  (0, 44008)\t0.21120411735917297\n",
      "  (0, 21928)\t0.11581823179974537\n",
      "  (0, 56115)\t0.24391033514410979\n",
      "  (0, 26327)\t0.14635121510805393\n",
      "  (0, 57298)\t0.140307006797506\n",
      "  (0, 56411)\t0.19142579477068034\n",
      "  (0, 52773)\t0.15282587986574794\n",
      "  (0, 23564)\t0.16446724293324655\n",
      "  (0, 24726)\t0.14142889243827067\n",
      "  (0, 30511)\t0.1324838293546845\n",
      "  (0, 39031)\t0.10512419788407477\n",
      "  (0, 74030)\t0.08644041777153641\n",
      "  (0, 593)\t0.1907966228419227\n",
      "  (0, 32643)\t0.13125796666261996\n",
      "  (0, 68121)\t0.13716579287092048\n",
      "  (0, 1678)\t0.1504646559554162\n",
      "  (0, 2262)\t0.3301708473810977\n",
      "  (0, 33164)\t0.18900392160046467\n",
      "  (0, 70124)\t0.1663726092054478\n",
      "  (0, 73531)\t0.07978207858932576\n",
      "  (0, 40220)\t0.14821604585843537\n",
      "  (0, 18919)\t0.14384662547526483\n",
      "  (0, 47769)\t0.15436507008138664\n",
      "  (0, 25498)\t0.37109887873910524\n",
      "  (0, 7963)\t0.15233435064749146\n",
      "  (0, 20907)\t0.1901837949034981\n",
      "  (0, 18119)\t0.11584411501583824\n",
      "  (0, 50220)\t0.14038016204713533\n",
      "  (0, 34633)\t0.1907966228419227\n",
      "  (0, 60735)\t0.16820596223387843\n",
      "  (0, 56872)\t0.1352037236381358\n"
     ]
    }
   ],
   "source": [
    "print(\"tfidf_matrix_1 : \\n \", tfidf_matrix[:][1]) "
   ]
  },
  {
   "cell_type": "code",
   "execution_count": 49,
   "id": "b33fc999",
   "metadata": {},
   "outputs": [
    {
     "ename": "MemoryError",
     "evalue": "Unable to allocate 15.4 GiB for an array with shape (45466, 45466) and data type float64",
     "output_type": "error",
     "traceback": [
      "\u001B[1;31m---------------------------------------------------------------------------\u001B[0m",
      "\u001B[1;31mMemoryError\u001B[0m                               Traceback (most recent call last)",
      "Cell \u001B[1;32mIn[49], line 5\u001B[0m\n\u001B[0;32m      2\u001B[0m \u001B[38;5;28;01mfrom\u001B[39;00m \u001B[38;5;21;01msklearn\u001B[39;00m\u001B[38;5;21;01m.\u001B[39;00m\u001B[38;5;21;01mmetrics\u001B[39;00m\u001B[38;5;21;01m.\u001B[39;00m\u001B[38;5;21;01mpairwise\u001B[39;00m \u001B[38;5;28;01mimport\u001B[39;00m linear_kernel\n\u001B[0;32m      4\u001B[0m \u001B[38;5;66;03m# Compute the cosine similarity matrix\u001B[39;00m\n\u001B[1;32m----> 5\u001B[0m cosine_sim \u001B[38;5;241m=\u001B[39m \u001B[43mlinear_kernel\u001B[49m\u001B[43m(\u001B[49m\u001B[43mtfidf_matrix\u001B[49m\u001B[43m,\u001B[49m\u001B[43m \u001B[49m\u001B[43mtfidf_matrix\u001B[49m\u001B[43m)\u001B[49m \u001B[38;5;66;03m# tính similarity giữa các rows với nhau -> shape : row x row\u001B[39;00m\n\u001B[0;32m      6\u001B[0m \u001B[38;5;28mprint\u001B[39m(\u001B[38;5;124m\"\u001B[39m\u001B[38;5;124mcosine_sim.shape : \u001B[39m\u001B[38;5;124m\"\u001B[39m, cosine_sim\u001B[38;5;241m.\u001B[39mshape)\n",
      "File \u001B[1;32mC:\\ProgramData\\anaconda3\\lib\\site-packages\\sklearn\\metrics\\pairwise.py:1204\u001B[0m, in \u001B[0;36mlinear_kernel\u001B[1;34m(X, Y, dense_output)\u001B[0m\n\u001B[0;32m   1179\u001B[0m \u001B[38;5;124;03m\"\"\"\u001B[39;00m\n\u001B[0;32m   1180\u001B[0m \u001B[38;5;124;03mCompute the linear kernel between X and Y.\u001B[39;00m\n\u001B[0;32m   1181\u001B[0m \n\u001B[1;32m   (...)\u001B[0m\n\u001B[0;32m   1201\u001B[0m \u001B[38;5;124;03m    The Gram matrix of the linear kernel, i.e. `X @ Y.T`.\u001B[39;00m\n\u001B[0;32m   1202\u001B[0m \u001B[38;5;124;03m\"\"\"\u001B[39;00m\n\u001B[0;32m   1203\u001B[0m X, Y \u001B[38;5;241m=\u001B[39m check_pairwise_arrays(X, Y)\n\u001B[1;32m-> 1204\u001B[0m \u001B[38;5;28;01mreturn\u001B[39;00m \u001B[43msafe_sparse_dot\u001B[49m\u001B[43m(\u001B[49m\u001B[43mX\u001B[49m\u001B[43m,\u001B[49m\u001B[43m \u001B[49m\u001B[43mY\u001B[49m\u001B[38;5;241;43m.\u001B[39;49m\u001B[43mT\u001B[49m\u001B[43m,\u001B[49m\u001B[43m \u001B[49m\u001B[43mdense_output\u001B[49m\u001B[38;5;241;43m=\u001B[39;49m\u001B[43mdense_output\u001B[49m\u001B[43m)\u001B[49m\n",
      "File \u001B[1;32mC:\\ProgramData\\anaconda3\\lib\\site-packages\\sklearn\\utils\\extmath.py:197\u001B[0m, in \u001B[0;36msafe_sparse_dot\u001B[1;34m(a, b, dense_output)\u001B[0m\n\u001B[0;32m    189\u001B[0m     ret \u001B[38;5;241m=\u001B[39m a \u001B[38;5;241m@\u001B[39m b\n\u001B[0;32m    191\u001B[0m \u001B[38;5;28;01mif\u001B[39;00m (\n\u001B[0;32m    192\u001B[0m     sparse\u001B[38;5;241m.\u001B[39missparse(a)\n\u001B[0;32m    193\u001B[0m     \u001B[38;5;129;01mand\u001B[39;00m sparse\u001B[38;5;241m.\u001B[39missparse(b)\n\u001B[0;32m    194\u001B[0m     \u001B[38;5;129;01mand\u001B[39;00m dense_output\n\u001B[0;32m    195\u001B[0m     \u001B[38;5;129;01mand\u001B[39;00m \u001B[38;5;28mhasattr\u001B[39m(ret, \u001B[38;5;124m\"\u001B[39m\u001B[38;5;124mtoarray\u001B[39m\u001B[38;5;124m\"\u001B[39m)\n\u001B[0;32m    196\u001B[0m ):\n\u001B[1;32m--> 197\u001B[0m     \u001B[38;5;28;01mreturn\u001B[39;00m \u001B[43mret\u001B[49m\u001B[38;5;241;43m.\u001B[39;49m\u001B[43mtoarray\u001B[49m\u001B[43m(\u001B[49m\u001B[43m)\u001B[49m\n\u001B[0;32m    198\u001B[0m \u001B[38;5;28;01mreturn\u001B[39;00m ret\n",
      "File \u001B[1;32mC:\\ProgramData\\anaconda3\\lib\\site-packages\\scipy\\sparse\\_compressed.py:1051\u001B[0m, in \u001B[0;36m_cs_matrix.toarray\u001B[1;34m(self, order, out)\u001B[0m\n\u001B[0;32m   1049\u001B[0m \u001B[38;5;28;01mif\u001B[39;00m out \u001B[38;5;129;01mis\u001B[39;00m \u001B[38;5;28;01mNone\u001B[39;00m \u001B[38;5;129;01mand\u001B[39;00m order \u001B[38;5;129;01mis\u001B[39;00m \u001B[38;5;28;01mNone\u001B[39;00m:\n\u001B[0;32m   1050\u001B[0m     order \u001B[38;5;241m=\u001B[39m \u001B[38;5;28mself\u001B[39m\u001B[38;5;241m.\u001B[39m_swap(\u001B[38;5;124m'\u001B[39m\u001B[38;5;124mcf\u001B[39m\u001B[38;5;124m'\u001B[39m)[\u001B[38;5;241m0\u001B[39m]\n\u001B[1;32m-> 1051\u001B[0m out \u001B[38;5;241m=\u001B[39m \u001B[38;5;28;43mself\u001B[39;49m\u001B[38;5;241;43m.\u001B[39;49m\u001B[43m_process_toarray_args\u001B[49m\u001B[43m(\u001B[49m\u001B[43morder\u001B[49m\u001B[43m,\u001B[49m\u001B[43m \u001B[49m\u001B[43mout\u001B[49m\u001B[43m)\u001B[49m\n\u001B[0;32m   1052\u001B[0m \u001B[38;5;28;01mif\u001B[39;00m \u001B[38;5;129;01mnot\u001B[39;00m (out\u001B[38;5;241m.\u001B[39mflags\u001B[38;5;241m.\u001B[39mc_contiguous \u001B[38;5;129;01mor\u001B[39;00m out\u001B[38;5;241m.\u001B[39mflags\u001B[38;5;241m.\u001B[39mf_contiguous):\n\u001B[0;32m   1053\u001B[0m     \u001B[38;5;28;01mraise\u001B[39;00m \u001B[38;5;167;01mValueError\u001B[39;00m(\u001B[38;5;124m'\u001B[39m\u001B[38;5;124mOutput array must be C or F contiguous\u001B[39m\u001B[38;5;124m'\u001B[39m)\n",
      "File \u001B[1;32mC:\\ProgramData\\anaconda3\\lib\\site-packages\\scipy\\sparse\\_base.py:1298\u001B[0m, in \u001B[0;36mspmatrix._process_toarray_args\u001B[1;34m(self, order, out)\u001B[0m\n\u001B[0;32m   1296\u001B[0m     \u001B[38;5;28;01mreturn\u001B[39;00m out\n\u001B[0;32m   1297\u001B[0m \u001B[38;5;28;01melse\u001B[39;00m:\n\u001B[1;32m-> 1298\u001B[0m     \u001B[38;5;28;01mreturn\u001B[39;00m \u001B[43mnp\u001B[49m\u001B[38;5;241;43m.\u001B[39;49m\u001B[43mzeros\u001B[49m\u001B[43m(\u001B[49m\u001B[38;5;28;43mself\u001B[39;49m\u001B[38;5;241;43m.\u001B[39;49m\u001B[43mshape\u001B[49m\u001B[43m,\u001B[49m\u001B[43m \u001B[49m\u001B[43mdtype\u001B[49m\u001B[38;5;241;43m=\u001B[39;49m\u001B[38;5;28;43mself\u001B[39;49m\u001B[38;5;241;43m.\u001B[39;49m\u001B[43mdtype\u001B[49m\u001B[43m,\u001B[49m\u001B[43m \u001B[49m\u001B[43morder\u001B[49m\u001B[38;5;241;43m=\u001B[39;49m\u001B[43morder\u001B[49m\u001B[43m)\u001B[49m\n",
      "\u001B[1;31mMemoryError\u001B[0m: Unable to allocate 15.4 GiB for an array with shape (45466, 45466) and data type float64"
     ]
    }
   ],
   "source": [
    "# Import linear_kernel\n",
    "from sklearn.metrics.pairwise import linear_kernel\n",
    "\n",
    "# Compute the cosine similarity matrix\n",
    "cosine_sim = linear_kernel(tfidf_matrix, tfidf_matrix) # tính similarity giữa các rows với nhau -> shape : row x row\n",
    "print(\"cosine_sim.shape : \", cosine_sim.shape)\n"
   ]
  },
  {
   "cell_type": "code",
   "execution_count": null,
   "id": "f6cd8194",
   "metadata": {},
   "outputs": [],
   "source": [
    "#Construct a reverse map of indices and movie titles\n",
    "indices = pd.Series(metadata.index, index=metadata['title']).drop_duplicates()"
   ]
  },
  {
   "cell_type": "code",
   "execution_count": null,
   "id": "4f38e6e2",
   "metadata": {},
   "outputs": [],
   "source": [
    "# indices.shape\n",
    "indices[:10]"
   ]
  },
  {
   "cell_type": "code",
   "execution_count": null,
   "id": "c6713706",
   "metadata": {},
   "outputs": [],
   "source": [
    "# Function that takes in movie title as input and outputs most similar movies\n",
    "# cho title của một movie vào và cho ra top 10 movies giong nhat\n",
    "def get_recommendations(title, cosine_sim=cosine_sim):\n",
    "    # Get the index of the movie that matches the title\n",
    "    idx = indices[title]\n",
    "\n",
    "    # Get the pairwsie similarity scores of all movies with that movie\n",
    "    sim_scores = list(enumerate(cosine_sim[idx])) # tinh similarity theo cap\n",
    "\n",
    "    # Sort the movies based on the similarity scores\n",
    "    sim_scores = sorted(sim_scores, key=lambda x: x[1], reverse=True) # sort sim_scores\n",
    "\n",
    "    # Get the scores of the 10 most similar movies\n",
    "    sim_scores = sim_scores[1:11] # lay 10 movies co similarity cao nhat\n",
    "\n",
    "    # Get the movie indices\n",
    "    movie_indices = [i[0] for i in sim_scores]\n",
    "\n",
    "    # Return the top 10 most similar movies\n",
    "    return metadata['title'].iloc[movie_indices]\n",
    "\n"
   ]
  },
  {
   "cell_type": "code",
   "execution_count": null,
   "id": "5083413e",
   "metadata": {},
   "outputs": [],
   "source": [
    "get_recommendations('The Dark Knight Rises')"
   ]
  },
  {
   "cell_type": "code",
   "execution_count": null,
   "id": "ae91e8e9",
   "metadata": {},
   "outputs": [],
   "source": [
    "# Credits, Genres, and Keywords Based Recommender"
   ]
  },
  {
   "cell_type": "code",
   "execution_count": null,
   "id": "53efedaf",
   "metadata": {},
   "outputs": [],
   "source": [
    "metadata.shape\n",
    "metadata[19727:19731]\n",
    "metadata[29500:29505]\n",
    "# metadata[35587]"
   ]
  },
  {
   "cell_type": "code",
   "execution_count": null,
   "id": "b226165e",
   "metadata": {},
   "outputs": [],
   "source": [
    "# Load keywords and credits\n",
    "credits = pd.read_csv('C:/Users/trangdo/Documents/HocTap/Lab/Recommender_Python/recommender_systems_in_python/archive/credits.csv')\n",
    "keywords = pd.read_csv('C:/Users/trangdo/Documents/HocTap/Lab/Recommender_Python/recommender_systems_in_python/archive/keywords.csv')\n",
    "\n",
    "# Remove rows with bad IDs.\n",
    "metadata = metadata.drop([19730, 29503, 35587]) # loai bo ID sai, chon thu cong\n",
    "\n",
    "# Convert IDs to int. Required for merging\n",
    "keywords['id'] = keywords['id'].astype('int')\n",
    "credits['id'] = credits['id'].astype('int')\n",
    "metadata['id'] = metadata['id'].astype('int')\n",
    "\n",
    "# Merge keywords and credits into your main metadata dataframe\n",
    "metadata = metadata.merge(credits, on='id')\n",
    "metadata = metadata.merge(keywords, on='id')\n"
   ]
  },
  {
   "cell_type": "code",
   "execution_count": null,
   "id": "d7815a68",
   "metadata": {},
   "outputs": [],
   "source": [
    "metadata.head(2)"
   ]
  },
  {
   "cell_type": "code",
   "execution_count": null,
   "id": "e7043ad1",
   "metadata": {},
   "outputs": [],
   "source": [
    "# Parse the stringified features into their corresponding python objects\n",
    "from ast import literal_eval # literal_over dung de phan tich danh gia cac chuoi Python an toan\n",
    "\n",
    "features = ['cast', 'crew', 'keywords', 'genres']\n",
    "for feature in features:\n",
    "    metadata[feature] = metadata[feature].apply(literal_eval) # chuyen doi tu text -> python objects\n"
   ]
  },
  {
   "cell_type": "code",
   "execution_count": null,
   "id": "183cf19a",
   "metadata": {},
   "outputs": [],
   "source": [
    "import numpy as np"
   ]
  },
  {
   "cell_type": "code",
   "execution_count": null,
   "id": "fa61a7b7",
   "metadata": {},
   "outputs": [],
   "source": [
    "# lay ten dao dien\n",
    "def get_director(x):\n",
    "    for i in x:\n",
    "        if i['job'] == 'Director':\n",
    "            return i['name']\n",
    "    return np.nan\n"
   ]
  },
  {
   "cell_type": "code",
   "execution_count": null,
   "id": "19dd597e",
   "metadata": {},
   "outputs": [],
   "source": [
    "def get_list(x):\n",
    "    if isinstance(x, list):\n",
    "        names = [i['name'] for i in x]\n",
    "        #Check if more than 3 elements exist. If yes, return only first three. If no, return entire list.\n",
    "        if len(names) > 3:\n",
    "            names = names[:3]\n",
    "        return names\n",
    "\n",
    "    #Return empty list in case of missing/malformed data\n",
    "    return []\n"
   ]
  },
  {
   "cell_type": "code",
   "execution_count": null,
   "id": "1e61d85f",
   "metadata": {},
   "outputs": [],
   "source": [
    "# Define new director, cast, genres and keywords features that are in a suitable form.\n",
    "metadata['director'] = metadata['crew'].apply(get_director) # them cot ten dao dien\n",
    "\n",
    "features = ['cast', 'keywords', 'genres']\n",
    "for feature in features:\n",
    "    metadata[feature] = metadata[feature].apply(get_list) # them cot voi 3 phan tu dao tien trong list\n"
   ]
  },
  {
   "cell_type": "code",
   "execution_count": null,
   "id": "9799d6c4",
   "metadata": {},
   "outputs": [],
   "source": [
    "# Print the new features of the first 3 films\n",
    "metadata[['title', 'cast', 'director', 'keywords', 'genres']].head(3)"
   ]
  },
  {
   "cell_type": "code",
   "execution_count": null,
   "id": "f84939b0",
   "metadata": {},
   "outputs": [],
   "source": [
    "# Function to convert all strings to lower case and strip names of spaces\n",
    "def clean_data(x):\n",
    "    if isinstance(x, list):\n",
    "        return [str.lower(i.replace(\" \", \"\")) for i in x]\n",
    "    else:\n",
    "        #Check if director exists. If not, return empty string\n",
    "        if isinstance(x, str):\n",
    "            return str.lower(x.replace(\" \", \"\"))\n",
    "        else:\n",
    "            return ''"
   ]
  },
  {
   "cell_type": "code",
   "execution_count": null,
   "id": "cd383983",
   "metadata": {},
   "outputs": [],
   "source": [
    "# Apply clean_data function to your features.\n",
    "features = ['cast', 'keywords', 'director', 'genres']\n",
    "\n",
    "for feature in features:\n",
    "    metadata[feature] = metadata[feature].apply(clean_data)\n"
   ]
  },
  {
   "cell_type": "code",
   "execution_count": null,
   "id": "81d43af1",
   "metadata": {},
   "outputs": [],
   "source": [
    "metadata.shape"
   ]
  },
  {
   "cell_type": "code",
   "execution_count": null,
   "id": "5f424fe7",
   "metadata": {},
   "outputs": [],
   "source": [
    "def create_soup(x):\n",
    "    return ' '.join(x['keywords']) + ' ' + ' '.join(x['cast']) + ' ' + x['director'] + ' ' + ' '.join(x['genres'])\n"
   ]
  },
  {
   "cell_type": "code",
   "execution_count": null,
   "id": "fcaf1735",
   "metadata": {},
   "outputs": [],
   "source": [
    "# Create a new soup feature\n",
    "metadata['soup'] = metadata.apply(create_soup, axis=1) # mot feature gom mot chuoi chu viet thuong da dc xu ly boi ham clean_data & create_soup\n"
   ]
  },
  {
   "cell_type": "code",
   "execution_count": null,
   "id": "2c4daaca",
   "metadata": {
    "scrolled": true
   },
   "outputs": [],
   "source": [
    "metadata[['soup']].head(2)"
   ]
  },
  {
   "cell_type": "code",
   "execution_count": null,
   "id": "40323947",
   "metadata": {},
   "outputs": [],
   "source": [
    "metadata[['soup']].shape"
   ]
  },
  {
   "cell_type": "code",
   "execution_count": null,
   "id": "187fd40c",
   "metadata": {},
   "outputs": [],
   "source": [
    "# Import CountVectorizer and create the count matrix\n",
    "from sklearn.feature_extraction.text import CountVectorizer\n",
    "\n",
    "count = CountVectorizer(stop_words='english')\n",
    "count_matrix = count.fit_transform(metadata['soup']) # khac gi vơi tfidf o tren ??\n",
    "# fit : tim hieu von tu vung trong van ban\n",
    "# transform : chuyen thanh ma tran so the hien tan suat xuat hien cua mot tu cu the"
   ]
  },
  {
   "cell_type": "code",
   "execution_count": null,
   "id": "d0ca9ba4",
   "metadata": {},
   "outputs": [],
   "source": [
    "count_matrix.shape # tai sao lai ra duoc shape nay"
   ]
  },
  {
   "cell_type": "code",
   "execution_count": null,
   "id": "7a0a2a93",
   "metadata": {},
   "outputs": [],
   "source": [
    "count_matrix"
   ]
  },
  {
   "cell_type": "code",
   "execution_count": null,
   "id": "944a4179",
   "metadata": {},
   "outputs": [],
   "source": [
    "# Compute the Cosine Similarity matrix based on the count_matrix\n",
    "from sklearn.metrics.pairwise import cosine_similarity\n",
    "\n",
    "cosine_sim2 = cosine_similarity(count_matrix, count_matrix)\n"
   ]
  },
  {
   "cell_type": "code",
   "execution_count": null,
   "id": "b90f981b",
   "metadata": {},
   "outputs": [],
   "source": [
    "# Reset index of your main DataFrame and construct reverse mapping as before\n",
    "metadata = metadata.reset_index()\n",
    "indices = pd.Series(metadata.index, index=metadata['title'])\n"
   ]
  },
  {
   "cell_type": "code",
   "execution_count": null,
   "id": "5bb1fb3f",
   "metadata": {},
   "outputs": [],
   "source": [
    "get_recommendations('The Dark Knight Rises', cosine_sim2)"
   ]
  },
  {
   "cell_type": "code",
   "execution_count": null,
   "id": "1b8115c5",
   "metadata": {},
   "outputs": [],
   "source": []
  },
  {
   "cell_type": "code",
   "execution_count": null,
   "id": "d121ad3d",
   "metadata": {},
   "outputs": [],
   "source": []
  },
  {
   "cell_type": "code",
   "execution_count": null,
   "id": "3f00ffcc",
   "metadata": {},
   "outputs": [],
   "source": []
  }
 ],
 "metadata": {
  "kernelspec": {
   "display_name": "Python 3 (ipykernel)",
   "language": "python",
   "name": "python3"
  },
  "language_info": {
   "codemirror_mode": {
    "name": "ipython",
    "version": 3
   },
   "file_extension": ".py",
   "mimetype": "text/x-python",
   "name": "python",
   "nbconvert_exporter": "python",
   "pygments_lexer": "ipython3",
   "version": "3.10.9"
  }
 },
 "nbformat": 4,
 "nbformat_minor": 5
}
